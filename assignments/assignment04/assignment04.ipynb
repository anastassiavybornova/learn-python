{
 "cells": [
  {
   "cell_type": "markdown",
   "metadata": {},
   "source": [
    "# Assignment 04\n",
    "\n",
    "for the course [Introduction to Data Science and Programming](https://learnit.itu.dk/course/view.php?id=3022199) (Autumn 2023) at ITU\n",
    "\n",
    "**Due: October 9, 23:59**\n",
    "\n",
    "Before you turn this assignment in, make sure everything runs as expected. (Go to `Restart and run all` - should not throw any assertion errors.) \n",
    "\n",
    "Make sure you fill in any place that says `YOUR CODE HERE` or \"YOUR ANSWER HERE\", as well as your name and ITU email address below:"
   ]
  },
  {
   "cell_type": "code",
   "execution_count": null,
   "metadata": {},
   "outputs": [],
   "source": [
    "NAME = \"\"\n",
    "ITU_MAIL = \"\" # xxxx@itu.dk"
   ]
  },
  {
   "cell_type": "markdown",
   "metadata": {
    "deletable": false,
    "editable": false,
    "nbgrader": {
     "cell_type": "markdown",
     "checksum": "369d61d382ec60baf4e3277e078571f7",
     "grade": false,
     "grade_id": "cell-9c0c8ceaa52d1b8a",
     "locked": true,
     "schema_version": 3,
     "solution": false,
     "task": false
    },
    "tags": []
   },
   "source": [
    "***\n",
    "**Before starting the tasks, import the modules you will need by running the cell below**"
   ]
  },
  {
   "cell_type": "code",
   "execution_count": null,
   "metadata": {
    "deletable": false,
    "nbgrader": {
     "cell_type": "code",
     "checksum": "9e8afacf85a47750ad55a8f02966b903",
     "grade": false,
     "grade_id": "cell-4ff855f02bc93d54",
     "locked": false,
     "schema_version": 3,
     "solution": true,
     "task": false
    },
    "tags": []
   },
   "outputs": [],
   "source": [
    "# Use this cell to import all the packages needed for this exercise (os, pandas, requests) \n",
    "import os # etc.\n",
    "# YOUR CODE HERE\n",
    "raise NotImplementedError()"
   ]
  },
  {
   "cell_type": "markdown",
   "metadata": {
    "deletable": false,
    "editable": false,
    "nbgrader": {
     "cell_type": "markdown",
     "checksum": "04a4ece92beed4adef81676a973e95bd",
     "grade": false,
     "grade_id": "cell-39995db3597a7671",
     "locked": true,
     "schema_version": 3,
     "solution": false,
     "task": false
    },
    "tags": []
   },
   "source": [
    "**Mandatory Task 1: The first million digits of $\\pi$**\n",
    "\n",
    "Read in the contents of the text file `pi.txt` (in the same folder as this notebook; it contains the first million digits of $\\pi$) into the string variable `my_pi`. **Remove all line breaks.** \n",
    "\n",
    "Then, implement the function `birthday_in_pi(birthday, pidigits=my_pi)` that takes 2 inputs: \n",
    "* birthday: `str`, in format `DDMMYY`, and\n",
    "* pidigits: `str`\n",
    "\n",
    "and returns either `True` or `False`, depending on whether the birthday (the six-digit string) could be found within the pi digits.\n",
    "\n",
    "Test your function with `my_pi` (the text you read in from the file) and your own (or any other) birthday."
   ]
  },
  {
   "cell_type": "code",
   "execution_count": null,
   "metadata": {
    "deletable": false,
    "nbgrader": {
     "cell_type": "code",
     "checksum": "26e9d9f04bfa66ec40ff762d8852d13c",
     "grade": false,
     "grade_id": "cell-90f071a114f2e3bf",
     "locked": false,
     "schema_version": 3,
     "solution": true,
     "task": false
    },
    "tags": []
   },
   "outputs": [],
   "source": [
    "# Read in pi.txt and remove all linebreaks (\"\\n\")\n",
    "# YOUR CODE HERE\n",
    "raise NotImplementedError()"
   ]
  },
  {
   "cell_type": "code",
   "execution_count": null,
   "metadata": {
    "deletable": false,
    "nbgrader": {
     "cell_type": "code",
     "checksum": "8144b00e04f77374ef41de06724ff878",
     "grade": false,
     "grade_id": "cell-9932ba23b7d334d2",
     "locked": false,
     "schema_version": 3,
     "solution": true,
     "task": false
    },
    "tags": []
   },
   "outputs": [],
   "source": [
    "# function that returns True/False depending on \n",
    "# whether birthday is contained in pidigits:\n",
    "def birthday_in_pi(birthday, pidigits=my_pi):\n",
    "    # YOUR CODE HERE\n",
    "    raise NotImplementedError()"
   ]
  },
  {
   "cell_type": "code",
   "execution_count": null,
   "metadata": {
    "deletable": false,
    "nbgrader": {
     "cell_type": "code",
     "checksum": "0725a32dbac1ca273e19e57aaf41209f",
     "grade": false,
     "grade_id": "cell-393a475780070499",
     "locked": false,
     "schema_version": 3,
     "solution": true,
     "task": false
    },
    "tags": []
   },
   "outputs": [],
   "source": [
    "# test the function with your own (or any other's) birthday\n",
    "# YOUR CODE HERE\n",
    "raise NotImplementedError()"
   ]
  },
  {
   "cell_type": "code",
   "execution_count": null,
   "metadata": {
    "deletable": false,
    "editable": false,
    "nbgrader": {
     "cell_type": "code",
     "checksum": "41533f93d03385a719c0e9fd0d4001fe",
     "grade": true,
     "grade_id": "cell-86a1d57624604fe6",
     "locked": true,
     "points": 1,
     "schema_version": 3,
     "solution": false,
     "task": false
    },
    "tags": []
   },
   "outputs": [],
   "source": [
    "# run this cell to check whether: \n",
    "# - you read in the file correctly\n",
    "# - the function works correctly\n",
    "\n",
    "assert type(my_pi)==str\n",
    "assert my_pi[0:4]==\"3.14\"\n",
    "assert my_pi[-6:-1]==\"45815\"\n",
    "assert \"\\n\" not in my_pi\n",
    "\n",
    "assert birthday_in_pi(\"010170\")==True\n",
    "assert birthday_in_pi(\"241295\", my_pi)==False\n",
    "assert birthday_in_pi(\"080399\", pidigits=my_pi)==True"
   ]
  },
  {
   "cell_type": "markdown",
   "metadata": {
    "deletable": false,
    "editable": false,
    "nbgrader": {
     "cell_type": "markdown",
     "checksum": "2ba7a6697c70a98fa063a90ca3f0d654",
     "grade": false,
     "grade_id": "cell-2a5bec851572a251",
     "locked": true,
     "schema_version": 3,
     "solution": false,
     "task": false
    },
    "tags": []
   },
   "source": [
    "**Mandatory Task 2: Data wrangling with pandas**\n",
    "\n",
    "In the same folder as this notebook, you will find `air_quality_no2.csv`, a data set of a month's worth of hourly measurements of NO2 (nitrogen dioxide, an atmospheric pollutant) from measuring stations in Paris, Londn, and Antwerp. (Data set taken from [here](https://github.com/pandas-dev/pandas/blob/main/doc/data/air_quality_no2.csv))\n",
    "\n",
    "Complete the following tasks:\n",
    "* Read in the data set into a variable called `df`, using the `pandas` library \n",
    "* Remove the column `station_antwerp` from the dataframe\n",
    "* Remove all rows that contain missing data in **any** of the two columns `station_london` or `station_paris` (or in both) from the data frame\n",
    "* For how many of the hourly measurements Paris has a higher NO2 concentration than London? Save the answer (an integer number) to the variable `paris_higher`\n",
    "* On what dates and times of day did the London and Paris stations have exactly the same NO2 levels? Using `.copy()`, create a new dataframe called `same_levels`, with only those rows from df where `station_paris` and `station_london` have the same values"
   ]
  },
  {
   "cell_type": "code",
   "execution_count": null,
   "metadata": {
    "deletable": false,
    "nbgrader": {
     "cell_type": "code",
     "checksum": "403b92a65dd4e15202d76eae139a0e5d",
     "grade": false,
     "grade_id": "cell-ffe959e9564a883e",
     "locked": false,
     "schema_version": 3,
     "solution": true,
     "task": false
    },
    "tags": []
   },
   "outputs": [],
   "source": [
    "# Solve task 2\n",
    "\n",
    "# YOUR CODE HERE\n",
    "raise NotImplementedError()"
   ]
  },
  {
   "cell_type": "code",
   "execution_count": null,
   "metadata": {
    "deletable": false,
    "editable": false,
    "nbgrader": {
     "cell_type": "code",
     "checksum": "8d680e5513dc77c3e10f2cca00231030",
     "grade": true,
     "grade_id": "cell-44f029ef214851b1",
     "locked": true,
     "points": 1,
     "schema_version": 3,
     "solution": false,
     "task": false
    },
    "tags": []
   },
   "outputs": [],
   "source": [
    "# make sure that the antwerp column has been dropped from the df\n",
    "assert \"station_antwerp\" not in df.columns\n",
    "\n",
    "# make sure that all rows with missing values have been removed\n",
    "assert sum(df[\"station_paris\"].isna())==0\n",
    "assert sum(df[\"station_london\"].isna())==0\n",
    "\n",
    "# make sure that the number of measurements where Paris > London has been computed correctly\n",
    "assert paris_higher == 472\n",
    "\n",
    "# make sure that the day with same NO2 levels for Paris and London has been found \n",
    "assert samelevels.loc[:, \"datetime\"].values == \"2019-06-07 15:00:00\""
   ]
  },
  {
   "cell_type": "markdown",
   "metadata": {
    "deletable": false,
    "editable": false,
    "nbgrader": {
     "cell_type": "markdown",
     "checksum": "ac922f9d721ac14fddf5cebc8b4d507a",
     "grade": false,
     "grade_id": "cell-305da9a53c153085",
     "locked": true,
     "schema_version": 3,
     "solution": false,
     "task": false
    },
    "tags": []
   },
   "source": [
    "**Mandatory Task 3** \n",
    "\n",
    "Write the function `recursive_sum` that takes an integer `n` as input, and computes the sum of all integers up to **and including** n as output, **recursively**. \n",
    "\n",
    "That means that the function \n",
    "* should return `n` in the base case (if n<=1)\n",
    "* should **call itself in the return statement** in all other cases (if n>1), in a way that allows to compute the sum of all integers up to and including `n`"
   ]
  },
  {
   "cell_type": "code",
   "execution_count": null,
   "metadata": {
    "deletable": false,
    "nbgrader": {
     "cell_type": "code",
     "checksum": "e819472a6be46325b272e48f5f2a0cbd",
     "grade": false,
     "grade_id": "cell-76caa9732c889607",
     "locked": false,
     "schema_version": 3,
     "solution": true,
     "task": false
    },
    "tags": []
   },
   "outputs": [],
   "source": [
    "# Solve Task 3\n",
    "def recursive_sum(n):\n",
    "    # YOUR CODE HERE\n",
    "    raise NotImplementedError()"
   ]
  },
  {
   "cell_type": "code",
   "execution_count": null,
   "metadata": {
    "deletable": false,
    "editable": false,
    "nbgrader": {
     "cell_type": "code",
     "checksum": "66671edf788c0c071e9a541f80bb6d1e",
     "grade": true,
     "grade_id": "cell-af8ac661615e55c0",
     "locked": true,
     "points": 1,
     "schema_version": 3,
     "solution": false,
     "task": false
    },
    "tags": []
   },
   "outputs": [],
   "source": [
    "# check that the function computes the sum of all integers up to n correctly\n",
    "assert recursive_sum(5)==sum([1,2,3,4,5])\n",
    "assert recursive_sum(8)==sum([1,2,3,4,5,6,7,8])\n",
    "assert recursive_sum(20)==sum([i for i in range(1,21)])\n",
    "\n",
    "# check that in the base case (n=1 or n=0) the function returns the correct value of n:\n",
    "assert recursive_sum(1)==1\n",
    "assert recursive_sum(0)==0"
   ]
  },
  {
   "cell_type": "markdown",
   "metadata": {
    "deletable": false,
    "editable": false,
    "nbgrader": {
     "cell_type": "markdown",
     "checksum": "5c8155870610fd011ca16a2a1c257161",
     "grade": false,
     "grade_id": "cell-c6f3baa9034bdd80",
     "locked": true,
     "schema_version": 3,
     "solution": false,
     "task": false
    },
    "tags": []
   },
   "source": [
    "**Mandatory Task 4: from HTTP request to text file**\n",
    "\n",
    "> Note: The `request` module is presented in lecture 10. \n",
    "\n",
    "Under the link below, you will find an extract from the FAQs of the Python documentation, explaining why it is called \"Python\". Your task:\n",
    "* Send an HTTP request to the link below (use the built-in `requests` module); \n",
    "* save the text attribute of the HTTP response into the string variable `faq`; \n",
    "* then, save the string as a text file, `faq.txt` (in the same folder as this notebook).\n",
    "\n",
    "Link: https://raw.githubusercontent.com/anastassiavybornova/pythoncrashcourse/main/assignments/assignment04/whyisitcalledpython.txt"
   ]
  },
  {
   "cell_type": "code",
   "execution_count": null,
   "metadata": {
    "deletable": false,
    "nbgrader": {
     "cell_type": "code",
     "checksum": "12297b46004316bbce9051fac7ab3802",
     "grade": false,
     "grade_id": "cell-1c8f7ee7f1542dce",
     "locked": false,
     "schema_version": 3,
     "solution": true,
     "task": false
    },
    "tags": []
   },
   "outputs": [],
   "source": [
    "# Solve Task 4\n",
    "# YOUR CODE HERE\n",
    "raise NotImplementedError()"
   ]
  },
  {
   "cell_type": "code",
   "execution_count": null,
   "metadata": {
    "deletable": false,
    "editable": false,
    "nbgrader": {
     "cell_type": "code",
     "checksum": "06ee7ddd7f245b9b0d2d0cb7c030a305",
     "grade": true,
     "grade_id": "cell-166276a50bff8aa8",
     "locked": true,
     "points": 1,
     "schema_version": 3,
     "solution": false,
     "task": false
    },
    "tags": []
   },
   "outputs": [],
   "source": [
    "# run this cell to check if you \n",
    "# - read in the text with the request module correctly\n",
    "# - wrote the text to a file correcly\n",
    "\n",
    "# text was imported correctly\n",
    "assert type(faq)==str\n",
    "assert len(faq)==475\n",
    "assert faq[128:156]==\"Monty Python’s Flying Circus\"\n",
    "\n",
    "# file exists & contains the same thing as the variable \"sentence\"\n",
    "assert \"faq.txt\" in os.listdir()\n",
    "assert open(\"faq.txt\", \"r\").read() == faq"
   ]
  },
  {
   "cell_type": "markdown",
   "metadata": {
    "deletable": false,
    "editable": false,
    "nbgrader": {
     "cell_type": "markdown",
     "checksum": "2f63ca68799e00b1e310a4619f8193a6",
     "grade": false,
     "grade_id": "cell-219727596d126f20",
     "locked": true,
     "schema_version": 3,
     "solution": false,
     "task": false
    },
    "tags": []
   },
   "source": [
    "**Mandatory Task 5** \n",
    "\n",
    "Explain, **in your own words**, how the binary search algorithm works. You can use the [\"guessing game\" from lecture09](https://learnit.itu.dk/mod/resource/view.php?id=190513) (guessing a number from 1 to 1000) as an example.\n",
    "\n",
    "(150 words max)"
   ]
  },
  {
   "cell_type": "markdown",
   "metadata": {
    "deletable": false,
    "nbgrader": {
     "cell_type": "markdown",
     "checksum": "090f134b3f66965da689032bfb57e743",
     "grade": true,
     "grade_id": "cell-15e5bdd522cf94a7",
     "locked": false,
     "points": 1,
     "schema_version": 3,
     "solution": true,
     "task": false
    },
    "tags": []
   },
   "source": [
    "YOUR ANSWER HERE"
   ]
  }
 ],
 "metadata": {
  "kernelspec": {
   "display_name": "Python 3 (ipykernel)",
   "language": "python",
   "name": "python3"
  },
  "language_info": {
   "codemirror_mode": {
    "name": "ipython",
    "version": 3
   },
   "file_extension": ".py",
   "mimetype": "text/x-python",
   "name": "python",
   "nbconvert_exporter": "python",
   "pygments_lexer": "ipython3",
   "version": "3.11.4"
  }
 },
 "nbformat": 4,
 "nbformat_minor": 4
}

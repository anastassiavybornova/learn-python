{
 "cells": [
  {
   "cell_type": "markdown",
   "metadata": {},
   "source": [
    "# Assignment 02\n",
    "\n",
    "for the course [Introduction to Data Science and Programming](https://learnit.itu.dk/course/view.php?id=3022199) (Autumn 2023) at ITU\n",
    "\n",
    "**Due: September 25, 23:59**\n",
    "\n",
    "Before you turn this assignment in, make sure everything runs as expected. (Go to `Restart and run all` - should not throw any assertion errors.) \n",
    "\n",
    "Make sure you fill in any place that says `YOUR CODE HERE` or \"YOUR ANSWER HERE\", as well as your name and ITU email address below:"
   ]
  },
  {
   "cell_type": "code",
   "execution_count": null,
   "metadata": {},
   "outputs": [],
   "source": [
    "NAME = \"\"\n",
    "ITU_MAIL = \"\" # xxxx@itu.dk"
   ]
  },
  {
   "cell_type": "markdown",
   "metadata": {
    "deletable": false,
    "editable": false,
    "nbgrader": {
     "cell_type": "markdown",
     "checksum": "3d926f5e372f2647912441df5a5cf6c0",
     "grade": false,
     "grade_id": "cell-8fd0c5fe8af3cf4f",
     "locked": true,
     "schema_version": 3,
     "solution": false,
     "task": false
    },
    "tags": []
   },
   "source": [
    "***\n",
    "**Before starting the tasks, import the modules you will need by running the cell below**"
   ]
  },
  {
   "cell_type": "code",
   "execution_count": null,
   "metadata": {
    "deletable": false,
    "nbgrader": {
     "cell_type": "code",
     "checksum": "1dac90aaa1120dd0633745bf089fcdcc",
     "grade": false,
     "grade_id": "cell-425f86bd60427ef2",
     "locked": false,
     "schema_version": 3,
     "solution": true,
     "task": false
    },
    "tags": []
   },
   "outputs": [],
   "source": [
    "# import math and random modules here\n",
    "# YOUR CODE HERE\n",
    "raise NotImplementedError()"
   ]
  },
  {
   "cell_type": "markdown",
   "metadata": {
    "deletable": false,
    "editable": false,
    "nbgrader": {
     "cell_type": "markdown",
     "checksum": "65a6d34525c10e11c17d81adfd647faa",
     "grade": false,
     "grade_id": "cell-d3cdc20ce047e26f",
     "locked": true,
     "schema_version": 3,
     "solution": false,
     "task": false
    },
    "tags": []
   },
   "source": [
    "***\n",
    "**Mandatory task 1: At the restaurant** \n",
    "\n",
    "Define the function `calculate_bill` that computes the bill in a restaurant. The function takes 3 input parameters:\n",
    "* `food` required paramter with a numeric value\n",
    "* `drinks` required paramter with a numeric value\n",
    "* `tip_percent` optional parameter with a default value of `0`\n",
    "\n",
    "The function returns the total price on the restaurant bill, which includes the price of items (food+drinks), plus the tip (in **percent** of the price of all items).\n",
    "\n",
    "If any of the provided values is non-numeric, your function should return the string `\"error: input must be numeric\"`.\n"
   ]
  },
  {
   "cell_type": "code",
   "execution_count": null,
   "metadata": {
    "deletable": false,
    "nbgrader": {
     "cell_type": "code",
     "checksum": "c715b658653015a520f29edc1f87ff37",
     "grade": false,
     "grade_id": "cell-6005ea839fca1142",
     "locked": false,
     "schema_version": 3,
     "solution": true,
     "task": false
    },
    "tags": []
   },
   "outputs": [],
   "source": [
    "# Solve task 1\n",
    "def calculate_bill(food, drinks, tip_percent=0):\n",
    "    # YOUR CODE HERE\n",
    "    raise NotImplementedError()"
   ]
  },
  {
   "cell_type": "code",
   "execution_count": null,
   "metadata": {
    "deletable": false,
    "editable": false,
    "nbgrader": {
     "cell_type": "code",
     "checksum": "9a162ac0934820b6b43cf18039917a5c",
     "grade": true,
     "grade_id": "cell-33da5047a8925f34",
     "locked": true,
     "points": 1,
     "schema_version": 3,
     "solution": false,
     "task": false
    },
    "tags": []
   },
   "outputs": [],
   "source": [
    "# Check if you solved task 1 correctly\n",
    "\n",
    "# if no tip is provided, the function should return just the sum of food & drinks:\n",
    "assert calculate_bill(10,20)==30\n",
    "assert calculate_bill(500,17.5)==517.5\n",
    "\n",
    "# if a tip is provided (in PERCENT), the functon should return\n",
    "# the sum of food & drinks PLUS the tip (as percent of food+drinks):\n",
    "assert calculate_bill(40,20,10)==66\n",
    "assert calculate_bill(100,60,20)==192\n",
    "\n",
    "# if any of the arguments provided is of non-numeric type, \n",
    "# the function should throw the error:\n",
    "assert calculate_bill(8,2,\"none\")==\"error: input must be numeric\"\n",
    "assert calculate_bill(10,\"3\",5)==\"error: input must be numeric\"\n",
    "assert calculate_bill(True,2,3)==\"error: input must be numeric\"\n"
   ]
  },
  {
   "cell_type": "markdown",
   "metadata": {
    "deletable": false,
    "editable": false,
    "nbgrader": {
     "cell_type": "markdown",
     "checksum": "7a676b99fa213a7c73a49c0f6941939e",
     "grade": false,
     "grade_id": "cell-445eacbd26adf79e",
     "locked": true,
     "schema_version": 3,
     "solution": false,
     "task": false
    },
    "tags": []
   },
   "source": [
    "***\n",
    "**Mandatory task 2: Your contact list**\n",
    "\n",
    "Define the function `create_contact` that takes 4 parameters of personal data:\n",
    "* `number` (has to be an integer, e.g. `\"4530405099\"`)\n",
    "* `twitter` (string, which must start with an `@`, e.g. `@mszell`)\n",
    "* `first_name` (string)\n",
    "* `last_name` (string, optional, with the default value `\"unknown\"`)\n",
    "and returns a dictionary which contains the parameters as keys, and the arguments as values. If no `last_name` is provided, the dictionary should have no `last_name` key.\n",
    "\n",
    "If the function is called with any input argument that doesn't match the requirements (for example, if the `twitter` argument doesn't start with an `@`, or if the `number` argument contains letters), the function should return the string `\"error: revise input\"`."
   ]
  },
  {
   "cell_type": "code",
   "execution_count": null,
   "metadata": {
    "deletable": false,
    "nbgrader": {
     "cell_type": "code",
     "checksum": "a61fa285ded3b5b57d7fb1d386162d50",
     "grade": false,
     "grade_id": "cell-3db6f0c321e415b6",
     "locked": false,
     "schema_version": 3,
     "solution": true,
     "task": false
    },
    "tags": []
   },
   "outputs": [],
   "source": [
    "# Solve task 2\n",
    "def create_contact(number, twitter, first_name, last_name = \"unknown\"):\n",
    "    # YOUR CODE HERE\n",
    "    raise NotImplementedError()"
   ]
  },
  {
   "cell_type": "code",
   "execution_count": null,
   "metadata": {
    "deletable": false,
    "editable": false,
    "nbgrader": {
     "cell_type": "code",
     "checksum": "3a89edd8ef058777a91137c85709231f",
     "grade": true,
     "grade_id": "cell-64fd73b9b6bb7ec8",
     "locked": true,
     "points": 1,
     "schema_version": 3,
     "solution": false,
     "task": false
    },
    "tags": []
   },
   "outputs": [],
   "source": [
    "# Check if you solved task 2 correctly\n",
    "\n",
    "# if all arguments are provided correctly, function returns the expected dictionary\n",
    "# (the \\ sign just means: \"continue reading code in the next line\")\n",
    "\n",
    "assert create_contact(1, \"@user\", \"user\", \"userovich\") == \\\n",
    "    {\n",
    "        \"number\": 1, \n",
    "        \"twitter\": \"@user\", \n",
    "        \"first_name\": \"user\", \n",
    "        \"last_name\": \"userovich\"\n",
    "    }\n",
    "\n",
    "assert create_contact(2211, \"@rihanna\", \"Ri\", \"Hanna\") == \\\n",
    "    {\n",
    "        'number': 2211,\n",
    "        'twitter': '@rihanna',\n",
    "        'first_name': 'Ri',\n",
    "        'last_name': 'Hanna'\n",
    "    }\n",
    "\n",
    "# if all arguments are provided correctly, and no last name is provided, function\n",
    "# returns the expected dictionary (without the last name):\n",
    "assert create_contact(2211, \"@rihanna\", \"Ri\") == \\\n",
    "    {\n",
    "        'number': 2211,\n",
    "        'twitter': '@rihanna',\n",
    "        'first_name': 'Ri'\n",
    "    }\n",
    "\n",
    "# if some of the arguments is provided incorrectly, function returns the error:\n",
    "\n",
    "# wrong number format\n",
    "assert create_contact(\"+45204020\", \"@rihanna\", \"Ri\") == \"error: revise input\"\n",
    "\n",
    "# wrong twitter format\n",
    "assert create_contact(45204020, \"rihanna\", \"Ri\") == \"error: revise input\"\n",
    "\n",
    "# wrong name format (first or last - should both be str)\n",
    "assert create_contact(45204020, \"@rihanna\", 123) == \"error: revise input\"\n",
    "assert create_contact(45204020, \"@rihanna\", \"Ri\", 456) == \"error: revise input\"\n"
   ]
  },
  {
   "cell_type": "markdown",
   "metadata": {
    "deletable": false,
    "editable": false,
    "nbgrader": {
     "cell_type": "markdown",
     "checksum": "e00ef39448fa8e68a51663bf4b642ef1",
     "grade": false,
     "grade_id": "cell-f60eba466dd62ef7",
     "locked": true,
     "schema_version": 3,
     "solution": false,
     "task": false
    },
    "tags": []
   },
   "source": [
    "***\n",
    "**Mandatory task 3: Binomial coefficient**\n",
    "\n",
    "Define the function `compute_binomial_coefficient` that takes the two non-negative (`>0`) integers `n` and `k` as input, and returns the value of their [binomial coefficient](https://en.wikipedia.org/wiki/Binomial_coefficient). Note that the binomial coefficient is only defined for `n>=k`.\n",
    "\n",
    "The formula for the binomial coefficient is:\n",
    "\n",
    "$\\frac{n!}{k!*(n-k)!}$\n",
    "\n",
    "Your function should return the string `\"error: revise input\"` if:\n",
    "* any of the two input arguments is anything else than a non-negative integer;\n",
    "* if `n<k`.\n",
    "\n",
    "For this task, you are *allowed* to use any of the functions from the `math` module; but you don't have to."
   ]
  },
  {
   "cell_type": "code",
   "execution_count": null,
   "metadata": {
    "deletable": false,
    "nbgrader": {
     "cell_type": "code",
     "checksum": "7daa3ef392cc1256ce2fd40332dce513",
     "grade": false,
     "grade_id": "cell-557fca302a3191f5",
     "locked": false,
     "schema_version": 3,
     "solution": true,
     "task": false
    },
    "tags": []
   },
   "outputs": [],
   "source": [
    "# Solve task 3\n",
    "\n",
    "# the math module was imported by running the first code cell in this notebook\n",
    "def compute_binomial_coefficient(n, k):\n",
    "    # YOUR CODE HERE\n",
    "    raise NotImplementedError()"
   ]
  },
  {
   "cell_type": "code",
   "execution_count": null,
   "metadata": {
    "deletable": false,
    "editable": false,
    "nbgrader": {
     "cell_type": "code",
     "checksum": "e5d3e9ea3dc427bc63bdc1f16def1cd7",
     "grade": true,
     "grade_id": "cell-da256a0f8398f6b6",
     "locked": true,
     "points": 0,
     "schema_version": 3,
     "solution": false,
     "task": false
    },
    "tags": []
   },
   "outputs": [],
   "source": [
    "# Check if you solved task 3 correctly\n",
    "\n",
    "# we get the expected values in cases where n and k are provided correctly\n",
    "assert compute_binomial_coefficient(4,2)==6\n",
    "assert compute_binomial_coefficient(3,1)==3\n",
    "assert compute_binomial_coefficient(10,7)==120\n",
    "assert compute_binomial_coefficient(10,3)==120\n",
    "assert compute_binomial_coefficient(30,5)==142506\n",
    "\n",
    "# we get the expected error message if n or k are of wrong type or <0, or if k>n:\n",
    "assert compute_binomial_coefficient(10,20)=='error: revise input'\n",
    "assert compute_binomial_coefficient(-5,10)=='error: revise input'\n",
    "assert compute_binomial_coefficient(10,-5)=='error: revise input'\n",
    "assert compute_binomial_coefficient(10,\"4\")=='error: revise input'\n",
    "assert compute_binomial_coefficient(True,1)=='error: revise input'"
   ]
  },
  {
   "cell_type": "markdown",
   "metadata": {
    "deletable": false,
    "editable": false,
    "nbgrader": {
     "cell_type": "markdown",
     "checksum": "b3b6be651fa1b7361e460a63454831aa",
     "grade": false,
     "grade_id": "cell-dca3787af06974f4",
     "locked": true,
     "schema_version": 3,
     "solution": false,
     "task": false
    },
    "tags": []
   },
   "source": [
    "***\n",
    "**Mandatory task 4: Tossing coins**\n",
    "\n",
    "Define the function `coin_tosses(n)` that takes an integer number `n>=1` as input; simulates `n` coin tosses, each represented by `H` or `T` (heads or tails; use `choice()` from the `random` module for this); and returns a string of length `n` that contains the results from all the coin tosses.\n",
    "\n",
    "For this task, you don't have to implement any error catching (it is fine if your `coin_tosses` throws an error if anything other than an integer is provided as argument for `n`).\n",
    "\n"
   ]
  },
  {
   "cell_type": "code",
   "execution_count": null,
   "metadata": {
    "deletable": false,
    "nbgrader": {
     "cell_type": "code",
     "checksum": "93ff033d0ef37bb8515e6f069488055d",
     "grade": false,
     "grade_id": "cell-1643205e4cc9d6df",
     "locked": false,
     "schema_version": 3,
     "solution": true,
     "task": false
    },
    "tags": []
   },
   "outputs": [],
   "source": [
    "# Solve task 4\n",
    "\n",
    "# the random module was imported by running the first code cell in this notebook\n",
    "# so you can use the choice() function from the random module like so: random.choice()\n",
    "\n",
    "def coin_tosses(n):\n",
    "    # YOUR CODE HERE\n",
    "    raise NotImplementedError()"
   ]
  },
  {
   "cell_type": "code",
   "execution_count": null,
   "metadata": {
    "deletable": false,
    "editable": false,
    "nbgrader": {
     "cell_type": "code",
     "checksum": "577a4ea506df1e810accbbd017c66d8b",
     "grade": true,
     "grade_id": "cell-87bad5d33886c213",
     "locked": true,
     "points": 1,
     "schema_version": 3,
     "solution": false,
     "task": false
    },
    "tags": []
   },
   "outputs": [],
   "source": [
    "# Try to check if you solved task 4 correctly \n",
    "# (but don't worry if the check fails)\n",
    "\n",
    "random.seed(42) # don't change this line\n",
    "assert coin_tosses(1)=='H'\n",
    "assert coin_tosses(2)=='HT'\n",
    "assert coin_tosses(5)=='HHHHH'\n",
    "assert coin_tosses(10)=='THHHHHHHTH'\n",
    "\n",
    "# NOTE: IF THIS CELL PRODUCES AN ERROR, DON'T WORRY,\n",
    "# AS LONG AS YOUR FUNCTION PRODUCES THE EXPECTED OUTPUT \n",
    "# (strings of length n with a random combination of H and T)"
   ]
  },
  {
   "cell_type": "markdown",
   "metadata": {
    "deletable": false,
    "editable": false,
    "nbgrader": {
     "cell_type": "markdown",
     "checksum": "925296606bde18c5ea096615f24ae388",
     "grade": false,
     "grade_id": "cell-64fbe5d16779dea9",
     "locked": true,
     "schema_version": 3,
     "solution": false,
     "task": false
    },
    "tags": []
   },
   "source": [
    "***\n",
    "**Mandatory task 5: Function parameters and arguments**\n",
    "\n",
    "**In your own words**, explain the difference between function parameters and function arguments; and the difference between required and optional parameters. You can use your function `calculate_bill()` from Task 1 as example. \n",
    "\n",
    "**150 words max**"
   ]
  },
  {
   "cell_type": "markdown",
   "metadata": {
    "deletable": false,
    "nbgrader": {
     "cell_type": "markdown",
     "checksum": "3a18edd570e1e7dd89edbfa38908653a",
     "grade": true,
     "grade_id": "cell-757386a6d7441f4b",
     "locked": false,
     "points": 1,
     "schema_version": 3,
     "solution": true,
     "task": false
    },
    "tags": []
   },
   "source": [
    "YOUR ANSWER HERE"
   ]
  }
 ],
 "metadata": {
  "kernelspec": {
   "display_name": "Python 3 (ipykernel)",
   "language": "python",
   "name": "python3"
  },
  "language_info": {
   "codemirror_mode": {
    "name": "ipython",
    "version": 3
   },
   "file_extension": ".py",
   "mimetype": "text/x-python",
   "name": "python",
   "nbconvert_exporter": "python",
   "pygments_lexer": "ipython3",
   "version": "3.11.4"
  }
 },
 "nbformat": 4,
 "nbformat_minor": 4
}

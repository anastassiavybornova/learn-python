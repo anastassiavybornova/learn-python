{
 "cells": [
  {
   "cell_type": "markdown",
   "metadata": {
    "slideshow": {
     "slide_type": "slide"
    }
   },
   "source": [
    "# Recap of last time\n",
    "\n",
    "* the data type `list`\n",
    "* indexing & slicing for lists and strings\n",
    "* defining functions\n",
    "* conditional statements: if-elif-else "
   ]
  },
  {
   "cell_type": "code",
   "execution_count": null,
   "metadata": {
    "slideshow": {
     "slide_type": "slide"
    }
   },
   "outputs": [],
   "source": [
    "# to define a list, we use square brackets:\n",
    "my_list = [1, 2, 3]"
   ]
  },
  {
   "cell_type": "code",
   "execution_count": null,
   "metadata": {
    "slideshow": {
     "slide_type": "slide"
    }
   },
   "outputs": [],
   "source": [
    "# to define an emtpy list, we use [] or list():\n",
    "empty_list = []\n",
    "empty_list = list()"
   ]
  },
  {
   "cell_type": "code",
   "execution_count": null,
   "metadata": {
    "slideshow": {
     "slide_type": "slide"
    }
   },
   "outputs": [],
   "source": [
    "# we can access single list elements by indexing:\n",
    "weekday_list = [\"mon\", \"tue\", \"wed\", \"thu\", \"fri\", \"sat\", \"sun\"]\n",
    "# print(weekday_list[0]) # positive indexing; first element\n",
    "# print(weekday_list[1]) # positive indexing; second element\n",
    "print(weekday_list[-1]) # negative indexing; last element\n",
    "print(weekday_list[-2]) # negative indexing; second-to-last element"
   ]
  },
  {
   "cell_type": "code",
   "execution_count": null,
   "metadata": {
    "slideshow": {
     "slide_type": "slide"
    }
   },
   "outputs": [],
   "source": [
    "# we can access several CONSECUTIVE list elements by slicing:\n",
    "weekday_list = [\"mon\", \"tue\", \"wed\", \"thu\", \"fri\", \"sat\", \"sun\"]\n",
    "short_list = weekday_list[2:4]\n",
    "print(short_list)\n",
    "# note that what we get back is a LIST!\n",
    "print(type(short_list))"
   ]
  },
  {
   "cell_type": "code",
   "execution_count": null,
   "metadata": {
    "slideshow": {
     "slide_type": "slide"
    }
   },
   "outputs": [],
   "source": [
    "# lists can contain lists. \"NESTED\" lists:\n",
    "nested_list = [\"mon\", \"tue\", \"wed\", \"thu\", \"fri\", [\"sat\", \"sun\"]]\n",
    "nested_list[-1] # the last element of the nested_list object is a list itself! \n",
    "# (containing the two weekend days) \n",
    "# to access elements inside the list inside the list, \n",
    "# we just use indexing again:\n",
    "# nested_list[-1][0]\n",
    "nested_list[-1][1]"
   ]
  },
  {
   "cell_type": "code",
   "execution_count": null,
   "metadata": {
    "slideshow": {
     "slide_type": "slide"
    }
   },
   "outputs": [],
   "source": [
    "# defining functions, example: a function that computes the square of a number.\n",
    "\n",
    "def square(x):\n",
    "    x**2\n",
    "\n",
    "square(3)\n",
    "# this \"works\", but not the way we want to.\n",
    "# the x**2 is computed, but never shown to us!"
   ]
  },
  {
   "cell_type": "code",
   "execution_count": null,
   "metadata": {
    "slideshow": {
     "slide_type": "slide"
    }
   },
   "outputs": [],
   "source": [
    "# defining functions, example: a function that computes the square of a number.\n",
    "\n",
    "def square(x):\n",
    "    print(\"The square is: \", x**2)\n",
    "\n",
    "square(3)\n",
    "# this \"works\", but not the way we want to.\n",
    "# the x**2 is printed out, but if we now want to use it,\n",
    "# we need to copy&paste the output... not very elegant!\n",
    "# on top of that, \n",
    "# y = square(3) # if i try to save the \"output\" of the function,\n",
    "# print(y) # that output will be empty! :( (the function HAS NO output)"
   ]
  },
  {
   "cell_type": "code",
   "execution_count": null,
   "metadata": {
    "slideshow": {
     "slide_type": "slide"
    }
   },
   "outputs": [],
   "source": [
    "# defining functions, example: a function that computes the square of a number.\n",
    "\n",
    "def square(x):\n",
    "    return x**2\n",
    "\n",
    "y = square(3)\n",
    "# this works!! <3 the function RETURNED a value!\n",
    "print(y)"
   ]
  },
  {
   "cell_type": "code",
   "execution_count": null,
   "metadata": {
    "slideshow": {
     "slide_type": "slide"
    }
   },
   "outputs": [],
   "source": [
    "# defining functions like a pro.\n",
    "def square(x):\n",
    "    # we have a docstring\n",
    "    '''takes a numeric input, and gives back the square of the input'''\n",
    "    # we check for input type\n",
    "    if type(x) not in [int, float]:\n",
    "        return \"Error! x must be numeric\"\n",
    "    # we only compute the square if the input is of type int or float\n",
    "    else:\n",
    "        return x**2\n",
    "\n",
    "print(square(7))\n",
    "print(square(\"a\"))"
   ]
  },
  {
   "cell_type": "code",
   "execution_count": null,
   "metadata": {
    "slideshow": {
     "slide_type": "slide"
    }
   },
   "outputs": [],
   "source": [
    "# conditional statements: if; if-else\n",
    "exam_score = 9\n",
    "if exam_score > 10:\n",
    "    print(\"you passed\")\n",
    "\n",
    "\n",
    "# else:\n",
    "#     print(\"you failed\")"
   ]
  },
  {
   "cell_type": "code",
   "execution_count": null,
   "metadata": {
    "slideshow": {
     "slide_type": "slide"
    }
   },
   "outputs": [],
   "source": [
    "# conditional statements: if-elif-else\n",
    "exam_score = 6\n",
    "\n",
    "if exam_score > 10:\n",
    "    print(\"you passed\")\n",
    "elif exam_score > 5:\n",
    "    print(\"you barely passed\")\n",
    "else:\n",
    "    print(\"you failed\")"
   ]
  },
  {
   "cell_type": "markdown",
   "metadata": {
    "slideshow": {
     "slide_type": "slide"
    }
   },
   "source": [
    "# Python Crash Course - Lecture 04\n",
    "\n",
    "Today we will learn:\n",
    "* some new data types: **`tuple`; `set`; `range`**\n",
    "* a first glance at **methods** (for lists and sets)\n",
    "* !!! **loops** (**`for`** and **`while`**)\n",
    "* some new operators: **`+=`, `-=`, `%`** ...\n",
    "* the concept of **control flow**"
   ]
  },
  {
   "cell_type": "markdown",
   "metadata": {
    "slideshow": {
     "slide_type": "slide"
    }
   },
   "source": [
    "# Update on your data types skill set!\n",
    "\n",
    "* numeric: `int, float`\n",
    "* boolean: `bool`\n",
    "* string: `str`\n",
    "* **sequences**: `list`, **`tuple`**, **`range`** (**order matters!**)\n",
    "* **sets**: **`set`** (**unique objects!**)"
   ]
  },
  {
   "cell_type": "markdown",
   "metadata": {
    "slideshow": {
     "slide_type": "slide"
    }
   },
   "source": [
    "# Tuples `()`\n",
    "\n",
    "like lists, but inmutable"
   ]
  },
  {
   "cell_type": "code",
   "execution_count": null,
   "metadata": {
    "slideshow": {
     "slide_type": "slide"
    }
   },
   "outputs": [],
   "source": [
    "# tuples: \"like lists but not really\". use round brackets:\n",
    "(1, 2)"
   ]
  },
  {
   "cell_type": "code",
   "execution_count": null,
   "metadata": {
    "slideshow": {
     "slide_type": "slide"
    }
   },
   "outputs": [],
   "source": [
    "# tuples\n",
    "my_tuple = (1,2)\n",
    "type(my_tuple)"
   ]
  },
  {
   "cell_type": "code",
   "execution_count": null,
   "metadata": {
    "slideshow": {
     "slide_type": "slide"
    }
   },
   "outputs": [],
   "source": [
    "# tuples can have as many objects as we want - just like lists\n",
    "my_tuple = (5,15,35,45,55,65, 75)\n",
    "my_tuple"
   ]
  },
  {
   "cell_type": "code",
   "execution_count": null,
   "metadata": {
    "slideshow": {
     "slide_type": "slide"
    }
   },
   "outputs": [],
   "source": [
    "# to define an empty tuple,\n",
    "# my_tuple = tuple() # use tuple()\n",
    "my_tuple = () # or simply ()\n",
    "type(my_tuple)"
   ]
  },
  {
   "cell_type": "code",
   "execution_count": null,
   "metadata": {
    "slideshow": {
     "slide_type": "slide"
    }
   },
   "outputs": [],
   "source": [
    "# we can index tuples - just like lists\n",
    "my_tuple = (\"mon\", \"tue\", \"wed\", \"thu\", \"fri\", \"sat\", \"sun\")\n",
    "my_tuple[1]"
   ]
  },
  {
   "cell_type": "code",
   "execution_count": null,
   "metadata": {
    "slideshow": {
     "slide_type": "slide"
    }
   },
   "outputs": [],
   "source": [
    "# we can use negative indexing with tuples - just like with lists\n",
    "my_tuple = (\"mon\", \"tue\", \"wed\", \"thu\", \"fri\", \"sat\", \"sun\")\n",
    "my_tuple[-1]"
   ]
  },
  {
   "cell_type": "code",
   "execution_count": null,
   "metadata": {
    "slideshow": {
     "slide_type": "slide"
    }
   },
   "outputs": [],
   "source": [
    "# we can use slicing with tuples - just like with lists\n",
    "my_tuple = (\"mon\", \"tue\", \"wed\", \"thu\", \"fri\", \"sat\", \"sun\")\n",
    "my_tuple[3:5] # this gives us a tuple!\n",
    "# type(my_tuple[3:5])"
   ]
  },
  {
   "cell_type": "code",
   "execution_count": null,
   "metadata": {
    "slideshow": {
     "slide_type": "slide"
    }
   },
   "outputs": [],
   "source": [
    "# tuples can contain any types of data  - just like lists\n",
    "my_tuple = (1, (2,3), (4,5), [\"a\", \"b\"], True)\n",
    "my_tuple"
   ]
  },
  {
   "cell_type": "code",
   "execution_count": null,
   "metadata": {
    "slideshow": {
     "slide_type": "slide"
    }
   },
   "outputs": [],
   "source": [
    "# so what is the difference between a tuple and a list?!\n",
    "my_tuple = (5,15,35,45,55,65)\n",
    "my_tuple[0] = \"chaos\"\n",
    "# THE ONLY DIFFERENCE IS: WE CANNOT CHANGE TUPLES!"
   ]
  },
  {
   "cell_type": "markdown",
   "metadata": {
    "slideshow": {
     "slide_type": "slide"
    }
   },
   "source": [
    "# Mutable vs. inmutable objects\n",
    "\n",
    "### Lists are \"mutable\". We can change them. (\"dynamic\")\n",
    "\n",
    "### Tuples are \"inmutable\". We can NOT change them. (\"static\")"
   ]
  },
  {
   "cell_type": "markdown",
   "metadata": {
    "slideshow": {
     "slide_type": "slide"
    }
   },
   "source": [
    "# Sets `{}`\n",
    "\n",
    "### unique collections of inmutable objects"
   ]
  },
  {
   "cell_type": "code",
   "execution_count": null,
   "metadata": {
    "slideshow": {
     "slide_type": "slide"
    }
   },
   "outputs": [],
   "source": [
    "# Curly brackets define sets\n",
    "{6, 7, 8, 9}"
   ]
  },
  {
   "cell_type": "code",
   "execution_count": null,
   "metadata": {
    "slideshow": {
     "slide_type": "slide"
    }
   },
   "outputs": [],
   "source": [
    "# Curly brackets define sets\n",
    "my_set = {6, 7, 8, 9}\n",
    "type(my_set)"
   ]
  },
  {
   "cell_type": "code",
   "execution_count": null,
   "metadata": {
    "slideshow": {
     "slide_type": "slide"
    }
   },
   "outputs": [],
   "source": [
    "# Curly brackets define sets\n",
    "my_set = {6, 6, 6, 6, 7, 7, 7, 7, 8, 8, 8, 8, 9, 9, 9, 9}\n",
    "my_set\n",
    "# what is happening here?"
   ]
  },
  {
   "cell_type": "code",
   "execution_count": null,
   "metadata": {
    "slideshow": {
     "slide_type": "slide"
    }
   },
   "outputs": [],
   "source": [
    "# A set consists of unique values. \n",
    "# Can be a quick way to find unique elements: convert it to a set!\n",
    "my_long_list = [1, 1, 1, 1, 1, 6, 7, 8, 2, 1, 1, 2, 2, 6, 6, 8, 8]\n",
    "my_short_set = set(my_long_list)\n",
    "my_short_set"
   ]
  },
  {
   "cell_type": "code",
   "execution_count": null,
   "metadata": {
    "slideshow": {
     "slide_type": "slide"
    }
   },
   "outputs": [],
   "source": [
    "# To define an empty set, use set():\n",
    "my_empty_set = set()\n",
    "# type(my_empty_set)\n",
    "# !!! DO NOT use curly brackets {}, they are reserved for another data type\n",
    "# my_object = {}\n",
    "# type(my_object)"
   ]
  },
  {
   "cell_type": "code",
   "execution_count": null,
   "metadata": {
    "slideshow": {
     "slide_type": "slide"
    }
   },
   "outputs": [],
   "source": [
    "# Sets can contain different object types,\n",
    "# but NOT mutable object types, ONLY inmutable data types.\n",
    "# contains only inmutable data types: int, float, str, bool, tuple\n",
    "# possible_set = {1, 3.0, \"a\", True, (2,3)} \n",
    "#possible_set\n",
    "impossible_set = {[1,2,3], [4,5,6]} # contains lists - they are mutable - can't make a set out of them!\n",
    "impossible_set = {{1},{2,3}} # contains sets - they are mutable - can't make a set out of them!\n",
    "# there are other ways to combine sets, we will learn them later"
   ]
  },
  {
   "cell_type": "code",
   "execution_count": null,
   "metadata": {
    "slideshow": {
     "slide_type": "slide"
    }
   },
   "outputs": [],
   "source": [
    "# We can ADD objects\n",
    "my_set = {1, 2}\n",
    "my_set.add(35) # THIS CHANGES THE my_set OBJECT!!!\n",
    "my_set"
   ]
  },
  {
   "cell_type": "code",
   "execution_count": null,
   "metadata": {
    "slideshow": {
     "slide_type": "slide"
    }
   },
   "outputs": [],
   "source": [
    "#We can REMOVE objects\n",
    "my_set = {7,8,9}\n",
    "my_set.remove(8) # THIS CHANGES THE my_set OBJECT!!!\n",
    "my_set"
   ]
  },
  {
   "cell_type": "code",
   "execution_count": null,
   "metadata": {
    "slideshow": {
     "slide_type": "slide"
    }
   },
   "outputs": [],
   "source": [
    "# we can \"pop\" one object from the set... \n",
    "# \"pop\" returns that object AND removes it from the set.\n",
    "my_set = {1, 2, 3, 4, 5}\n",
    "my_set.pop() # THIS CHANGES THE my_set OBJECT!!!\n",
    "my_set"
   ]
  },
  {
   "cell_type": "code",
   "execution_count": null,
   "metadata": {
    "slideshow": {
     "slide_type": "slide"
    }
   },
   "outputs": [],
   "source": [
    "# we can \"pop\" one object from the set... \n",
    "# \"pop\" returns that object AND removes it from the set.\n",
    "my_set = {1, 2, 3, 4, 5}\n",
    "print(my_set) # my_set before popping\n",
    "popped_object = my_set.pop() \n",
    "print(\"popped out: \", popped_object) # the popped object\n",
    "print(my_set) # my_set after popping"
   ]
  },
  {
   "cell_type": "markdown",
   "metadata": {
    "slideshow": {
     "slide_type": "slide"
    }
   },
   "source": [
    "# Methods in Python - soft intro\n",
    "\n",
    "With sets, we used:\n",
    "\n",
    "* `my_set.remove()` to remove an item from the set\n",
    "* `my_set.add()` to add an item to the set\n",
    "* `my_set.pop()` to pop an item from the set\n",
    "\n",
    "`.remove()`, `.add()`, and `.pop()` are **methods** that \"belong\" to sets.\n",
    "\n",
    "A method is a function that you can **call on an object**, using the notation\n",
    "\n",
    "# `object.method()`"
   ]
  },
  {
   "cell_type": "markdown",
   "metadata": {
    "slideshow": {
     "slide_type": "slide"
    }
   },
   "source": [
    "# Methods for the data type `tuple`\n",
    "\n",
    "`.count()`, `.index()`"
   ]
  },
  {
   "cell_type": "code",
   "execution_count": null,
   "metadata": {
    "slideshow": {
     "slide_type": "slide"
    }
   },
   "outputs": [],
   "source": [
    "my_tuple = (0, 0, 0, 5, 6, 7, \"a\", \"a\")\n",
    "my_tuple.count(\"a\")"
   ]
  },
  {
   "cell_type": "code",
   "execution_count": null,
   "metadata": {
    "slideshow": {
     "slide_type": "slide"
    }
   },
   "outputs": [],
   "source": [
    "my_tuple = (0, 0, 0, 5, 6, 7, \"a\", \"a\")\n",
    "my_tuple.index(\"a\")"
   ]
  },
  {
   "cell_type": "markdown",
   "metadata": {
    "slideshow": {
     "slide_type": "slide"
    }
   },
   "source": [
    "# Methods for the data type `list`\n",
    "\n",
    "`.append()`, `.remove()`, `.index()`, `count()`, `.reverse()`, `.sort()`"
   ]
  },
  {
   "cell_type": "code",
   "execution_count": null,
   "metadata": {
    "slideshow": {
     "slide_type": "slide"
    }
   },
   "outputs": [],
   "source": [
    "# .append(object) appends an object to the list (in the last position)\n",
    "my_list = [1,4,28,9,0,1]\n",
    "my_list.append(666)\n",
    "my_list"
   ]
  },
  {
   "cell_type": "code",
   "execution_count": null,
   "metadata": {
    "slideshow": {
     "slide_type": "slide"
    }
   },
   "outputs": [],
   "source": [
    "# .index(object) gives back the index of the FIRST APPEARANCE of the object\n",
    "my_list = [1,4,28,9,0,1]\n",
    "my_list.index(1)"
   ]
  },
  {
   "cell_type": "code",
   "execution_count": null,
   "metadata": {
    "slideshow": {
     "slide_type": "slide"
    }
   },
   "outputs": [],
   "source": [
    "# .remove(object) removes THE FIRST APPEARANCE of an object from the list\n",
    "my_list = [1,4,28,9,0,1]\n",
    "my_list.remove(1) # this CHANGES THE LIST OBJECT\n",
    "my_list"
   ]
  },
  {
   "cell_type": "code",
   "execution_count": null,
   "metadata": {
    "slideshow": {
     "slide_type": "slide"
    }
   },
   "outputs": [],
   "source": [
    "# .count(object) counts the number of times the object appears in the list\n",
    "my_list = [1,4,28,9,0,1]\n",
    "my_list.count(1)"
   ]
  },
  {
   "cell_type": "code",
   "execution_count": null,
   "metadata": {
    "slideshow": {
     "slide_type": "slide"
    }
   },
   "outputs": [],
   "source": [
    "# .reverse reverses the list order \n",
    "my_list = [1,2,6,10,19,55]\n",
    "my_list.reverse() # THIS CHANGES THE LIST OBJECT\n",
    "my_list"
   ]
  },
  {
   "cell_type": "code",
   "execution_count": null,
   "metadata": {
    "slideshow": {
     "slide_type": "slide"
    }
   },
   "outputs": [],
   "source": [
    "# .sort() sorts the list\n",
    "my_list = [1,4,28,9,0,1]\n",
    "my_list.sort() # THIS CHANGES THE LIST OBJECT\n",
    "my_list"
   ]
  },
  {
   "cell_type": "markdown",
   "metadata": {
    "slideshow": {
     "slide_type": "slide"
    }
   },
   "source": [
    "# Try it out yourself!\n",
    "\n",
    "We defined a list and a set for you. They both contain all characters of the string `\"All good things come to an end.\"`\n",
    "\n",
    "```python\n",
    "my_list = ['A', 'l', 'l', ' ','g', 'o', 'o', 'd', ' ', 't', 'h', 'i', 'n', 'g', 's', ' ', 'c', 'o', 'm', 'e', ' ', 't', 'o', ' ', 'a', 'n', ' ', 'e', 'n', 'd']\n",
    "my_set = {'A', 'l', 'l', ' ','g', 'o', 'o', 'd', ' ', 't', 'h', 'i', 'n', 'g', 's', ' ', 'c', 'o', 'm', 'e', ' ', 't', 'o', ' ', 'a', 'n', ' ', 'e', 'n', 'd'}\n",
    "```\n",
    "\n",
    "* What are the `len()`s of `my_list` and of `my_set`? Why are they different?\n",
    "* What is the index of the first appearance of `o` in `my_list`\n",
    "* How many times does the letter `o` appear in the list?\n",
    "* Why is there no \"count\" method for the set?\n",
    "* Can you find a way to check whether the letter `b` is in the set?\n",
    "* Sort the list alphabetically!\n",
    "* What is the index of the first appearance of `o` now?\n"
   ]
  },
  {
   "cell_type": "code",
   "execution_count": null,
   "metadata": {
    "slideshow": {
     "slide_type": "slide"
    }
   },
   "outputs": [],
   "source": [
    "# run this cell to define the variables \"my_list\" and \"my_set\"\n",
    "my_list = ['A', 'l', 'l', ' ','g', 'o', 'o', 'd', ' ', 't', 'h', 'i', 'n', 'g', 's', ' ', 'c', 'o', 'm', 'e', ' ', 't', 'o', ' ', 'a', 'n', ' ', 'e', 'n', 'd']\n",
    "my_set = {'A', 'l', 'l', ' ','g', 'o', 'o', 'd', ' ', 't', 'h', 'i', 'n', 'g', 's', ' ', 'c', 'o', 'm', 'e', ' ', 't', 'o', ' ', 'a', 'n', ' ', 'e', 'n', 'd'}"
   ]
  },
  {
   "cell_type": "code",
   "execution_count": null,
   "metadata": {
    "slideshow": {
     "slide_type": "slide"
    }
   },
   "outputs": [],
   "source": [
    "print(len(my_list)) # length of list\n",
    "print(len(my_set)) # length of set\n",
    "# lengths are different because...\n",
    "print(my_list.index(\"o\")) # first position at which we find the string \"o\"\n",
    "print(my_list.count(\"o\")) # count number of times \"o\" appears\n",
    "# why no count method for the set?\n",
    "# check whether \"b\" is in the set or not\n",
    "my_list.sort() # sort alphabetically\n",
    "print(my_list)\n",
    "print(my_list.index(\"o\"))\n"
   ]
  },
  {
   "cell_type": "code",
   "execution_count": null,
   "metadata": {
    "slideshow": {
     "slide_type": "slide"
    }
   },
   "outputs": [],
   "source": [
    "print(my_list.sort())"
   ]
  },
  {
   "cell_type": "markdown",
   "metadata": {
    "slideshow": {
     "slide_type": "slide"
    }
   },
   "source": [
    "# `for loops`\n",
    "\n",
    "# start at 11:15"
   ]
  },
  {
   "cell_type": "code",
   "execution_count": null,
   "metadata": {
    "slideshow": {
     "slide_type": "slide"
    }
   },
   "outputs": [],
   "source": [
    "weekday_list = [\"mon\", \"tue\", \"wed\", \"thu\", \"fri\", \"sat\", \"sun\"]\n",
    "print(weekday_list[0])\n",
    "print(weekday_list[1])\n",
    "print(weekday_list[2])\n",
    "print(weekday_list[3])\n",
    "print(weekday_list[4])\n",
    "print(weekday_list[5])\n",
    "print(weekday_list[6])\n",
    "# argh! is there a way to make this shorter?\n",
    "# yes of course"
   ]
  },
  {
   "cell_type": "code",
   "execution_count": null,
   "metadata": {
    "slideshow": {
     "slide_type": "slide"
    }
   },
   "outputs": [],
   "source": [
    "# We can \"ITERATE\" over a list\n",
    "weekday_list = [\"mon\", \"tue\", \"wed\", \"thu\", \"fri\", \"sat\", \"sun\"]\n",
    "for day in weekday_list:\n",
    "    print(day)\n",
    "# note the syntax!"
   ]
  },
  {
   "cell_type": "code",
   "execution_count": null,
   "metadata": {
    "slideshow": {
     "slide_type": "slide"
    }
   },
   "outputs": [],
   "source": [
    "# We can \"ITERATE\" OVER a list\n",
    "mylist = [1, 2, 3, 4, 5, 6, 7]\n",
    "for number in mylist:\n",
    "    print(number)\n",
    "# note that it doesn't matter what we call the variable!\n",
    "# the above is equivalent to:\n",
    "# for x in mylist:\n",
    "#     print(x)"
   ]
  },
  {
   "cell_type": "code",
   "execution_count": null,
   "metadata": {
    "slideshow": {
     "slide_type": "slide"
    }
   },
   "outputs": [],
   "source": [
    "# We can \"ITERATE\" OVER a list\n",
    "mylist = [1, 2, 3, 4, 5, 6, 7]\n",
    "for x in mylist:\n",
    "    if x < 4:\n",
    "        print(x**2) # and DO SOMETHING WITH the object\n",
    "    "
   ]
  },
  {
   "cell_type": "code",
   "execution_count": null,
   "metadata": {
    "slideshow": {
     "slide_type": "slide"
    }
   },
   "outputs": [],
   "source": [
    "# We can \"ITERATE\" OVER a list\n",
    "mylist = [1, 2, 3, 4, 5, 6, 7]\n",
    "for x in mylist:\n",
    "    print(x*10) # and DO SOMETHING WITH the object"
   ]
  },
  {
   "cell_type": "code",
   "execution_count": null,
   "metadata": {
    "slideshow": {
     "slide_type": "slide"
    }
   },
   "outputs": [],
   "source": [
    "# but we do not NEED to do anything to that object \n",
    "for i in [1,2,3,4,5,6,7]:\n",
    "    print(\"hello!\")\n",
    "# for i in [\"mon\", \"tue\", \"wed\", \"thu\", \"fri\", \"sat\", \"sun\"]:\n",
    "#     print(\"hello!\")\n",
    "# both of these for loops will \"just\" print the str \"hello!\" seven times."
   ]
  },
  {
   "cell_type": "code",
   "execution_count": null,
   "metadata": {
    "slideshow": {
     "slide_type": "slide"
    }
   },
   "outputs": [],
   "source": [
    "# if we just need the number of iterations, not the object itself, \n",
    "# it is common to use an underscore as a \"placeholder\":\n",
    "for _ in [1,2,3,4,5,6,7]:\n",
    "    print(\"hello!\")"
   ]
  },
  {
   "cell_type": "code",
   "execution_count": null,
   "metadata": {
    "slideshow": {
     "slide_type": "slide"
    }
   },
   "outputs": [],
   "source": [
    "# same as with if/else:\n",
    "# indented lines after \"for\" are part of the for loop; \n",
    "# stop indenting to return to the main block of code:\n",
    "\n",
    "for i in [0,1,2,3]:\n",
    "    print(i)\n",
    "    print(\"still in the for loop\")\n",
    "\n",
    "print(\"now we have exited the for-loop above\")"
   ]
  },
  {
   "cell_type": "code",
   "execution_count": null,
   "metadata": {
    "slideshow": {
     "slide_type": "slide"
    }
   },
   "outputs": [],
   "source": [
    "# is there a more practical way to do this?\n",
    "\n",
    "for i in [0,1,2,3,4,5,6,7,8,9,10]:\n",
    "    print(i)\n",
    "\n",
    "# spoiler: YES. it's called \"range\""
   ]
  },
  {
   "cell_type": "code",
   "execution_count": null,
   "metadata": {
    "slideshow": {
     "slide_type": "slide"
    }
   },
   "outputs": [],
   "source": [
    "# range(integer) creates a RANGE from 0 up to, \n",
    "# but NOT INCLUDING that integer\n",
    "range(10)\n",
    "# range is its own data type\n",
    "type(range(10))"
   ]
  },
  {
   "cell_type": "code",
   "execution_count": null,
   "metadata": {
    "slideshow": {
     "slide_type": "slide"
    }
   },
   "outputs": [],
   "source": [
    "# range can be ITERATED OVER\n",
    "for i in range(10):\n",
    "    print(i)\n",
    "# note that range(x) includes all integers from 0 up to, but NOT INCLUDING x\n",
    "# since python starts counting at 0: range(x) will give exactly X iterations."
   ]
  },
  {
   "cell_type": "code",
   "execution_count": null,
   "metadata": {
    "slideshow": {
     "slide_type": "slide"
    }
   },
   "outputs": [],
   "source": [
    "# range() starts at 0 by default; \n",
    "# we can tell range to start somewhere else;\n",
    "for i in range(3,7):\n",
    "    print(i)"
   ]
  },
  {
   "cell_type": "code",
   "execution_count": null,
   "metadata": {
    "slideshow": {
     "slide_type": "slide"
    }
   },
   "outputs": [],
   "source": [
    "# range() counts +1 at each step by default;\n",
    "# we can tell range to use a different step size:\n",
    "for i in range(5,125,10):\n",
    "    print(i)"
   ]
  },
  {
   "cell_type": "code",
   "execution_count": null,
   "metadata": {
    "slideshow": {
     "slide_type": "slide"
    }
   },
   "outputs": [],
   "source": [
    "# we have already tried iterating over (using the for loop)\n",
    "# for lists, and range objects. we can do the same for strings:\n",
    "for letter in \"Happy birthday\":\n",
    "    print(letter)"
   ]
  },
  {
   "cell_type": "code",
   "execution_count": null,
   "metadata": {
    "slideshow": {
     "slide_type": "slide"
    }
   },
   "outputs": [],
   "source": [
    "# we can also iterate over tuples:\n",
    "for x in (2, 3, 4):\n",
    "    print(x)"
   ]
  },
  {
   "cell_type": "code",
   "execution_count": null,
   "metadata": {
    "slideshow": {
     "slide_type": "slide"
    }
   },
   "outputs": [],
   "source": [
    "# ... and we can iterate over sets:\n",
    "for item in {5, 6, 7}:\n",
    "    print(item)"
   ]
  },
  {
   "cell_type": "code",
   "execution_count": null,
   "metadata": {
    "slideshow": {
     "slide_type": "slide"
    }
   },
   "outputs": [],
   "source": [
    "# what you can NOT iterate over:\n",
    "for number in 5: # ints, floats, booleans\n",
    "     print(number) # this throws an error message. \n",
    "# those are usually also the objects that have NO LENGTH!\n",
    "# len(5)"
   ]
  },
  {
   "cell_type": "markdown",
   "metadata": {
    "slideshow": {
     "slide_type": "slide"
    }
   },
   "source": [
    "## `for` loop syntax in Python\n",
    "\n",
    "```python\n",
    "for variable in iterable_object:\n",
    "    statement\n",
    "```\n",
    "\n",
    "**iterable objects (sequences):** `list`; `range`; `str`; `set`; `tuple`"
   ]
  },
  {
   "cell_type": "markdown",
   "metadata": {
    "slideshow": {
     "slide_type": "slide"
    }
   },
   "source": [
    "## `for` loop syntax in Python\n",
    "\n",
    "```python\n",
    "for variable in iterable_object:\n",
    "    statement\n",
    "```\n",
    "\n",
    "**Quiz:** How many times will the statement be executed (= how many *iterations* does the for loop have) if:\n",
    "* a. `iterable_object = [1,2]` (a list)\n",
    "* b. `iterable_object = (\"red\", \"blue\", \"yellow\", \"orange\", \"green\")` (a tuple)\n",
    "* c. `iterable_object = \"no justice\"` (a string)\n",
    "* d. `iterable_object = {\"no justice\", \"no peace\"}` (a set)\n",
    "* e. `iterable_object = range(7)` (a range)\n",
    "* f. `iterable_object = 10` (an int)"
   ]
  },
  {
   "cell_type": "code",
   "execution_count": null,
   "metadata": {
    "slideshow": {
     "slide_type": "slide"
    }
   },
   "outputs": [],
   "source": [
    "# len()...."
   ]
  },
  {
   "cell_type": "markdown",
   "metadata": {
    "slideshow": {
     "slide_type": "slide"
    }
   },
   "source": [
    "# Try it out yourself!\n",
    "\n",
    "* Make a list of your 4 favourite foods (as strings).\n",
    "* With the help of a for loop, print out \"I love XYZ\" four times. (replace X by the food item on the list). \n",
    "* **Hint:** remember you can use the `+` operator to concatenate (combine) strings.\n",
    "\n",
    "Your output should look something like this:\n",
    "```\n",
    "I love pizza\n",
    "I love coffee\n",
    "I love snacks\n",
    "I love broccoli\n",
    "```\n"
   ]
  },
  {
   "cell_type": "code",
   "execution_count": null,
   "metadata": {
    "slideshow": {
     "slide_type": "slide"
    }
   },
   "outputs": [],
   "source": [
    "# make a list of four favourite foods\n",
    "# foods = [...]\n",
    "\n",
    "# make a for loop and print out the food at each step"
   ]
  },
  {
   "cell_type": "markdown",
   "metadata": {
    "slideshow": {
     "slide_type": "slide"
    }
   },
   "source": [
    "# `while loops`"
   ]
  },
  {
   "cell_type": "code",
   "execution_count": null,
   "metadata": {
    "slideshow": {
     "slide_type": "slide"
    }
   },
   "outputs": [],
   "source": [
    "# the code after \"if\" is executed ONCE, IF the condition is True.\n",
    "x = 5\n",
    "if x == 5:\n",
    "    print(\"hello!\") "
   ]
  },
  {
   "cell_type": "code",
   "execution_count": null,
   "metadata": {
    "slideshow": {
     "slide_type": "slide"
    }
   },
   "outputs": [],
   "source": [
    "# how to make our computer work FOREVER: just replace \"if\" by \"while\".\n",
    "# the code after \"while\" is executed WHILE (AS LONG AS) the condition is True.\n",
    "x = 5\n",
    "while x == 5:\n",
    "    print(\"hello!\")"
   ]
  },
  {
   "cell_type": "code",
   "execution_count": 105,
   "metadata": {
    "slideshow": {
     "slide_type": "slide"
    }
   },
   "outputs": [],
   "source": [
    "# how to move on from the while loop?!\n",
    "# option 1: the condition must change INSIDE the while loop\n",
    "i = 0\n",
    "while i < 5: \n",
    "    # print(\"i is: \", i)\n",
    "    i = i + 1 # at each step, we CHANGE the condition that is evaluated"
   ]
  },
  {
   "cell_type": "code",
   "execution_count": null,
   "metadata": {
    "slideshow": {
     "slide_type": "slide"
    }
   },
   "outputs": [],
   "source": [
    "# how to move on from the while loop?!\n",
    "# option 1: the condition must change INSIDE the while loop\n",
    "i = 0\n",
    "while i < 5: # NOTE THAT to use \"i\" here, we must FIRST define it!\n",
    "    print(\"i is: \", i)\n",
    "    i = i + 1 # at each step, we CHANGE the condition that is evaluated"
   ]
  },
  {
   "cell_type": "code",
   "execution_count": 2,
   "metadata": {
    "slideshow": {
     "slide_type": "slide"
    }
   },
   "outputs": [
    {
     "name": "stdout",
     "output_type": "stream",
     "text": [
      "0 (i before)\n",
      "1 (i after)\n",
      "\n",
      "\n",
      "1 (i before)\n",
      "2 (i after)\n",
      "\n",
      "\n",
      "2 (i before)\n",
      "3 (i after)\n",
      "\n",
      "\n",
      "3 (i before)\n",
      "4 (i after)\n",
      "\n",
      "\n",
      "4 (i before)\n",
      "5 (i after)\n",
      "\n",
      "\n"
     ]
    }
   ],
   "source": [
    "# how to stop the while loop?!\n",
    "# the condition must change *within* the while loop\n",
    "i = 0\n",
    "while i < 5:\n",
    "    print(i, \"(i before)\") # value of i at the beginning of the iteration step\n",
    "    i = i + 1 # at each step, we CHANGE the condition that is evaluated\n",
    "    print(i, \"(i after)\") # value of i at the end of the iteration step\n",
    "    print(\"\\n\") # print an emtpy line"
   ]
  },
  {
   "cell_type": "code",
   "execution_count": 5,
   "metadata": {
    "slideshow": {
     "slide_type": "slide"
    }
   },
   "outputs": [
    {
     "name": "stdout",
     "output_type": "stream",
     "text": [
      "1\n",
      "2\n",
      "3\n",
      "4\n",
      "5\n"
     ]
    }
   ],
   "source": [
    "# how to stop the while loop?\n",
    "# while with object as condition;\n",
    "# while loop will stop once the object is empty \n",
    "# (and its boolean value becomes False)\n",
    "my_set = {1, 2, 3, 4, 5}\n",
    "while my_set: # boolean value of my_set\n",
    "    x = my_set.pop() # remove one item from the set at each step\n",
    "    print(x)"
   ]
  },
  {
   "cell_type": "code",
   "execution_count": 7,
   "metadata": {
    "slideshow": {
     "slide_type": "slide"
    }
   },
   "outputs": [
    {
     "name": "stdout",
     "output_type": "stream",
     "text": [
      "1\n",
      "2\n",
      "3\n",
      "4\n",
      "5\n",
      "6\n",
      "7\n",
      "8\n",
      "9\n",
      "10\n",
      "11\n"
     ]
    }
   ],
   "source": [
    "# how to stop the while loop?\n",
    "# option 2: with an \"if ...: break\" statement\n",
    "x = 0\n",
    "while True: # this will go on FOREVER,\n",
    "    x = x + 1\n",
    "    print(x)\n",
    "    if x > 10: # UNLESS this condition is true,\n",
    "        break # THEN IT WILL STOP\n",
    "    "
   ]
  },
  {
   "cell_type": "code",
   "execution_count": 9,
   "metadata": {
    "slideshow": {
     "slide_type": "slide"
    }
   },
   "outputs": [
    {
     "name": "stdout",
     "output_type": "stream",
     "text": [
      "sheep number:  1\n",
      "sheep number:  2\n",
      "sheep number:  3\n",
      "sheep number:  4\n",
      "sheep number:  5\n",
      "sheep number:  6\n",
      "sheep number:  7\n",
      "sheep number:  8\n",
      "I'm asleep now!\n"
     ]
    }
   ],
   "source": [
    "# how to stop the while loop?\n",
    "# option 2: with an \"if ...: break\" statement\n",
    "sheep = 0 # \"counting sheep\"\n",
    "asleep = 8 # i need to count 8 sheep to fall asleep\n",
    "while True:\n",
    "    sheep = sheep + 1 \n",
    "    print(\"sheep number: \", sheep)\n",
    "    if sheep == asleep:\n",
    "        print(\"I'm asleep now!\")\n",
    "        break"
   ]
  },
  {
   "cell_type": "code",
   "execution_count": 11,
   "metadata": {
    "slideshow": {
     "slide_type": "slide"
    }
   },
   "outputs": [
    {
     "name": "stdout",
     "output_type": "stream",
     "text": [
      "0\n",
      "1\n",
      "2\n",
      "3\n",
      "4\n"
     ]
    }
   ],
   "source": [
    "# by the way, this also works to break out of for loops\n",
    "for i in range(10):\n",
    "    print(i)\n",
    "    if i > 3:\n",
    "         break"
   ]
  },
  {
   "cell_type": "markdown",
   "metadata": {
    "slideshow": {
     "slide_type": "slide"
    }
   },
   "source": [
    "## `while` loop syntax in Python\n",
    "\n",
    "```python\n",
    "while condition:\n",
    "    statement # (which modifies the condition!)\n",
    "\n",
    "### or, slightly more sophisticated\n",
    "\n",
    "while condition1:\n",
    "    statement\n",
    "    if condition2:\n",
    "        break\n",
    "```"
   ]
  },
  {
   "cell_type": "markdown",
   "metadata": {
    "slideshow": {
     "slide_type": "slide"
    }
   },
   "source": [
    "# Try it out yourself!\n",
    "\n",
    "### 1. Make a `for` loop that adds together all numbers in a list \n",
    "\n",
    "**Hint:** before the `for` loop, define a variable `my_sum` and set it to `0`.\n",
    "\n",
    "### 2. Make a `while` loop that adds together all integers starting from 0 into the variable `my_sum`, and ends once `my_sum` reaches at least `1000`. \n",
    "\n",
    "**Hint:** before the `while` loop, \n",
    "* define a variable `i` and set it to `0`; `i`  will increase by `+1` at each iteration step.\n",
    "* define a variable `my_sum` and set it to `0`; `my_sum` should increase first by `+1`, then by `+2`, then by `+3` ... at each iteration step. "
   ]
  },
  {
   "cell_type": "code",
   "execution_count": null,
   "metadata": {
    "slideshow": {
     "slide_type": "slide"
    }
   },
   "outputs": [],
   "source": [
    "# Try it out yourself: sum all the numbers in a list with a for-loop\n",
    "my_sum = 0\n",
    "my_list = [0, 1, 2, 3, 4, 5, 6, 7]\n",
    "# for loop to add all numbers in a list together\n",
    "# for ...\n",
    "print(my_sum) # should be 28!"
   ]
  },
  {
   "cell_type": "code",
   "execution_count": null,
   "metadata": {
    "slideshow": {
     "slide_type": "slide"
    }
   },
   "outputs": [],
   "source": [
    "# Try it out yourself: sum all integers until you reach 1000 with a while loop\n",
    "my_sum = 0\n",
    "i = 0\n",
    "# while ...\n",
    "# don't forget to break!"
   ]
  },
  {
   "cell_type": "code",
   "execution_count": null,
   "metadata": {
    "slideshow": {
     "slide_type": "slide"
    }
   },
   "outputs": [],
   "source": [
    "# this comes in handy for our while loop magic:\n",
    "my_set = {1, 2, 3, 4, 5}\n",
    "while my_set:\n",
    "    my_set.pop()"
   ]
  },
  {
   "cell_type": "code",
   "execution_count": null,
   "metadata": {
    "slideshow": {
     "slide_type": "slide"
    }
   },
   "outputs": [],
   "source": [
    "# this comes in handy for our while loop magic:\n",
    "my_set = {1, 2, 3, 4, 5}\n",
    "while my_set:\n",
    "    print(my_set.pop())"
   ]
  },
  {
   "cell_type": "code",
   "execution_count": null,
   "metadata": {
    "slideshow": {
     "slide_type": "slide"
    }
   },
   "outputs": [],
   "source": [
    "# this comes in handy for our while loop magic:\n",
    "my_set = {1, 2, 3, 4, 5}\n",
    "print(\"my_set before the while loop: \", my_set)\n",
    "while my_set:\n",
    "    popped = my_set.pop()\n",
    "    print(\"popped:\", popped, \"; my_set:\", my_set)"
   ]
  },
  {
   "cell_type": "markdown",
   "metadata": {
    "slideshow": {
     "slide_type": "slide"
    }
   },
   "source": [
    "# Update on your operators skill set!\n",
    "\n",
    "### Arithmetic operators in Python:\n",
    "* Addition `+`, \n",
    "* subtraction  `-`, \n",
    "* multiplication `*`, \n",
    "* division `/`, \n",
    "* exponentiation `**`, \n",
    "* integer division `//`\n",
    "* **Modulus** `%`\n",
    "\n",
    "> For the purposes of this crash course, it is enough for you to know how to use modulus to check whether a number is even or odd. If you're curious about what else modulo can do for you, [click here](https://realpython.com/python-modulo-operator/)"
   ]
  },
  {
   "cell_type": "code",
   "execution_count": null,
   "metadata": {
    "slideshow": {
     "slide_type": "slide"
    }
   },
   "outputs": [],
   "source": [
    "# it gives us the *remainder* of a division\n",
    "# 15 % 5; 15 % 2; 33 % 10\n",
    "33 % 10"
   ]
  },
  {
   "cell_type": "code",
   "execution_count": null,
   "metadata": {
    "slideshow": {
     "slide_type": "slide"
    }
   },
   "outputs": [],
   "source": [
    "# for even numbers, the *remainder* of a division by 2 is 0 (by definition)\n",
    "# 16 % 2\n",
    "# for odd numbers, the *remainder* of a division by 2 is NOT 0 (by definition)\n",
    "# 17 % 2"
   ]
  },
  {
   "cell_type": "code",
   "execution_count": null,
   "metadata": {
    "slideshow": {
     "slide_type": "slide"
    }
   },
   "outputs": [],
   "source": [
    "# for even numbers, the *remainder* of a division by 2 is 0 (by definition)\n",
    "# 16 % 2 == 0 # making sure that modulo 0 ... number is even\n",
    "# for odd numbers, the *remainder* of a division by 2 is NOT 0 (by definition)\n",
    "# 17 % 2 != 0 # making sure that modulo 1 ... number is odd"
   ]
  },
  {
   "cell_type": "markdown",
   "metadata": {
    "slideshow": {
     "slide_type": "slide"
    }
   },
   "source": [
    "# Update on your operators skill set!\n",
    "\n",
    "### Assignment operators in Python:\n",
    "* `=` assign value of expression (right) to variable (left)\n",
    "* `+=, -=, *=, /=` **add and assign; subtract and assign; multiply and assign; divide and assign**"
   ]
  },
  {
   "cell_type": "code",
   "execution_count": null,
   "metadata": {
    "slideshow": {
     "slide_type": "slide"
    }
   },
   "outputs": [],
   "source": [
    "i = 4\n",
    "i = i + 1\n",
    "i"
   ]
  },
  {
   "cell_type": "code",
   "execution_count": null,
   "metadata": {
    "slideshow": {
     "slide_type": "slide"
    }
   },
   "outputs": [],
   "source": [
    "# we can make this shorter and more elegant:\n",
    "i = 4\n",
    "i += 1 # \"add 1 and assign\"\n",
    "i"
   ]
  },
  {
   "cell_type": "code",
   "execution_count": null,
   "metadata": {
    "slideshow": {
     "slide_type": "slide"
    }
   },
   "outputs": [],
   "source": [
    "# we can make this shorter and more elegant:\n",
    "i = 4\n",
    "i += 1 # means the same as i = i +1 \n",
    "i"
   ]
  },
  {
   "cell_type": "code",
   "execution_count": null,
   "metadata": {
    "slideshow": {
     "slide_type": "slide"
    }
   },
   "outputs": [],
   "source": [
    "# same logic for all other mathematical operators:\n",
    "a = 9\n",
    "a = a - 2\n",
    "a"
   ]
  },
  {
   "cell_type": "code",
   "execution_count": null,
   "metadata": {
    "slideshow": {
     "slide_type": "slide"
    }
   },
   "outputs": [],
   "source": [
    "# same logic for all other mathematical operators:\n",
    "a = 9\n",
    "a -= 2\n",
    "a"
   ]
  },
  {
   "cell_type": "code",
   "execution_count": null,
   "metadata": {
    "slideshow": {
     "slide_type": "slide"
    }
   },
   "outputs": [],
   "source": [
    "# same logic for all other mathematical operators:\n",
    "b = 15\n",
    "b *= 2\n",
    "b"
   ]
  },
  {
   "cell_type": "code",
   "execution_count": null,
   "metadata": {
    "slideshow": {
     "slide_type": "slide"
    }
   },
   "outputs": [],
   "source": [
    "# same logic for all other mathematical operators:\n",
    "b = 15\n",
    "b /= 3\n",
    "b\n",
    "# note how the variable type changed to float!"
   ]
  },
  {
   "cell_type": "code",
   "execution_count": null,
   "metadata": {
    "slideshow": {
     "slide_type": "slide"
    }
   },
   "outputs": [],
   "source": [
    "# this also works for lists\n",
    "my_list = [3,6,9]\n",
    "my_list += [8,4,7]\n",
    "my_list"
   ]
  },
  {
   "cell_type": "code",
   "execution_count": null,
   "metadata": {
    "slideshow": {
     "slide_type": "slide"
    }
   },
   "outputs": [],
   "source": [
    "# ... and for strings\n",
    "my_word = \"tusind\"\n",
    "my_word += \"tak\"\n",
    "my_word"
   ]
  },
  {
   "cell_type": "markdown",
   "metadata": {
    "slideshow": {
     "slide_type": "slide"
    }
   },
   "source": [
    "# Control flow in Python\n",
    "\n",
    "Control flow = the order in which the code is executed. Affected by:\n",
    "\n",
    "* default mode is *sequential* (\"line by line\");\n",
    "* conditional statements (`if`, `else`);\n",
    "* loops (`for`, `while`, `break`);\n",
    "* function calls"
   ]
  },
  {
   "cell_type": "markdown",
   "metadata": {
    "slideshow": {
     "slide_type": "slide"
    }
   },
   "source": [
    "# What you have learned so far\n",
    "\n",
    "* **data types**\n",
    "    * `int, float, str, bool`\n",
    "    * `list, tuple, set`\n",
    "    * `range`\n",
    "* **operators**\n",
    "    * arithmetic `+ - * / ** // %`\n",
    "    * assignment `= += -= *= /=`\n",
    "    * comparison `< > == != >= <=`\n",
    "    * logical `not and or`  \n",
    "* **functions** (built-in & self-defined)\n",
    "* **methods** (so far: for sets, tuples, lists)\n",
    "* **control flow**\n",
    "    * conditional statements: `if, elif, else`\n",
    "    * `for` loops\n",
    "    * `while` loops\n",
    "    * function calls"
   ]
  }
 ],
 "metadata": {
  "celltoolbar": "Slideshow",
  "kernelspec": {
   "display_name": "Python 3 (ipykernel)",
   "language": "python",
   "name": "python3"
  },
  "language_info": {
   "codemirror_mode": {
    "name": "ipython",
    "version": 3
   },
   "file_extension": ".py",
   "mimetype": "text/x-python",
   "name": "python",
   "nbconvert_exporter": "python",
   "pygments_lexer": "ipython3",
   "version": "3.11.4"
  }
 },
 "nbformat": 4,
 "nbformat_minor": 2
}

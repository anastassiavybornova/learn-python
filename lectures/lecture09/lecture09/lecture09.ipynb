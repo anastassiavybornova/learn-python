{
 "cells": [
  {
   "cell_type": "markdown",
   "metadata": {},
   "source": [
    "# Recap of Lecture 08: pandas\n",
    "\n",
    "```python\n",
    "import pandas as pd # great package for tabular data!\n",
    "```\n",
    "**Methods & functions:**\n",
    "* Reading & writing data `read_csv(), .to_csv()` \n",
    "* Exploring data set `.head(), .tail(), .describe()`\n",
    "* Modifying and copying data set `.drop(), .sort_values(), .copy()`\n",
    "* Check for missing values `.isna(), .notna()`\n",
    "\n",
    "**Attributes** of data frames: `.index, .columns, .dtypes`\n",
    "\n",
    "**Indexing:** `[]`, `.loc[]`"
   ]
  },
  {
   "cell_type": "code",
   "execution_count": null,
   "metadata": {},
   "outputs": [],
   "source": [
    "# importing packages for today - good practice: \n",
    "# import them AT THE BEGINNING of your notebook\n",
    "import random\n",
    "import time"
   ]
  },
  {
   "cell_type": "markdown",
   "metadata": {},
   "source": [
    "# Lecture 09\n",
    "\n",
    "* Recursive functions\n",
    "* Binary search algorithm \n",
    "    * How to put a stop watch within your code (easily)\n",
    "    * How to make your own modules\n",
    "* managing environments with conda"
   ]
  },
  {
   "cell_type": "markdown",
   "metadata": {},
   "source": [
    "# Recursive functions"
   ]
  },
  {
   "cell_type": "code",
   "execution_count": null,
   "metadata": {},
   "outputs": [],
   "source": [
    "def magic_function(n):\n",
    "    if n <= 1:\n",
    "        return 1\n",
    "    else:\n",
    "        return magic_function( n-1 ) * n"
   ]
  },
  {
   "cell_type": "code",
   "execution_count": null,
   "metadata": {},
   "outputs": [],
   "source": [
    "# what the hell?\n",
    "magic_function(1)"
   ]
  },
  {
   "cell_type": "markdown",
   "metadata": {},
   "source": [
    "> show on blackboard"
   ]
  },
  {
   "cell_type": "code",
   "execution_count": null,
   "metadata": {},
   "outputs": [],
   "source": [
    "def magic_function_with_statements(n):\n",
    "    print(f\"calling function, n is {n}\")\n",
    "    if n <= 1:\n",
    "        print(\"returning 1\")\n",
    "        return 1\n",
    "    else:\n",
    "        print(f\"will now compute magic_function_with_statements({n-1})*{n}\")\n",
    "        return magic_function_with_statements(n-1) * n\n",
    "magic_function_with_statements(5)"
   ]
  },
  {
   "cell_type": "markdown",
   "metadata": {},
   "source": [
    "## 0, 1, 1, 2, 3, 5, 8, 13, 21, 34, ... ?\n",
    "\n",
    "Can you come up with a rule for finding the next number?\n",
    "\n",
    "The same rule applies for all numbers, except for the first two (0 and 1).\n",
    "\n",
    "> shown in class\n",
    "\n",
    "We wrote our own module for this!"
   ]
  },
  {
   "cell_type": "code",
   "execution_count": null,
   "metadata": {},
   "outputs": [],
   "source": [
    "# import my own module (just a python file called \"fibo.py\" \n",
    "# in the same location as the notebook; \n",
    "# which contains the function definition def fib(...))\n",
    "# import a function from that module: \"from fibo import fib\"\n",
    "# fib(1)"
   ]
  },
  {
   "cell_type": "code",
   "execution_count": null,
   "metadata": {},
   "outputs": [],
   "source": [
    "# for i in range(10):\n",
    "#     print(f\"fib {i} is: {fib(i)}\")"
   ]
  },
  {
   "cell_type": "code",
   "execution_count": null,
   "metadata": {},
   "outputs": [],
   "source": [
    "# try for different values of n:\n",
    "# fib(10)"
   ]
  },
  {
   "cell_type": "code",
   "execution_count": null,
   "metadata": {},
   "outputs": [],
   "source": [
    "# Recursive function that returns the n-th number\n",
    "# from the fibonacci sequence: \n",
    "# (this is the code from the fibo.py script)\n",
    "def fib(n):\n",
    "    # base case:\n",
    "    if n == 1:\n",
    "        return 1\n",
    "    elif n == 0:\n",
    "        return 0\n",
    "    else:\n",
    "        return fib(n-1) + fib(n-2)"
   ]
  },
  {
   "cell_type": "code",
   "execution_count": null,
   "metadata": {},
   "outputs": [],
   "source": [
    "# One problem with recursive functions: they can easily run into memory issues\n",
    "# \"Memoization\" >> see Exercise 09!"
   ]
  },
  {
   "cell_type": "markdown",
   "metadata": {},
   "source": [
    "[image of the sequence & more on fibonacci](https://tecadmin.net/what-is-fibonacci-sequence/)"
   ]
  },
  {
   "cell_type": "markdown",
   "metadata": {},
   "source": [
    "***\n",
    "# Binary search\n",
    "\n",
    "> cf. slides: 09a_binarysearch"
   ]
  },
  {
   "cell_type": "markdown",
   "metadata": {},
   "source": [
    "***\n",
    "\n",
    "# Takeaway 1: searching a sorted list is much faster!\n",
    "\n",
    "# Takeaway 2: binary search is much faster than checking every item!\n",
    "\n",
    "But **how much** faster?\n",
    "\n",
    "```python\n",
    "import time # import the time module\n",
    "time.time() # gives you the time RIGHT NOW in seconds\n",
    "# time.time_ns() # if you want to be VERY precise\n",
    "```\n",
    "\n",
    "**fun fact:** When did [(Unix) time](https://en.wikipedia.org/wiki/Unix_time) start? January 1st, 1970!"
   ]
  },
  {
   "cell_type": "code",
   "execution_count": null,
   "metadata": {},
   "outputs": [],
   "source": [
    "# we imported the time module at the beginning of the notebook\n",
    "# use the time.time() function twice\n",
    "time1 = time.time()\n",
    "time2 = time.time()\n",
    "# compute the difference\n",
    "print(\"Time that passed in seconds: \", time2 - time1)"
   ]
  },
  {
   "cell_type": "code",
   "execution_count": null,
   "metadata": {},
   "outputs": [],
   "source": [
    "# time.time() gives you seconds, as float; to avoid float imprecisions:\n",
    "# time.time_ns() gives you nanoseconds, as integer\n",
    "time1 = time.time_ns()\n",
    "time2 = time.time_ns()\n",
    "# compute the difference\n",
    "print(\"Time that passed in NANOseconds: \", time2 - time1)"
   ]
  },
  {
   "cell_type": "code",
   "execution_count": null,
   "metadata": {},
   "outputs": [],
   "source": [
    "# import my own module (just a python file in the same location; \n",
    "# which contains the function definition def binary_search(...))\n",
    "import my_binary_search\n",
    "#?my_binary_search.binary_search"
   ]
  },
  {
   "cell_type": "code",
   "execution_count": null,
   "metadata": {},
   "outputs": [],
   "source": [
    "# generate a long list of random numbers\n",
    "many_numbers = random.choices(range(10**9), k=10**7)\n",
    "# sort the list\n",
    "many_numbers.sort()\n",
    "# show the first couple of items on the list\n",
    "many_numbers[0:10]"
   ]
  },
  {
   "cell_type": "code",
   "execution_count": null,
   "metadata": {},
   "outputs": [],
   "source": [
    "# Iterative search\n",
    "my_number = 12345\n",
    "t_start = time.time()\n",
    "for item in many_numbers:\n",
    "    if item==my_number:\n",
    "        print(\"Found it!\")\n",
    "        break\n",
    "t_finish = time.time()\n",
    "t_iterative = t_finish - t_start\n",
    "print(\"Iterative search: \", t_iterative, \"seconds\")\n",
    "print(f\"In nanoseconds: {t_iterative*10**9}\")"
   ]
  },
  {
   "cell_type": "code",
   "execution_count": null,
   "metadata": {},
   "outputs": [],
   "source": [
    "t_start = time.time()\n",
    "my_number in many_numbers\n",
    "t_finish = time.time()\n",
    "t_keyword = t_finish - t_start\n",
    "print(\"Keyword search:\", t_keyword, \"seconds\")\n",
    "print(f\"In nanoseconds: {t_keyword*10**9}\")"
   ]
  },
  {
   "cell_type": "code",
   "execution_count": null,
   "metadata": {},
   "outputs": [],
   "source": [
    "t_start = time.time()\n",
    "my_binary_search.binary_search(my_number, many_numbers)\n",
    "t_finish = time.time()\n",
    "t_binary = t_finish - t_start\n",
    "print(\"Binary search: \", t_binary, \"seconds\")\n",
    "print(f\"In nanoseconds: {t_binary*10**9}\")"
   ]
  },
  {
   "cell_type": "code",
   "execution_count": null,
   "metadata": {},
   "outputs": [],
   "source": [
    "# compare the execution times\n",
    "# t_iterative / t_keyword # almost equally long\n",
    "# t_keyword / t_binary # 18.000 times faster\n",
    "# t_iterative / t_binary # almost 20.000 times faster"
   ]
  },
  {
   "cell_type": "markdown",
   "metadata": {},
   "source": [
    "# Cell magic in Jupyter notebook\n",
    "\n",
    "[read more here](https://ipython.readthedocs.io/en/stable/interactive/magics.html#)\n",
    "\n",
    "(You already know the line magic `%run` for running python files)\n",
    "\n",
    "Cell magic: needs to go in very first line of cell;\n",
    "\n",
    "`%%time` gives you time for entire cell\n",
    "\n",
    "`%%timeit` gives you time for entire cell, averaged over several runs"
   ]
  },
  {
   "cell_type": "code",
   "execution_count": null,
   "metadata": {},
   "outputs": [],
   "source": [
    "%%time\n",
    "for item in many_numbers:\n",
    "    if item==my_number:\n",
    "        print(\"Found it!\")\n",
    "        break"
   ]
  },
  {
   "cell_type": "code",
   "execution_count": null,
   "metadata": {},
   "outputs": [],
   "source": [
    "%%timeit\n",
    "my_number in many_numbers"
   ]
  },
  {
   "cell_type": "code",
   "execution_count": null,
   "metadata": {},
   "outputs": [],
   "source": [
    "%%timeit\n",
    "my_binary_search.binary_search(my_number, many_numbers)"
   ]
  },
  {
   "cell_type": "markdown",
   "metadata": {},
   "source": [
    "# Takeaways:\n",
    "* Binary search algorithm: simple, FAST, and you can implement it yourself!\n",
    "* **Writing your own modules:** just put everything in a .py file and import it `import filename` (without the `.py`)\n",
    "* Timing code, option 1: from the `time` module, `time.time()` (CURRENT TIME in seconds before & after code)\n",
    "* Timing code, option 2: `%%time` / `%%timeit` (times entire cell), just for Jupyter notebook"
   ]
  },
  {
   "cell_type": "markdown",
   "metadata": {},
   "source": [
    "***\n",
    "# Conda\n",
    "\n",
    "> cf. slides 09b_environments + CLI commands shown in class"
   ]
  }
 ],
 "metadata": {
  "kernelspec": {
   "display_name": "base",
   "language": "python",
   "name": "python3"
  },
  "language_info": {
   "codemirror_mode": {
    "name": "ipython",
    "version": 3
   },
   "file_extension": ".py",
   "mimetype": "text/x-python",
   "name": "python",
   "nbconvert_exporter": "python",
   "pygments_lexer": "ipython3",
   "version": "3.11.4"
  },
  "orig_nbformat": 4
 },
 "nbformat": 4,
 "nbformat_minor": 2
}

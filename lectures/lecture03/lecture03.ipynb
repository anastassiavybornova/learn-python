{
 "cells": [
  {
   "cell_type": "markdown",
   "metadata": {
    "slideshow": {
     "slide_type": "slide"
    }
   },
   "source": [
    "# 2023-09-06 Announcements"
   ]
  },
  {
   "cell_type": "markdown",
   "metadata": {
    "slideshow": {
     "slide_type": "slide"
    }
   },
   "source": [
    "# Recap of Lecture & Exercise 02\n",
    "\n",
    "* The Jupyter Notebook interface & markdown formatting \n",
    "* Fundamental (primitive) data types in Python: `int, float, str, bool`\n",
    "* Declaring & using variables\n",
    "* Casting (data type conversion) of variables: `int(), float(), str(), bool()`\n",
    "* **Operators**:\n",
    "    * Arithmetic `+ - * / ** //`, \n",
    "    * assignment `=`, \n",
    "    * comparison `< > == != >= <=`, and \n",
    "    * logical `not and or`\n",
    "* Fundamental concepts of Python: objects, operators, variables, variable types\n",
    "* using `print()` and `type()`"
   ]
  },
  {
   "cell_type": "markdown",
   "metadata": {
    "slideshow": {
     "slide_type": "slide"
    }
   },
   "source": [
    "# Python Crash Course - Lecture 03\n",
    "Today we will learn:\n",
    "* A new data type: **`list`** & **indexing**  **`[:]`** of lists (and strings)\n",
    "* **Functions** in Python: what **built-in functions** are, and how to **`define your own functions`** \n",
    "* **Conditional statements:** **`if, else, elif`**"
   ]
  },
  {
   "cell_type": "markdown",
   "metadata": {
    "slideshow": {
     "slide_type": "slide"
    }
   },
   "source": [
    "*** \n",
    "\n",
    "# `list`s in Python - intro\n",
    "\n",
    "* We already know: `int float str bool`\n",
    "* We will learn today: `list`\n",
    "* We will learn later: ...\n",
    "\n",
    "Let's see some simple examples first."
   ]
  },
  {
   "cell_type": "code",
   "execution_count": 1,
   "metadata": {
    "slideshow": {
     "slide_type": "slide"
    }
   },
   "outputs": [
    {
     "data": {
      "text/plain": [
       "[1, 2, 3]"
      ]
     },
     "execution_count": 1,
     "metadata": {},
     "output_type": "execute_result"
    }
   ],
   "source": [
    "# With square brackets and commas in between, \n",
    "# we can make a Python list.\n",
    "[1, 2, 3]"
   ]
  },
  {
   "cell_type": "code",
   "execution_count": 2,
   "metadata": {
    "slideshow": {
     "slide_type": "slide"
    }
   },
   "outputs": [
    {
     "data": {
      "text/plain": [
       "list"
      ]
     },
     "execution_count": 2,
     "metadata": {},
     "output_type": "execute_result"
    }
   ],
   "source": [
    "# let's check what data type this is:\n",
    "type([1,2,3])"
   ]
  },
  {
   "cell_type": "code",
   "execution_count": 3,
   "metadata": {
    "slideshow": {
     "slide_type": "slide"
    }
   },
   "outputs": [
    {
     "data": {
      "text/plain": [
       "[0]"
      ]
     },
     "execution_count": 3,
     "metadata": {},
     "output_type": "execute_result"
    }
   ],
   "source": [
    "# Lists can also have just one element.\n",
    "[0]"
   ]
  },
  {
   "cell_type": "code",
   "execution_count": 5,
   "metadata": {
    "slideshow": {
     "slide_type": "slide"
    }
   },
   "outputs": [
    {
     "data": {
      "text/plain": [
       "list"
      ]
     },
     "execution_count": 5,
     "metadata": {},
     "output_type": "execute_result"
    }
   ],
   "source": [
    "# Lists can even be empty. It's the square brackets that make the list.\n",
    "empty_list = []\n",
    "type(empty_list)"
   ]
  },
  {
   "cell_type": "code",
   "execution_count": 6,
   "metadata": {
    "slideshow": {
     "slide_type": "slide"
    }
   },
   "outputs": [
    {
     "data": {
      "text/plain": [
       "['Groundhog Day', 'Solaris', 'Barbie']"
      ]
     },
     "execution_count": 6,
     "metadata": {},
     "output_type": "execute_result"
    }
   ],
   "source": [
    "# We can also make a list of strings, for example movies we want to watch.\n",
    "[\"Groundhog Day\", \"Solaris\", \"Barbie\"]"
   ]
  },
  {
   "cell_type": "code",
   "execution_count": 7,
   "metadata": {
    "slideshow": {
     "slide_type": "slide"
    }
   },
   "outputs": [
    {
     "data": {
      "text/plain": [
       "['movie night']"
      ]
     },
     "execution_count": 7,
     "metadata": {},
     "output_type": "execute_result"
    }
   ],
   "source": [
    "# A list can also contain just one string. \n",
    "# It is still a proper list (just with one element.)\n",
    "[\"movie night\"]"
   ]
  },
  {
   "cell_type": "code",
   "execution_count": 8,
   "metadata": {
    "slideshow": {
     "slide_type": "slide"
    }
   },
   "outputs": [
    {
     "name": "stdout",
     "output_type": "stream",
     "text": [
      "[10, 20, 30]\n"
     ]
    }
   ],
   "source": [
    "# We can also store variables in lists.\n",
    "x = 10\n",
    "y = 20\n",
    "z = 30\n",
    "my_list = [x, y, z]\n",
    "print(my_list)"
   ]
  },
  {
   "cell_type": "code",
   "execution_count": 9,
   "metadata": {
    "slideshow": {
     "slide_type": "slide"
    }
   },
   "outputs": [
    {
     "name": "stdout",
     "output_type": "stream",
     "text": [
      "[1, 'two', 3.0, [4, 5], True]\n"
     ]
    }
   ],
   "source": [
    "# Lists can even contain different types of objects. \n",
    "# this is not \"best practice\", but... possible!\n",
    "weird_list = [1, \"two\", 3.0, [4, 5], True] \n",
    "print(weird_list)"
   ]
  },
  {
   "cell_type": "code",
   "execution_count": 14,
   "metadata": {
    "slideshow": {
     "slide_type": "slide"
    }
   },
   "outputs": [
    {
     "ename": "IndexError",
     "evalue": "list index out of range",
     "output_type": "error",
     "traceback": [
      "\u001b[0;31m---------------------------------------------------------------------------\u001b[0m",
      "\u001b[0;31mIndexError\u001b[0m                                Traceback (most recent call last)",
      "Cell \u001b[0;32mIn[14], line 4\u001b[0m\n\u001b[1;32m      1\u001b[0m \u001b[38;5;66;03m# How can we access the elements inside the list?\u001b[39;00m\n\u001b[1;32m      2\u001b[0m \u001b[38;5;66;03m# by INDEXING\u001b[39;00m\n\u001b[1;32m      3\u001b[0m my_list \u001b[38;5;241m=\u001b[39m [\u001b[38;5;124m\"\u001b[39m\u001b[38;5;124ma\u001b[39m\u001b[38;5;124m\"\u001b[39m, \u001b[38;5;124m\"\u001b[39m\u001b[38;5;124mb\u001b[39m\u001b[38;5;124m\"\u001b[39m, \u001b[38;5;124m\"\u001b[39m\u001b[38;5;124mc\u001b[39m\u001b[38;5;124m\"\u001b[39m]\n\u001b[0;32m----> 4\u001b[0m \u001b[43mmy_list\u001b[49m\u001b[43m[\u001b[49m\u001b[38;5;241;43m3\u001b[39;49m\u001b[43m]\u001b[49m\n",
      "\u001b[0;31mIndexError\u001b[0m: list index out of range"
     ]
    }
   ],
   "source": [
    "# How can we access the elements inside the list?\n",
    "# by INDEXING\n",
    "my_list = [\"a\", \"b\", \"c\"]\n",
    "my_list[3]\n"
   ]
  },
  {
   "cell_type": "markdown",
   "metadata": {
    "slideshow": {
     "slide_type": "slide"
    }
   },
   "source": [
    "## Note: Python starts to count at 0!\n",
    "\n",
    "The first \"number\" in Python is `0`.\n",
    "\n",
    "The first index in Python is `0`.\n",
    "\n",
    "To access the first element in a list, we index it with `0`: **`mylist[0]`**\n",
    "\n",
    "Fun fact: thanks to a student petition, ITU classrooms are numbered in this way, too! "
   ]
  },
  {
   "cell_type": "markdown",
   "metadata": {
    "slideshow": {
     "slide_type": "slide"
    }
   },
   "source": [
    "## How to access the \"inside\" of our list\n",
    "\n",
    "**Indexing:** accessing ONE element\n",
    "\n",
    "**Slicing:** accessing SEVERAL CONSECUTIVE elements"
   ]
  },
  {
   "cell_type": "code",
   "execution_count": 15,
   "metadata": {
    "slideshow": {
     "slide_type": "slide"
    }
   },
   "outputs": [
    {
     "data": {
      "text/plain": [
       "'monday'"
      ]
     },
     "execution_count": 15,
     "metadata": {},
     "output_type": "execute_result"
    }
   ],
   "source": [
    "# indexing lists\n",
    "weekdays = [\"monday\", \"tuesday\", \"wednesday\", \"thursday\", \"friday\", \"saturday\", \"sunday\"]\n",
    "# to get the FIRST element:\n",
    "weekdays[0]"
   ]
  },
  {
   "cell_type": "code",
   "execution_count": 16,
   "metadata": {
    "slideshow": {
     "slide_type": "slide"
    }
   },
   "outputs": [
    {
     "data": {
      "text/plain": [
       "'tuesday'"
      ]
     },
     "execution_count": 16,
     "metadata": {},
     "output_type": "execute_result"
    }
   ],
   "source": [
    "# indexing lists\n",
    "weekdays = [\"monday\", \"tuesday\", \"wednesday\", \"thursday\", \"friday\", \"saturday\", \"sunday\"]\n",
    "# to get the SECOND element:\n",
    "weekdays[1]"
   ]
  },
  {
   "cell_type": "code",
   "execution_count": 17,
   "metadata": {
    "slideshow": {
     "slide_type": "slide"
    }
   },
   "outputs": [
    {
     "data": {
      "text/plain": [
       "'sunday'"
      ]
     },
     "execution_count": 17,
     "metadata": {},
     "output_type": "execute_result"
    }
   ],
   "source": [
    "# indexing lists\n",
    "weekdays = [\"monday\", \"tuesday\", \"wednesday\", \"thursday\", \"friday\", \"saturday\", \"sunday\"]\n",
    "# to get the LAST element:\n",
    "weekdays[-1] # last element (could also be accessed by weekdays[6])"
   ]
  },
  {
   "cell_type": "code",
   "execution_count": 18,
   "metadata": {
    "slideshow": {
     "slide_type": "slide"
    }
   },
   "outputs": [
    {
     "data": {
      "text/plain": [
       "'saturday'"
      ]
     },
     "execution_count": 18,
     "metadata": {},
     "output_type": "execute_result"
    }
   ],
   "source": [
    "# indexing lists\n",
    "weekdays = [\"monday\", \"tuesday\", \"wednesday\", \"thursday\", \"friday\", \"saturday\", \"sunday\"]\n",
    "# to get the SECOND-TO-LAST element:\n",
    "weekdays[-2]"
   ]
  },
  {
   "cell_type": "code",
   "execution_count": 19,
   "metadata": {
    "slideshow": {
     "slide_type": "slide"
    }
   },
   "outputs": [
    {
     "data": {
      "text/plain": [
       "['tuesday', 'wednesday', 'thursday']"
      ]
     },
     "execution_count": 19,
     "metadata": {},
     "output_type": "execute_result"
    }
   ],
   "source": [
    "# slicing lists\n",
    "weekdays = [\"monday\", \"tuesday\", \"wednesday\", \"thursday\", \"friday\", \"saturday\", \"sunday\"]\n",
    "# to get all elements from index i to index j (NOT INCLUDING j):\n",
    "weekdays[1:4] "
   ]
  },
  {
   "cell_type": "code",
   "execution_count": 20,
   "metadata": {
    "slideshow": {
     "slide_type": "slide"
    }
   },
   "outputs": [
    {
     "data": {
      "text/plain": [
       "['monday', 'tuesday']"
      ]
     },
     "execution_count": 20,
     "metadata": {},
     "output_type": "execute_result"
    }
   ],
   "source": [
    "# slicing lists\n",
    "weekdays = [\"monday\", \"tuesday\", \"wednesday\", \"thursday\", \"friday\", \"saturday\", \"sunday\"]\n",
    "# to get all elements from index i to index j (NOT INCLUDING j), another example:\n",
    "weekdays[0:2]"
   ]
  },
  {
   "cell_type": "code",
   "execution_count": 21,
   "metadata": {
    "slideshow": {
     "slide_type": "slide"
    }
   },
   "outputs": [
    {
     "data": {
      "text/plain": [
       "['thursday', 'friday', 'saturday', 'sunday']"
      ]
     },
     "execution_count": 21,
     "metadata": {},
     "output_type": "execute_result"
    }
   ],
   "source": [
    "# slicing lists\n",
    "weekdays = [\"monday\", \"tuesday\", \"wednesday\", \"thursday\", \"friday\", \"saturday\", \"sunday\"]\n",
    "# to get all elements starting from index i, UP TO THE END:\n",
    "weekdays[3:]"
   ]
  },
  {
   "cell_type": "code",
   "execution_count": 22,
   "metadata": {
    "slideshow": {
     "slide_type": "slide"
    }
   },
   "outputs": [
    {
     "data": {
      "text/plain": [
       "['monday', 'tuesday', 'wednesday', 'thursday']"
      ]
     },
     "execution_count": 22,
     "metadata": {},
     "output_type": "execute_result"
    }
   ],
   "source": [
    "# slicing lists\n",
    "weekdays = [\"monday\", \"tuesday\", \"wednesday\", \"thursday\", \"friday\", \"saturday\", \"sunday\"]\n",
    "# to get all elements FROM THE BEGINNING, up to index j (but not including j):\n",
    "weekdays[:4]"
   ]
  },
  {
   "cell_type": "markdown",
   "metadata": {
    "slideshow": {
     "slide_type": "slide"
    }
   },
   "source": [
    "## `list`s in Python: what we know by now\n",
    "\n",
    "* Very useful\n",
    "* Are **ordered sequences** of objects (order matters!!)\n",
    "* Can contain **any type of object** (also other lists)\n",
    "* Denoted by square brackets `[]`; created with `[]` or with `list()`\n",
    "* Objects in a list are separated by a comma: `[1, 2, 3]`\n",
    "* Objects in list can be accessed by their index, put in square brackets after the list name: `mylist[index]`"
   ]
  },
  {
   "cell_type": "markdown",
   "metadata": {
    "slideshow": {
     "slide_type": "slide"
    }
   },
   "source": [
    "## Indexing lists\n",
    "\n",
    "**Positive indexing**\n",
    "* To access the **first** element: `mylist[0]`\n",
    "* To access the **second** element: `mylist[1]`\n",
    "* To access the **third** element: `mylist[2]` ... etc.\n",
    "\n",
    "**Negative indexing**\n",
    "* To access the **last** element: `mylist[-1]`\n",
    "* To access the **second-to-last** element: `mylist[-2]`\n",
    "* To access the **third-to-last** element: `mylist[-3]` ... etc.\n",
    "\n",
    "> Indexing works the same way for strings, too!"
   ]
  },
  {
   "cell_type": "markdown",
   "metadata": {
    "slideshow": {
     "slide_type": "slide"
    }
   },
   "source": [
    "## Slicing lists\n",
    "\n",
    "* To access **all** elements: `mylist[:]`\n",
    "* To access **all elements starting from i**: `mylist[i:]`\n",
    "* To access **all elements up to (BUT NOT INCLUDING) i**: `mylist[:i]` \n",
    "* To access the elements **from `i` to `j`**: `mylist[i:(j+1)]`\n",
    "\n",
    "> Slicing works the same way for strings, too!"
   ]
  },
  {
   "cell_type": "code",
   "execution_count": 25,
   "metadata": {
    "slideshow": {
     "slide_type": "slide"
    }
   },
   "outputs": [
    {
     "data": {
      "text/plain": [
       "'looking at'"
      ]
     },
     "execution_count": 25,
     "metadata": {},
     "output_type": "execute_result"
    }
   ],
   "source": [
    "# OMG! It also works for strings!\n",
    "mystring = \"I'm looking at the moon, but I'm thinking of myself.\"\n",
    "# mystring[0] # the first character\n",
    "# mystring[-1] # the last character\n",
    "mystring[4:14] # the characters in position 4:14"
   ]
  },
  {
   "cell_type": "markdown",
   "metadata": {
    "slideshow": {
     "slide_type": "slide"
    }
   },
   "source": [
    "## Try it out yourself!\n",
    "\n",
    "```python\n",
    "icecream = [\"strawberry\", \"chocolate\", \"banana\", \"pistacchio\"]\n",
    "# access \"strawberry\"\n",
    "# access \"chocolate\" and \"banana\"\n",
    "# access \"pistacchio\"\n",
    "\n",
    "numbers = [10, 20, 30, 40, 50]\n",
    "# access the value 10 by indexing\n",
    "# access the values [20, 30, 40] by slicing\n",
    "# access the values [10, 20, 30, 40] by slicing\n",
    "# access the value 50 by indexing\n",
    "\n",
    "quote = \"I have a dream.\"\n",
    "# access \"I\"\n",
    "# access \"a dream\"\n",
    "# access \".\"\n",
    "```"
   ]
  },
  {
   "cell_type": "code",
   "execution_count": null,
   "metadata": {
    "slideshow": {
     "slide_type": "slide"
    }
   },
   "outputs": [],
   "source": [
    "icecream = [\"strawberry\", \"chocolate\", \"banana\", \"pistacchio\"]\n",
    "# access \"strawberry\"\n",
    "# access \"chocolate\" and \"banana\"\n",
    "# access \"pistacchio\""
   ]
  },
  {
   "cell_type": "code",
   "execution_count": null,
   "metadata": {
    "slideshow": {
     "slide_type": "slide"
    }
   },
   "outputs": [],
   "source": [
    "numbers = [10, 20, 30, 40, 50]\n",
    "# access the value 10 by indexing\n",
    "# access the values [20, 30, 40] by slicing\n",
    "# access the values [10, 20, 30, 40] by slicing\n",
    "# access the value 50 by indexing\n"
   ]
  },
  {
   "cell_type": "code",
   "execution_count": null,
   "metadata": {
    "slideshow": {
     "slide_type": "slide"
    }
   },
   "outputs": [],
   "source": [
    "quote = \"I have a dream.\"\n",
    "# access \"I\"\n",
    "# access \"a dream\"\n",
    "# access \".\""
   ]
  },
  {
   "cell_type": "markdown",
   "metadata": {
    "slideshow": {
     "slide_type": "slide"
    }
   },
   "source": [
    "## Changing and combining lists"
   ]
  },
  {
   "cell_type": "code",
   "execution_count": 26,
   "metadata": {
    "slideshow": {
     "slide_type": "slide"
    }
   },
   "outputs": [
    {
     "data": {
      "text/plain": [
       "['chaos!', 2, 3, 4, 5]"
      ]
     },
     "execution_count": 26,
     "metadata": {},
     "output_type": "execute_result"
    }
   ],
   "source": [
    "# you can CHANGE the objects inside a list, by assigning a value:\n",
    "mylist = [1, 2, 3, 4, 5]\n",
    "mylist[0] = \"chaos!\"\n",
    "mylist\n",
    "# note that the variable name remains the same!"
   ]
  },
  {
   "cell_type": "code",
   "execution_count": 28,
   "metadata": {
    "slideshow": {
     "slide_type": "slide"
    }
   },
   "outputs": [
    {
     "name": "stdout",
     "output_type": "stream",
     "text": [
      "['chaos!', 2, 3, 4, 5]\n"
     ]
    }
   ],
   "source": [
    "list_a = [1, 2, 3, 4, 5]\n",
    "list_b = list_a # THIS IS A DANGEROUS THING TO DO\n",
    "list_a[0] = \"chaos!\"\n",
    "print(list_b) # what do you think list_b will look like?"
   ]
  },
  {
   "cell_type": "code",
   "execution_count": null,
   "metadata": {
    "slideshow": {
     "slide_type": "slide"
    }
   },
   "outputs": [],
   "source": [
    "list_a = [1, 2, 3, 4, 5]\n",
    "list_b = list_a # THIS IS A DANGEROUS THING TO DO\n",
    "list_a[0] = \"chaos!\"\n",
    "print(list_a, list_b) # changing list_a will also change list_b!!  "
   ]
  },
  {
   "cell_type": "code",
   "execution_count": 29,
   "metadata": {
    "slideshow": {
     "slide_type": "slide"
    }
   },
   "outputs": [
    {
     "name": "stdout",
     "output_type": "stream",
     "text": [
      "['chaos!', 2, 3, 4, 5] [1, 2, 3, 4, 5]\n"
     ]
    }
   ],
   "source": [
    "list_a = [1, 2, 3, 4, 5]\n",
    "list_b = list_a.copy() # THIS IS A LESS DANGEROUS THING TO DO \n",
    "list_a[0] = \"chaos!\"\n",
    "print(list_a, list_b) "
   ]
  },
  {
   "cell_type": "code",
   "execution_count": 30,
   "metadata": {
    "slideshow": {
     "slide_type": "slide"
    }
   },
   "outputs": [
    {
     "data": {
      "text/plain": [
       "[1, 2, 3, 4, 5, 6]"
      ]
     },
     "execution_count": 30,
     "metadata": {},
     "output_type": "execute_result"
    }
   ],
   "source": [
    "# We can combine two lists by using the + operator\n",
    "list1 = [1,2,3]\n",
    "list2 = [4,5,6]\n",
    "list1 + list2\n",
    "# note that there is NO ADDITION OF THE NUMBERS here!\n",
    "# the + means: \"combine/concatenate the two lists\""
   ]
  },
  {
   "cell_type": "code",
   "execution_count": 31,
   "metadata": {
    "slideshow": {
     "slide_type": "slide"
    }
   },
   "outputs": [
    {
     "data": {
      "text/plain": [
       "['a', 'b', 'c', 'a', 'b', 'c', 'a', 'b', 'c']"
      ]
     },
     "execution_count": 31,
     "metadata": {},
     "output_type": "execute_result"
    }
   ],
   "source": [
    "# We can combine a list \"with itself\" by using the * operator \n",
    "mylist = [\"a\", \"b\", \"c\"]\n",
    "mylist * 3 # this only works with integers"
   ]
  },
  {
   "cell_type": "code",
   "execution_count": 33,
   "metadata": {
    "slideshow": {
     "slide_type": "slide"
    }
   },
   "outputs": [
    {
     "data": {
      "text/plain": [
       "'aaaaa'"
      ]
     },
     "execution_count": 33,
     "metadata": {},
     "output_type": "execute_result"
    }
   ],
   "source": [
    "# Reminder: we have similar rules for strings:\n",
    "# \"a\" + \"b\"\n",
    "\"a\" * 5 # this only works with integers"
   ]
  },
  {
   "cell_type": "markdown",
   "metadata": {
    "slideshow": {
     "slide_type": "slide"
    }
   },
   "source": [
    "## Try it out yourself!\n",
    "\n",
    "```python\n",
    "list1 = [0, 1, \"two\", 3]\n",
    "list2 = [4, 5, \"6\"]\n",
    "list3 = [7, \"ate\", 9]\n",
    "```\n",
    "For each of the lists above, replace the \"outliers\" with integer numbers.\n",
    "\n",
    "Then, concatenate the 3 lists and save them into a variable called `my_list`.\n",
    "\n",
    "`print(my_list)` should return: `[0, 1, 2, 3, 4, 5, 6, 7, 8, 9]`.\n"
   ]
  },
  {
   "cell_type": "code",
   "execution_count": null,
   "metadata": {
    "slideshow": {
     "slide_type": "slide"
    }
   },
   "outputs": [],
   "source": [
    "# Try it out yourself:\n",
    "list1 = [0, 1, \"two\", 3]\n",
    "list2 = [4, 5, \"6\"]\n",
    "list3 = [7, \"ate\", 9]"
   ]
  },
  {
   "cell_type": "markdown",
   "metadata": {
    "slideshow": {
     "slide_type": "slide"
    }
   },
   "source": [
    "***\n",
    "\n",
    "# Functions in Python\n",
    "\n",
    "Last time, we already used six functions...\n",
    "\n",
    "`type()`, `print()`, `int()`, `float()`, `str()`, `bool()`\n",
    "\n",
    "But what **are** functions in Python?"
   ]
  },
  {
   "cell_type": "markdown",
   "metadata": {
    "slideshow": {
     "slide_type": "slide"
    }
   },
   "source": [
    "## Functions in Python (soft intro)\n",
    "\n",
    "* A function has a **name**\n",
    "* A function takes an **input**\n",
    "* A function **does something** to the input\n",
    "* A function **returns** an **output** (not always though)\n",
    "* In Python slang, we say we ~~use~~ **call** functions `()`"
   ]
  },
  {
   "cell_type": "code",
   "execution_count": 34,
   "metadata": {
    "slideshow": {
     "slide_type": "slide"
    }
   },
   "outputs": [
    {
     "data": {
      "text/plain": [
       "8"
      ]
     },
     "execution_count": 34,
     "metadata": {},
     "output_type": "execute_result"
    }
   ],
   "source": [
    "# let's take an easy example: \n",
    "# casting the float 8.0 into the integer 8 with the help of int().\n",
    "mynumber = int(8.0)\n",
    "mynumber"
   ]
  },
  {
   "cell_type": "markdown",
   "metadata": {
    "slideshow": {
     "slide_type": "slide"
    }
   },
   "source": [
    "## Functions in Python (soft intro)\n",
    "\n",
    "**EXAMPLE: `mynumber = int(8.0)`**\n",
    "\n",
    "* A function has a **name** $\\rightarrow$ `int`\n",
    "* A function takes an **input** $\\rightarrow$ `8.0`\n",
    "* A function **does something** to the input $\\rightarrow$ it converts the float `8.0` into the integer `8`\n",
    "* A function **returns** an **output** $\\rightarrow$ `8`, we save it into the variable called `mynumber`\n",
    "* In Python slang, we say we ~~use~~ **call** functions $\\rightarrow$ `()`\n",
    "\n",
    "> Actually, functions can also take none or several inputs; and give back none or several outputs. We'll deal with these cases later. "
   ]
  },
  {
   "cell_type": "code",
   "execution_count": 1,
   "metadata": {
    "slideshow": {
     "slide_type": "slide"
    }
   },
   "outputs": [
    {
     "data": {
      "text/plain": [
       "5"
      ]
     },
     "execution_count": 1,
     "metadata": {},
     "output_type": "execute_result"
    }
   ],
   "source": [
    "# Now we can better understand why \n",
    "# we shouldn't overwrite built-in functions...\n",
    "# int(\"5\")\n",
    "# defining a variable called \"int\" (DONT DO THAT!!!!)\n",
    "# int = \"i am sneaky and will overwrite this function name with a useless variable now\" \n",
    "int(\"5\")\n",
    "# But if it happened... don't worry, just restart Python (the kernel)"
   ]
  },
  {
   "cell_type": "markdown",
   "metadata": {
    "slideshow": {
     "slide_type": "slide"
    }
   },
   "source": [
    "## Built-in functions in Python3\n",
    "\n",
    "https://docs.python.org/3/library/functions.html\n",
    "\n",
    "\"Basic equipment\" of Python.\n",
    "\n",
    "You don't need to know them all - but today we will look at some!\n",
    "\n",
    "* Working with numbers: `abs()`\n",
    "* Working with lists: `max(), min(), sum()`\n",
    "* Working with lists, strings, etc.: `len()`"
   ]
  },
  {
   "cell_type": "code",
   "execution_count": 4,
   "metadata": {
    "slideshow": {
     "slide_type": "slide"
    }
   },
   "outputs": [
    {
     "data": {
      "text/plain": [
       "8"
      ]
     },
     "execution_count": 4,
     "metadata": {},
     "output_type": "execute_result"
    }
   ],
   "source": [
    "# the abs() function returns the absolute value (without a minus sign) of a number\n",
    "abs(-8)"
   ]
  },
  {
   "cell_type": "code",
   "execution_count": 10,
   "metadata": {
    "slideshow": {
     "slide_type": "slide"
    }
   },
   "outputs": [
    {
     "ename": "TypeError",
     "evalue": "'>' not supported between instances of 'str' and 'int'",
     "output_type": "error",
     "traceback": [
      "\u001b[0;31m---------------------------------------------------------------------------\u001b[0m",
      "\u001b[0;31mTypeError\u001b[0m                                 Traceback (most recent call last)",
      "Cell \u001b[0;32mIn[10], line 4\u001b[0m\n\u001b[1;32m      2\u001b[0m mylist \u001b[38;5;241m=\u001b[39m [\u001b[38;5;241m6\u001b[39m,\u001b[38;5;241m9\u001b[39m,\u001b[38;5;241m11\u001b[39m,\u001b[38;5;241m4\u001b[39m, \u001b[38;5;124m\"\u001b[39m\u001b[38;5;124ma\u001b[39m\u001b[38;5;124m\"\u001b[39m]\n\u001b[1;32m      3\u001b[0m \u001b[38;5;66;03m# min(mylist) \u001b[39;00m\n\u001b[0;32m----> 4\u001b[0m \u001b[38;5;28;43mmax\u001b[39;49m\u001b[43m(\u001b[49m\u001b[43mmylist\u001b[49m\u001b[43m)\u001b[49m\n",
      "\u001b[0;31mTypeError\u001b[0m: '>' not supported between instances of 'str' and 'int'"
     ]
    }
   ],
   "source": [
    "# the min() and max() functions return the smallest and largest value in a list, respectively\n",
    "mylist = [6,9,11,4, \"a\"]\n",
    "# min(mylist) \n",
    "max(mylist)"
   ]
  },
  {
   "cell_type": "code",
   "execution_count": 7,
   "metadata": {
    "slideshow": {
     "slide_type": "slide"
    }
   },
   "outputs": [
    {
     "data": {
      "text/plain": [
       "16"
      ]
     },
     "execution_count": 7,
     "metadata": {},
     "output_type": "execute_result"
    }
   ],
   "source": [
    "# the sum() function returns the sum of a list\n",
    "mylist = [10, 5, 1]\n",
    "sum(mylist)"
   ]
  },
  {
   "cell_type": "code",
   "execution_count": 8,
   "metadata": {
    "slideshow": {
     "slide_type": "slide"
    }
   },
   "outputs": [
    {
     "data": {
      "text/plain": [
       "3"
      ]
     },
     "execution_count": 8,
     "metadata": {},
     "output_type": "execute_result"
    }
   ],
   "source": [
    "# the len() function returns the length of an object\n",
    "len([10,11,12])"
   ]
  },
  {
   "cell_type": "code",
   "execution_count": 9,
   "metadata": {
    "slideshow": {
     "slide_type": "slide"
    }
   },
   "outputs": [
    {
     "data": {
      "text/plain": [
       "14"
      ]
     },
     "execution_count": 9,
     "metadata": {},
     "output_type": "execute_result"
    }
   ],
   "source": [
    "# the len() function returns the length of an object\n",
    "len(\"happy birthday\")"
   ]
  },
  {
   "cell_type": "code",
   "execution_count": 11,
   "metadata": {
    "slideshow": {
     "slide_type": "slide"
    }
   },
   "outputs": [
    {
     "data": {
      "text/plain": [
       "1"
      ]
     },
     "execution_count": 11,
     "metadata": {},
     "output_type": "execute_result"
    }
   ],
   "source": [
    "# the len() function returns the length of an object\n",
    "len([\"happy birthday\"]) # this is a list with only 1 element, so..."
   ]
  },
  {
   "cell_type": "code",
   "execution_count": 13,
   "metadata": {
    "slideshow": {
     "slide_type": "slide"
    }
   },
   "outputs": [],
   "source": [
    "# And by the way, you can always get help from Python like this:\n",
    "?abs\n",
    "# note the syntax: no \"()\" after function name!"
   ]
  },
  {
   "cell_type": "markdown",
   "metadata": {
    "slideshow": {
     "slide_type": "slide"
    }
   },
   "source": [
    "# Break until 11:05"
   ]
  },
  {
   "cell_type": "markdown",
   "metadata": {
    "slideshow": {
     "slide_type": "slide"
    }
   },
   "source": [
    "***\n",
    "\n",
    "## Making your own functions in Python!\n",
    "\n",
    "* <mark style=\"background-color: lightblue\">A function needs to be **defined** before it can be used</mark>\n",
    "* A function has a **name** \n",
    "* A function takes an **input (parameter)**\n",
    "* A function **does something** to the input\n",
    "* A function returns an **output**\n",
    "\n",
    "```python\n",
    "def my_function(my_input):\n",
    "    # some code, using my_input as a variable\n",
    "    return my_output\n",
    "    \n",
    "# note the syntax, incl. the \":\" and the indents!\n",
    "```"
   ]
  },
  {
   "cell_type": "code",
   "execution_count": 14,
   "metadata": {
    "slideshow": {
     "slide_type": "slide"
    }
   },
   "outputs": [],
   "source": [
    "# Here we DEFINE function with the function name \"add_one\" \n",
    "def add_one(input_number):    \n",
    "    output_number = input_number + 1\n",
    "    return output_number\n",
    "# running this cell will DEFINE the function. after this, we can use it."
   ]
  },
  {
   "cell_type": "code",
   "execution_count": 15,
   "metadata": {
    "slideshow": {
     "slide_type": "slide"
    }
   },
   "outputs": [
    {
     "data": {
      "text/plain": [
       "4"
      ]
     },
     "execution_count": 15,
     "metadata": {},
     "output_type": "execute_result"
    }
   ],
   "source": [
    "add_one(3)"
   ]
  },
  {
   "cell_type": "code",
   "execution_count": 16,
   "metadata": {
    "slideshow": {
     "slide_type": "slide"
    }
   },
   "outputs": [
    {
     "data": {
      "text/plain": [
       "101"
      ]
     },
     "execution_count": 16,
     "metadata": {},
     "output_type": "execute_result"
    }
   ],
   "source": [
    "add_one(100)"
   ]
  },
  {
   "cell_type": "code",
   "execution_count": 17,
   "metadata": {
    "slideshow": {
     "slide_type": "slide"
    }
   },
   "outputs": [
    {
     "data": {
      "text/plain": [
       "1.5"
      ]
     },
     "execution_count": 17,
     "metadata": {},
     "output_type": "execute_result"
    }
   ],
   "source": [
    "add_one(0.5)"
   ]
  },
  {
   "cell_type": "code",
   "execution_count": 18,
   "metadata": {
    "slideshow": {
     "slide_type": "slide"
    }
   },
   "outputs": [
    {
     "ename": "TypeError",
     "evalue": "can only concatenate str (not \"int\") to str",
     "output_type": "error",
     "traceback": [
      "\u001b[0;31m---------------------------------------------------------------------------\u001b[0m",
      "\u001b[0;31mTypeError\u001b[0m                                 Traceback (most recent call last)",
      "Cell \u001b[0;32mIn[18], line 1\u001b[0m\n\u001b[0;32m----> 1\u001b[0m \u001b[43madd_one\u001b[49m\u001b[43m(\u001b[49m\u001b[38;5;124;43m\"\u001b[39;49m\u001b[38;5;124;43ma\u001b[39;49m\u001b[38;5;124;43m\"\u001b[39;49m\u001b[43m)\u001b[49m\n",
      "Cell \u001b[0;32mIn[14], line 3\u001b[0m, in \u001b[0;36madd_one\u001b[0;34m(input_number)\u001b[0m\n\u001b[1;32m      2\u001b[0m \u001b[38;5;28;01mdef\u001b[39;00m \u001b[38;5;21madd_one\u001b[39m(input_number):    \n\u001b[0;32m----> 3\u001b[0m     output_number \u001b[38;5;241m=\u001b[39m \u001b[43minput_number\u001b[49m\u001b[43m \u001b[49m\u001b[38;5;241;43m+\u001b[39;49m\u001b[43m \u001b[49m\u001b[38;5;241;43m1\u001b[39;49m\n\u001b[1;32m      4\u001b[0m     \u001b[38;5;28;01mreturn\u001b[39;00m output_number\n",
      "\u001b[0;31mTypeError\u001b[0m: can only concatenate str (not \"int\") to str"
     ]
    }
   ],
   "source": [
    "add_one(\"a\")"
   ]
  },
  {
   "cell_type": "code",
   "execution_count": 19,
   "metadata": {
    "slideshow": {
     "slide_type": "slide"
    }
   },
   "outputs": [
    {
     "name": "stdout",
     "output_type": "stream",
     "text": [
      "9\n"
     ]
    }
   ],
   "source": [
    "# we can save the function output into a variable:\n",
    "z = add_one(8)\n",
    "print(z)"
   ]
  },
  {
   "cell_type": "code",
   "execution_count": 20,
   "metadata": {
    "slideshow": {
     "slide_type": "slide"
    }
   },
   "outputs": [
    {
     "data": {
      "text/plain": [
       "18"
      ]
     },
     "execution_count": 20,
     "metadata": {},
     "output_type": "execute_result"
    }
   ],
   "source": [
    "# We can apply the function to a variable that we created before\n",
    "x = 17\n",
    "add_one(x)"
   ]
  },
  {
   "cell_type": "code",
   "execution_count": 21,
   "metadata": {
    "slideshow": {
     "slide_type": "slide"
    }
   },
   "outputs": [
    {
     "ename": "NameError",
     "evalue": "name 'p' is not defined",
     "output_type": "error",
     "traceback": [
      "\u001b[0;31m---------------------------------------------------------------------------\u001b[0m",
      "\u001b[0;31mNameError\u001b[0m                                 Traceback (most recent call last)",
      "Cell \u001b[0;32mIn[21], line 2\u001b[0m\n\u001b[1;32m      1\u001b[0m \u001b[38;5;66;03m# We can NOT apply the function to a variable that we have NOT created before\u001b[39;00m\n\u001b[0;32m----> 2\u001b[0m add_one(\u001b[43mp\u001b[49m)\n",
      "\u001b[0;31mNameError\u001b[0m: name 'p' is not defined"
     ]
    }
   ],
   "source": [
    "# We can NOT apply the function to a variable that we have NOT created before\n",
    "add_one(p)"
   ]
  },
  {
   "cell_type": "code",
   "execution_count": null,
   "metadata": {
    "slideshow": {
     "slide_type": "slide"
    }
   },
   "outputs": [],
   "source": [
    "# NOTE that we can CHANGE THE VARIABLE NAMES \n",
    "# of the input (function parameter) \n",
    "# and of the output - they can be anything, as long as we are consistent:\n",
    "def add_one(input_number):    \n",
    "    output_number = input_number + 1\n",
    "    return output_number\n",
    "\n",
    "def add_one(x):    \n",
    "    y = x + 1\n",
    "    return y\n",
    "\n",
    "# or, even shorter:\n",
    "def add_one(x):\n",
    "    return x+1"
   ]
  },
  {
   "cell_type": "markdown",
   "metadata": {
    "slideshow": {
     "slide_type": "slide"
    }
   },
   "source": [
    "## Making your own functions in Python!\n",
    "\n",
    "* A function needs to be **defined** before it can be used $\\rightarrow$ `def ... :`\n",
    "* A function has a **name** \n",
    "* A function takes an **input parameter**\n",
    "* A function **does something** to the input\n",
    "* A function gives back an **output**\n",
    "* <mark style=\"background-color: lightblue\">**Best practice:** A function has an instruction manual, the **docstring** (documentation string)</mark>"
   ]
  },
  {
   "cell_type": "markdown",
   "metadata": {
    "slideshow": {
     "slide_type": "slide"
    }
   },
   "source": [
    "```python\n",
    "def my_function(my_input): # starting the function definition\n",
    "\n",
    "    # docstring\n",
    "    '''This function does ... to the input and returns ....'''\n",
    "\n",
    "    # body of the function: what does it do?\n",
    "    # SOME CODE HERE\n",
    "    \n",
    "    # return statement\n",
    "    return my_output\n",
    "```"
   ]
  },
  {
   "cell_type": "code",
   "execution_count": 22,
   "metadata": {
    "slideshow": {
     "slide_type": "slide"
    }
   },
   "outputs": [],
   "source": [
    "# define a function\n",
    "def find_last_element(my_input):\n",
    "\n",
    "    # docstring (note the TRIPLE quotation marks!!!)\n",
    "    '''\n",
    "    This function takes a list or string as input,\n",
    "    and returns the last element of the list \n",
    "    (or the last character of the string).\n",
    "    '''\n",
    "    \n",
    "    # body of the function: what does it do?\n",
    "    last_element = my_input[-1]\n",
    "\n",
    "    # return statement\n",
    "    return last_element"
   ]
  },
  {
   "cell_type": "code",
   "execution_count": 23,
   "metadata": {
    "slideshow": {
     "slide_type": "slide"
    }
   },
   "outputs": [
    {
     "data": {
      "text/plain": [
       "6"
      ]
     },
     "execution_count": 23,
     "metadata": {},
     "output_type": "execute_result"
    }
   ],
   "source": [
    "# call that function\n",
    "find_last_element([1,2,3,4,5,6])"
   ]
  },
  {
   "cell_type": "code",
   "execution_count": 24,
   "metadata": {
    "slideshow": {
     "slide_type": "slide"
    }
   },
   "outputs": [
    {
     "data": {
      "text/plain": [
       "'g'"
      ]
     },
     "execution_count": 24,
     "metadata": {},
     "output_type": "execute_result"
    }
   ],
   "source": [
    "find_last_element(\"In the country of the blind, the one-eyed man is king\")"
   ]
  },
  {
   "cell_type": "code",
   "execution_count": 25,
   "metadata": {
    "slideshow": {
     "slide_type": "slide"
    }
   },
   "outputs": [],
   "source": [
    "# look, we can get help on our own function!\n",
    "?find_last_element"
   ]
  },
  {
   "cell_type": "code",
   "execution_count": 28,
   "metadata": {
    "slideshow": {
     "slide_type": "slide"
    }
   },
   "outputs": [],
   "source": [
    "# look, we can \"assert\" (\"make sure\") that the function behaves the way we want it!\n",
    "assert find_last_element([1,2,3])==3\n",
    "assert find_last_element(\"abcde\")==\"e\""
   ]
  },
  {
   "cell_type": "markdown",
   "metadata": {
    "slideshow": {
     "slide_type": "slide"
    }
   },
   "source": [
    "## Side note on `assert` statements\n",
    "\n",
    "Making sure that things are working the way we want to:\n",
    "```python\n",
    "assert statement \n",
    "# will \"happily continue with the code\" if statement is True; \n",
    "# will throw an error (stop code execution) if statement is False.\n",
    "```\n",
    "We will use this to check your code. You **can** use this to check your own code."
   ]
  },
  {
   "cell_type": "markdown",
   "metadata": {
    "slideshow": {
     "slide_type": "slide"
    }
   },
   "source": [
    "## Try it out yourself!\n",
    "\n",
    "Define a function that \n",
    "* has the name you like (choose it yourself),\n",
    "* remember to add a docstring that explains what your function does!\n",
    "* takes a list as an input,\n",
    "* changes the first element of the list to the string \"chaos!\",\n",
    "* returns the changed list.\n",
    "* Check if it works: \n",
    "    * if given the input `[1, 2, 3]`, \n",
    "    * the function should return `[\"chaos\", 2, 3]` \n",
    "\n",
    "(you can make an assert statement out of this if you want)\n"
   ]
  },
  {
   "cell_type": "code",
   "execution_count": 35,
   "metadata": {
    "slideshow": {
     "slide_type": "slide"
    }
   },
   "outputs": [],
   "source": [
    "# define your function\n",
    "def ibringchaos(mylist):\n",
    "    \n",
    "    '''\n",
    "    this function takes a list as input and gives back the list with the first element\n",
    "    changed to \"chaos!\" as an output\n",
    "    '''\n",
    "    mylist[0] = \"chaos!\"\n",
    "    \n",
    "    return mylist\n",
    "\n",
    "# ibringchaos([1,2,3])\n",
    "\n",
    "?ibringchaos"
   ]
  },
  {
   "cell_type": "code",
   "execution_count": null,
   "metadata": {
    "slideshow": {
     "slide_type": "slide"
    }
   },
   "outputs": [],
   "source": [
    "# check if you can access the docstring"
   ]
  },
  {
   "cell_type": "code",
   "execution_count": null,
   "metadata": {
    "slideshow": {
     "slide_type": "slide"
    }
   },
   "outputs": [],
   "source": [
    "# check if it works, with [1, 2, 3] as input"
   ]
  },
  {
   "cell_type": "markdown",
   "metadata": {
    "slideshow": {
     "slide_type": "slide"
    }
   },
   "source": [
    "## What if I define a variable INSIDE a function? Can I use it EVERYWHERE?\n",
    "\n",
    "Spoiler: NO!"
   ]
  },
  {
   "cell_type": "code",
   "execution_count": 31,
   "metadata": {
    "slideshow": {
     "slide_type": "slide"
    }
   },
   "outputs": [
    {
     "ename": "NameError",
     "evalue": "name 'output_number' is not defined",
     "output_type": "error",
     "traceback": [
      "\u001b[0;31m---------------------------------------------------------------------------\u001b[0m",
      "\u001b[0;31mNameError\u001b[0m                                 Traceback (most recent call last)",
      "Cell \u001b[0;32mIn[31], line 11\u001b[0m\n\u001b[1;32m      7\u001b[0m x \u001b[38;5;241m=\u001b[39m add_one(\u001b[38;5;241m9\u001b[39m)\n\u001b[1;32m      9\u001b[0m \u001b[38;5;66;03m# Can we access the variables \"input_number\" and \"output_number\"?\u001b[39;00m\n\u001b[1;32m     10\u001b[0m \u001b[38;5;66;03m#print(input_number)\u001b[39;00m\n\u001b[0;32m---> 11\u001b[0m \u001b[38;5;28mprint\u001b[39m(\u001b[43moutput_number\u001b[49m)\n\u001b[1;32m     12\u001b[0m \u001b[38;5;66;03m# No, we can't!\u001b[39;00m\n",
      "\u001b[0;31mNameError\u001b[0m: name 'output_number' is not defined"
     ]
    }
   ],
   "source": [
    "# Let's go back to our very first example\n",
    "def add_one(input_number):    \n",
    "    output_number = input_number + 1\n",
    "    return output_number\n",
    "\n",
    "# Let's run the \"add_one\" function and save the output to the variable \"x\"\n",
    "x = add_one(9)\n",
    "\n",
    "# Can we access the variables \"input_number\" and \"output_number\"?\n",
    "#print(input_number)\n",
    "print(output_number)\n",
    "# No, we can't!"
   ]
  },
  {
   "cell_type": "markdown",
   "metadata": {
    "slideshow": {
     "slide_type": "slide"
    }
   },
   "source": [
    "## Scopes in Python: Global and local\n",
    "\n",
    "<mark style=\"background-color: lightblue\">**x is defined in global scope**</mark>\n",
    "```python\n",
    "x = 3 # creating the variable x\n",
    "```\n",
    "<mark style=\"background-color: orange\">**input_number and output_number are defined in local scope**</mark>\n",
    "```python\n",
    "def add_one(input_number):  # defines the function add_one\n",
    "    output_number = input_number + 1 # body of function: what to do with the input?\n",
    "    return output_number # what to return? (has been defined in body of function)\n",
    "```\n",
    "<mark style=\"background-color: lightblue\">**y is defined in global scope**</mark>\n",
    "```python\n",
    "y = add_one(x) # assigns the return value of the function to the variable y\n",
    "```"
   ]
  },
  {
   "cell_type": "markdown",
   "metadata": {
    "slideshow": {
     "slide_type": "slide"
    }
   },
   "source": [
    "***\n",
    "\n",
    "# Conditional statements in Python\n",
    "\n",
    "`if`, `else`, `elif`"
   ]
  },
  {
   "cell_type": "code",
   "execution_count": 40,
   "metadata": {
    "slideshow": {
     "slide_type": "slide"
    }
   },
   "outputs": [
    {
     "name": "stdout",
     "output_type": "stream",
     "text": [
      "if condition ended\n"
     ]
    }
   ],
   "source": [
    "# we can use if/else to execute code CONDITIONALLY:\n",
    "be_friendly = False\n",
    "if be_friendly: \n",
    "    print(\"hello\")\n",
    "print(\"if condition ended\")\n",
    "# note the syntax: \":\", followed by an indented new line"
   ]
  },
  {
   "cell_type": "code",
   "execution_count": null,
   "metadata": {
    "slideshow": {
     "slide_type": "slide"
    },
    "tags": []
   },
   "outputs": [],
   "source": [
    "be_friendly = True\n",
    "if be_friendly: # condition: be_friendly. if that condition is True, then:\n",
    "    print(\"hello\")  # execute the INDENTED lines of code below"
   ]
  },
  {
   "cell_type": "code",
   "execution_count": null,
   "metadata": {
    "slideshow": {
     "slide_type": "slide"
    }
   },
   "outputs": [],
   "source": [
    "be_friendly = False\n",
    "if be_friendly: # condition: be_friendly. if that condition is False, then:\n",
    "    print(\"hello\")  # DO NOT execute the INDENTED lines of code below"
   ]
  },
  {
   "cell_type": "code",
   "execution_count": 42,
   "metadata": {
    "slideshow": {
     "slide_type": "slide"
    }
   },
   "outputs": [
    {
     "name": "stdout",
     "output_type": "stream",
     "text": [
      "ok.\n"
     ]
    }
   ],
   "source": [
    "# A conditional \"email reply generator\":\n",
    "be_friendly = False\n",
    "\n",
    "if be_friendly:\n",
    "    print(\"Alright! Many thanks and have a wonderful day\")\n",
    "else:\n",
    "    print(\"ok.\")"
   ]
  },
  {
   "cell_type": "markdown",
   "metadata": {
    "slideshow": {
     "slide_type": "slide"
    }
   },
   "source": [
    "## `if` statement\n",
    "```python\n",
    "if condition: # note the : \n",
    "    expression1 # note the indent\n",
    "```"
   ]
  },
  {
   "cell_type": "markdown",
   "metadata": {
    "slideshow": {
     "slide_type": "slide"
    }
   },
   "source": [
    "## `if-else` statement\n",
    "```python\n",
    "if condition:\n",
    "    expression1\n",
    "else:\n",
    "    expression2\n",
    "```"
   ]
  },
  {
   "cell_type": "code",
   "execution_count": 48,
   "metadata": {
    "slideshow": {
     "slide_type": "slide"
    }
   },
   "outputs": [
    {
     "name": "stdout",
     "output_type": "stream",
     "text": [
      "Ok, thanks!\n",
      "done\n"
     ]
    }
   ],
   "source": [
    "# A slightly more sophisticated \"email reply generator\":\n",
    "# friendliness level 0-4: \"ok\"\n",
    "# friendliness level 5-8: \"Ok, thanks!\"\n",
    "# friendliness level 9+ : \"Alright! Many thanks and have a wonderful day\"\n",
    "\n",
    "friendliness_level = 5\n",
    "\n",
    "if friendliness_level > 8:\n",
    "    print(\"Alright! Many thanks and have a wonderful day\")\n",
    "elif friendliness_level > 4:\n",
    "    print(\"Ok, thanks!\")\n",
    "else:\n",
    "    print(\"ok\")\n",
    "    \n",
    "print(\"done\")"
   ]
  },
  {
   "cell_type": "markdown",
   "metadata": {
    "slideshow": {
     "slide_type": "slide"
    }
   },
   "source": [
    "## `if-elif-elif-...-else` statement\n",
    "\n",
    "```python\n",
    "if condition1:\n",
    "    expression1\n",
    "elif condition2:\n",
    "    expression2\n",
    "elif condition3:\n",
    "    expression3\n",
    "# ...etc\n",
    "else:\n",
    "    last_expression\n",
    "```"
   ]
  },
  {
   "cell_type": "markdown",
   "metadata": {
    "slideshow": {
     "slide_type": "slide"
    }
   },
   "source": [
    "## Try it out yourself!\n",
    "\n",
    "Let's say that in an exam,\n",
    "* `< 5` points mean you failed,\n",
    "* `5-10` points mean you barely passed,\n",
    "* `> 10` points mean you passed.\n",
    "\n",
    "Write a block of code that \n",
    "* defines the variable `exam_score` and assigns an integer value to it\n",
    "* prints out, depending on the value of `exam_score`: either \n",
    "    * `\"you passed\"`, \n",
    "    * `\"you barely passed\"`, or \n",
    "    * `\"you failed\"`\n",
    "\n",
    "* Play around with different values of `exam_score` to see what happens!\n",
    "* What happens if you try to use your function with a non-numeric input (e.g. a string)?"
   ]
  },
  {
   "cell_type": "code",
   "execution_count": null,
   "metadata": {
    "slideshow": {
     "slide_type": "slide"
    }
   },
   "outputs": [],
   "source": [
    "# exam_score..."
   ]
  },
  {
   "cell_type": "code",
   "execution_count": 52,
   "metadata": {
    "slideshow": {
     "slide_type": "slide"
    }
   },
   "outputs": [
    {
     "data": {
      "text/plain": [
       "'Ok, thanks!'"
      ]
     },
     "execution_count": 52,
     "metadata": {},
     "output_type": "execute_result"
    }
   ],
   "source": [
    "# We can also put this inside a function\n",
    "# (instead of playing around with the variable)\n",
    "\n",
    "def reply_generator(friendliness_level):\n",
    "    \n",
    "    if friendliness_level > 8:\n",
    "        answer = \"Alright! Many thanks and have a wonderful day\"\n",
    "    elif friendliness_level > 4:\n",
    "        answer = \"Ok, thanks!\"\n",
    "    else:\n",
    "        answer = \"ok\"\n",
    "    \n",
    "    return answer\n",
    "\n",
    "reply_generator(8)"
   ]
  },
  {
   "cell_type": "markdown",
   "metadata": {
    "slideshow": {
     "slide_type": "slide"
    }
   },
   "source": [
    "## The keywords `is` and `in`\n",
    "\n",
    "This will come in handy very soon! Examples:\n",
    "\n",
    "```python\n",
    "type(x) is int ## evaluates to True if x is an int; to False otherwise\n",
    "y in sequence ## evaluates to True if sequence contains y; to False otherwise\n",
    "```"
   ]
  },
  {
   "cell_type": "code",
   "execution_count": 55,
   "metadata": {
    "slideshow": {
     "slide_type": "slide"
    }
   },
   "outputs": [
    {
     "data": {
      "text/plain": [
       "True"
      ]
     },
     "execution_count": 55,
     "metadata": {},
     "output_type": "execute_result"
    }
   ],
   "source": [
    "# the keyword \"is\" is used to check for identity\n",
    "# it is different from equality \"==\" (we will look into this later)\n",
    "# for now, you just need to know it for TYPE CHECKING:\n",
    "type(5) is int"
   ]
  },
  {
   "cell_type": "code",
   "execution_count": 56,
   "metadata": {
    "slideshow": {
     "slide_type": "slide"
    }
   },
   "outputs": [
    {
     "data": {
      "text/plain": [
       "False"
      ]
     },
     "execution_count": 56,
     "metadata": {},
     "output_type": "execute_result"
    }
   ],
   "source": [
    "# to find out if a variable is of expected type\n",
    "x = \"seven\"\n",
    "type(x) is float"
   ]
  },
  {
   "cell_type": "code",
   "execution_count": 58,
   "metadata": {
    "slideshow": {
     "slide_type": "slide"
    }
   },
   "outputs": [
    {
     "data": {
      "text/plain": [
       "True"
      ]
     },
     "execution_count": 58,
     "metadata": {},
     "output_type": "execute_result"
    }
   ],
   "source": [
    "# the keyword \"in\" is used to check if a variable is *present* in a sequence (e.g. in a list):\n",
    "my_list = [1, 2, 3]\n",
    "1 in my_list"
   ]
  },
  {
   "cell_type": "code",
   "execution_count": 60,
   "metadata": {
    "slideshow": {
     "slide_type": "slide"
    }
   },
   "outputs": [
    {
     "data": {
      "text/plain": [
       "False"
      ]
     },
     "execution_count": 60,
     "metadata": {},
     "output_type": "execute_result"
    }
   ],
   "source": [
    "# it also works for strings:\n",
    "\"B\" in \"Copenhagen\""
   ]
  },
  {
   "cell_type": "code",
   "execution_count": 61,
   "metadata": {
    "slideshow": {
     "slide_type": "slide"
    }
   },
   "outputs": [
    {
     "data": {
      "text/plain": [
       "False"
      ]
     },
     "execution_count": 61,
     "metadata": {},
     "output_type": "execute_result"
    }
   ],
   "source": [
    "# we can also use this to check for types, for example, numeric:\n",
    "my_list = [int, float]\n",
    "type(\"hahaha\") in my_list"
   ]
  },
  {
   "cell_type": "code",
   "execution_count": 63,
   "metadata": {
    "slideshow": {
     "slide_type": "slide"
    }
   },
   "outputs": [
    {
     "data": {
      "text/plain": [
       "'Error: Input must be numeric'"
      ]
     },
     "execution_count": 63,
     "metadata": {},
     "output_type": "execute_result"
    }
   ],
   "source": [
    "# We can use the \"in\" keyword\n",
    "# to check for the input type in our function:\n",
    "\n",
    "def reply_generator(friendliness_level):\n",
    "    \n",
    "    # let's first check the input type\n",
    "    if type(friendliness_level) not in [int, float]:  \n",
    "        answer = \"Error: Input must be numeric\"  \n",
    "    elif friendliness_level > 8:\n",
    "        answer = \"Alright! Many thanks and have a wonderful day\"\n",
    "    elif friendliness_level > 4:\n",
    "        answer = \"Ok, thanks!\"\n",
    "    else:\n",
    "        answer = \"ok\"\n",
    "    return answer\n",
    "\n",
    "reply_generator(\"a\")"
   ]
  },
  {
   "cell_type": "markdown",
   "metadata": {
    "slideshow": {
     "slide_type": "slide"
    }
   },
   "source": [
    "## Try it out yourself! \n",
    "\n",
    "Let's say that in an exam,\n",
    "* `< 5` points mean you failed,\n",
    "* `5-10` points mean you barely passed,\n",
    "* `> 10` points mean you passed.\n",
    "\n",
    "Write a **function** that \n",
    "* takes a variable `exam_score` as input\n",
    "* returns a string, depending on the value of `exam_score`: \n",
    "    * either `\"you passed\"`, `\"you barely passed\"`, or `\"you failed\"` (if input is numeric); \n",
    "    * or `\"Error: input must be numeric\"` (if the type of input is neither `int` nor `float`)."
   ]
  },
  {
   "cell_type": "code",
   "execution_count": null,
   "metadata": {
    "slideshow": {
     "slide_type": "slide"
    }
   },
   "outputs": [],
   "source": [
    "# exam_score..."
   ]
  },
  {
   "cell_type": "markdown",
   "metadata": {
    "slideshow": {
     "slide_type": "slide"
    }
   },
   "source": [
    "***\n",
    "# What you've learned today:\n",
    "**quite a lot!**\n",
    "* a new data type: `list`\n",
    "* indexing and slicing (for lists and strings)\n",
    "* built-in functions (e.g. `abs(), max(), min(), sum(), len()`)\n",
    "* defining your own functions\n",
    "* the concept of variable scope\n",
    "* conditional statements (`if, else, elif`)\n",
    "* the keywords `is` and `in`"
   ]
  }
 ],
 "metadata": {
  "celltoolbar": "Slideshow",
  "kernelspec": {
   "display_name": "Python 3 (ipykernel)",
   "language": "python",
   "name": "python3"
  },
  "language_info": {
   "codemirror_mode": {
    "name": "ipython",
    "version": 3
   },
   "file_extension": ".py",
   "mimetype": "text/x-python",
   "name": "python",
   "nbconvert_exporter": "python",
   "pygments_lexer": "ipython3",
   "version": "3.9.15"
  }
 },
 "nbformat": 4,
 "nbformat_minor": 4
}

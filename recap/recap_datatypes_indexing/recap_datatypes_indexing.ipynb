{
 "cells": [
  {
   "cell_type": "markdown",
   "metadata": {
    "slideshow": {
     "slide_type": "slide"
    }
   },
   "source": [
    "# Advanced data types & indexing\n",
    "\n",
    "* `list` & indexing lists\n",
    "* indexing strings\n",
    "* `tuple`\n",
    "* indexing nested objects\n",
    "* `set`\n",
    "* `dict`\n",
    "* `range`\n",
    "* mutable vs. inmutable objects"
   ]
  },
  {
   "cell_type": "markdown",
   "metadata": {
    "slideshow": {
     "slide_type": "slide"
    }
   },
   "source": [
    "## `list`\n",
    "* Lists are **ordered sequences** of objects (order matters!!)\n",
    "* Can contain **any type of object** (also other lists)\n",
    "* Denoted by square brackets `[]`; created with `[]` or with `list()`\n",
    "* Objects in a list are separated by a comma: `[1, 2, 3]`\n",
    "* Objects in list can be accessed by their index, put in square brackets after the list name: `mylist[index]`\n",
    "* Objects in list can be changed: `mylist[index] = newobject`\n",
    "* List methods: `.append()`, `.remove()`, `.index()`, `count()`, `.reverse()`, `.sort()`"
   ]
  },
  {
   "cell_type": "code",
   "execution_count": null,
   "metadata": {
    "slideshow": {
     "slide_type": "slide"
    }
   },
   "outputs": [],
   "source": [
    "# a list is an ordered sequence of objects, \n",
    "# denoted by square brackets and separated by a comma\n",
    "mylist = [\"monday\", \"tuesday\", \"wednesday\"]"
   ]
  },
  {
   "cell_type": "code",
   "execution_count": null,
   "metadata": {
    "slideshow": {
     "slide_type": "slide"
    }
   },
   "outputs": [],
   "source": [
    "# a list can contain any type of object (also other lists)\n",
    "mylist = [\"monday\", \"tuesday\", \"wednesday\", True, 5.7, [1,2] ]"
   ]
  },
  {
   "cell_type": "code",
   "execution_count": null,
   "metadata": {
    "slideshow": {
     "slide_type": "slide"
    }
   },
   "outputs": [],
   "source": [
    "# positive indexing by position (start counting at 0, from left to right)\n",
    "# first element: mylist[0], second element: mylist[1], etc.\n",
    "mylist = [\"mon\", \"tue\", \"wed\", \"thu\", \"fri\", [\"sat\", \"sun\"]]\n",
    "mylist[4]\n"
   ]
  },
  {
   "cell_type": "code",
   "execution_count": null,
   "metadata": {
    "slideshow": {
     "slide_type": "slide"
    }
   },
   "outputs": [],
   "source": [
    "# negative indexing by position (start counting at -1, from right to left)\n",
    "# last element: mylist[-1], second-to-last element: mylist[-2], etc.\n",
    "mylist = [\"mon\", \"tue\", \"wed\", \"thu\", \"fri\", [\"sat\", \"sun\"]]\n",
    "mylist[-4]"
   ]
  },
  {
   "cell_type": "code",
   "execution_count": null,
   "metadata": {
    "slideshow": {
     "slide_type": "slide"
    }
   },
   "outputs": [],
   "source": [
    "# slicing: mylist[i:j] will take all elements\n",
    "# from position i (included) up to position j (NOT included)\n",
    "# leaving i blank means: \"from the start\"; leaving j blank means: \"until the end\"\n",
    "mylist = [\"mon\", \"tue\", \"wed\", \"thu\", \"fri\", [\"sat\", \"sun\"]]\n",
    "mylist"
   ]
  },
  {
   "cell_type": "code",
   "execution_count": null,
   "metadata": {
    "slideshow": {
     "slide_type": "slide"
    }
   },
   "outputs": [],
   "source": [
    "# list methods that return a value (they don't modify the object): \n",
    "# .index(); .count()\n",
    "mylist = [\"mon\", \"tue\", \"wed\", \"thu\", \"fri\", [\"sat\", \"sun\"], \"mon\"]\n",
    "mylist.count(\"mon\")"
   ]
  },
  {
   "cell_type": "code",
   "execution_count": null,
   "metadata": {
    "slideshow": {
     "slide_type": "slide"
    }
   },
   "outputs": [],
   "source": [
    "# list methods that don't return a value (they MODIFY the object): \n",
    "# .sort(), .reverse(), .remove(), .append()\n",
    "mylist = [\"mon\", \"tue\", \"wed\", \"thu\", \"fri\", \"sat\", \"sun\"]\n",
    "mylist.remove(\"mon\")\n",
    "mylist.append(\"holiday\")\n",
    "mylist"
   ]
  },
  {
   "cell_type": "code",
   "execution_count": null,
   "metadata": {
    "slideshow": {
     "slide_type": "slide"
    }
   },
   "outputs": [],
   "source": [
    "# objects in the list can be changed\n",
    "mylist = [\"mon\", \"tue\", \"wed\", \"thu\", \"fri\", [\"sat\", \"sun\"]]\n",
    "mylist[0] = \"Monday\"\n",
    "mylist"
   ]
  },
  {
   "cell_type": "markdown",
   "metadata": {
    "slideshow": {
     "slide_type": "slide"
    }
   },
   "source": [
    "## Indexing strings...\n",
    "\n",
    "works the same as indexing lists (see above) and indexing tuples (see below)"
   ]
  },
  {
   "cell_type": "code",
   "execution_count": null,
   "metadata": {
    "slideshow": {
     "slide_type": "slide"
    }
   },
   "outputs": [],
   "source": [
    "mystring = \"Weekend plans?\"\n",
    "mystring[-1]\n",
    "# index to the first, last, ... element"
   ]
  },
  {
   "cell_type": "code",
   "execution_count": null,
   "metadata": {
    "slideshow": {
     "slide_type": "slide"
    }
   },
   "outputs": [],
   "source": [
    "mystring = \"Weekend plans?\"\n",
    "mystring[7]\n",
    "# slice "
   ]
  },
  {
   "cell_type": "markdown",
   "metadata": {
    "slideshow": {
     "slide_type": "slide"
    }
   },
   "source": [
    "## `tuple`\n",
    "\n",
    "\"Just like list\", but denoted by round brackets `()` and with a big difference: tuples are **inmutable**."
   ]
  },
  {
   "cell_type": "code",
   "execution_count": null,
   "metadata": {
    "slideshow": {
     "slide_type": "slide"
    }
   },
   "outputs": [],
   "source": [
    "# a tuple is an ordered sequence of objects, \n",
    "# denoted by round brackets and separated by a comma\n",
    "# a tuple can contain any type of object (also other tuples)\n",
    "mytuple = (\"mon\", \"tue\", \"wed\", \"thu\", \"fri\", (\"sat\", \"sun\"))"
   ]
  },
  {
   "cell_type": "code",
   "execution_count": null,
   "metadata": {
    "slideshow": {
     "slide_type": "slide"
    }
   },
   "outputs": [],
   "source": [
    "# indexing & slicing tuples - works the same as \n",
    "# indexing & slicing lists and strings!\n",
    "mytuple = (\"mon\", \"tue\", \"wed\", \"thu\", \"fri\", (\"sat\", \"sun\"))\n",
    "mytuple[1:4]"
   ]
  },
  {
   "cell_type": "markdown",
   "metadata": {
    "slideshow": {
     "slide_type": "slide"
    }
   },
   "source": [
    "## Indexing nested lists/tuples\n",
    "\n",
    "List within a list: \"nested\" list"
   ]
  },
  {
   "cell_type": "code",
   "execution_count": null,
   "metadata": {
    "slideshow": {
     "slide_type": "slide"
    }
   },
   "outputs": [],
   "source": [
    "# indexing a nested list: just add [][]\n",
    "mylist = [\"mon\", \"tue\", \"wed\", \"thu\", \"fri\", [[\"sat1\", \"sat2\"], \"sun\"]]\n",
    "# index to the last element\n",
    "mylist[-1]\n",
    "# index to the first element within the last element (on the nested list)\n",
    "mylist[-1][0][0]"
   ]
  },
  {
   "cell_type": "markdown",
   "metadata": {
    "slideshow": {
     "slide_type": "slide"
    }
   },
   "source": [
    "## `set`\n",
    "\n",
    "unique collection of inmutable objects\n",
    "\n",
    "methods: `.add()`, `.remove()`, `.pop()` (they change the set object)"
   ]
  },
  {
   "cell_type": "code",
   "execution_count": null,
   "metadata": {
    "slideshow": {
     "slide_type": "slide"
    }
   },
   "outputs": [],
   "source": [
    "my_set = {6, 6, 6, 6, 7, 7, 7, 7, 8, 8, 8, 8, 9, 9, 9, 9}\n",
    "my_set\n",
    "# when creating a set, only unique objects are kept"
   ]
  },
  {
   "cell_type": "code",
   "execution_count": null,
   "metadata": {
    "slideshow": {
     "slide_type": "slide"
    }
   },
   "outputs": [],
   "source": [
    "# .add() changes the set; no return value\n",
    "my_set.add(3)\n",
    "my_set"
   ]
  },
  {
   "cell_type": "code",
   "execution_count": null,
   "metadata": {
    "slideshow": {
     "slide_type": "slide"
    }
   },
   "outputs": [],
   "source": [
    "# .remove() changes the set; no return value\n",
    "my_set.remove(7)\n",
    "my_set"
   ]
  },
  {
   "cell_type": "code",
   "execution_count": null,
   "metadata": {
    "slideshow": {
     "slide_type": "slide"
    }
   },
   "outputs": [],
   "source": [
    "# .pop() changes the set; has return value (the \"popped\" object)\n",
    "popped_object = my_set.pop()\n",
    "print(\"Popped object: \", popped_object)\n",
    "print(\"My set after popping: \", my_set)"
   ]
  },
  {
   "cell_type": "markdown",
   "metadata": {
    "slideshow": {
     "slide_type": "slide"
    }
   },
   "source": [
    "## `dict`\n",
    "\n",
    "\"A collection of key-value pairs, with unique keys\""
   ]
  },
  {
   "cell_type": "markdown",
   "metadata": {
    "slideshow": {
     "slide_type": "slide"
    }
   },
   "source": [
    "# Dictionaries in Python\n",
    "\n",
    "* dictionaries are **collections of key-value pairs** with **unique keys**\n",
    "* store pairs of data in a **structured** way, by entries of the form `key:value` \n",
    "* finding a key/value in a dictionary is **much more efficient** than finding an item in a list\n",
    "* denoted by curly brackets `{}` or `dict()`\n",
    "    * {key1:value1, key2:value2, ...}\n",
    "    * dict(name1=value1, name2=value2, ...)\n",
    "* rules for dictionary **keys**:\n",
    "    * *should* be of type `int`, `str` or ` tuple` (more details later)\n",
    "    * have to be unique (the same way a word can't appear twice in a dictionary)\n",
    "* rules for dictionary **values** \n",
    "    * can be of any type \n",
    "    * do not need to be unique (the same way two words (synonyms) can have the same meaning)"
   ]
  },
  {
   "cell_type": "markdown",
   "metadata": {
    "slideshow": {
     "slide_type": "slide"
    }
   },
   "source": [
    "# Dictionaries in Python\n",
    "\n",
    "* use a key to \"look up\" its value: `mydict[mykey]` returns the value that corresponds to `mykey`\n",
    "* to add or update a key:value pair: `mydict[mykey]=myvalue`\n",
    "* to delete a key:value pair: `del(mydict[mykey])`\n",
    "* to check whether a key is in the dictionary: `mykey in mydict` (short for: `mykey in mydict.keys()`)\n",
    "* to check whether a value is in the dictionary: `myvalue in mydict.values()`"
   ]
  },
  {
   "cell_type": "code",
   "execution_count": null,
   "metadata": {
    "slideshow": {
     "slide_type": "slide"
    }
   },
   "outputs": [],
   "source": [
    "thx = {\n",
    "    \"english\" : \"thank you\", # key is \"english\", the corresponding value is \"thank you\"\n",
    "    \"turkish\": \"tesekkürler\",\n",
    "    \"amharic\": \"ameseginalehu\",\n",
    "    \"danish\" : \"tak\",\n",
    "    \"romanian\": \"multumesc\",\n",
    "} "
   ]
  },
  {
   "cell_type": "code",
   "execution_count": 93,
   "metadata": {
    "slideshow": {
     "slide_type": "slide"
    }
   },
   "outputs": [
    {
     "name": "stdout",
     "output_type": "stream",
     "text": [
      "turkish\n",
      "amharic\n",
      "danish\n",
      "romanian\n",
      "french\n"
     ]
    }
   ],
   "source": [
    "# check the keys\n",
    "for mykey in thx.keys():\n",
    "    print(mykey)"
   ]
  },
  {
   "cell_type": "code",
   "execution_count": 94,
   "metadata": {
    "slideshow": {
     "slide_type": "slide"
    }
   },
   "outputs": [
    {
     "name": "stdout",
     "output_type": "stream",
     "text": [
      "tesekkürler\n",
      "ameseginalehu\n",
      "mange tak\n",
      "multumesc\n",
      "merci\n"
     ]
    }
   ],
   "source": [
    "# check the values\n",
    "for v in thx.values():\n",
    "    print(v)"
   ]
  },
  {
   "cell_type": "code",
   "execution_count": 96,
   "metadata": {
    "slideshow": {
     "slide_type": "slide"
    }
   },
   "outputs": [
    {
     "name": "stdout",
     "output_type": "stream",
     "text": [
      "turkish tesekkürler\n",
      "amharic ameseginalehu\n",
      "danish mange tak\n",
      "romanian multumesc\n",
      "french merci\n"
     ]
    }
   ],
   "source": [
    "# check the ITEMS (key-value pairs)\n",
    "for k, v in thx.items():\n",
    "    print(k, v)"
   ]
  },
  {
   "cell_type": "code",
   "execution_count": 97,
   "metadata": {
    "slideshow": {
     "slide_type": "slide"
    }
   },
   "outputs": [
    {
     "data": {
      "text/plain": [
       "'multumesc'"
      ]
     },
     "execution_count": 97,
     "metadata": {},
     "output_type": "execute_result"
    }
   ],
   "source": [
    "# look up a value by its key\n",
    "thx[\"romanian\"]"
   ]
  },
  {
   "cell_type": "code",
   "execution_count": 101,
   "metadata": {
    "slideshow": {
     "slide_type": "slide"
    }
   },
   "outputs": [
    {
     "data": {
      "text/plain": [
       "{'turkish': 'tesekkürler',\n",
       " 'amharic': 'ameseginalehu',\n",
       " 'danish': 'tak',\n",
       " 'romanian': 'multumesc',\n",
       " 'french': 'merci',\n",
       " 'german': 'danke'}"
      ]
     },
     "execution_count": 101,
     "metadata": {},
     "output_type": "execute_result"
    }
   ],
   "source": [
    "# add a key-value pair\n",
    "thx[\"danish\"] = \"tak\"\n",
    "thx"
   ]
  },
  {
   "cell_type": "code",
   "execution_count": 102,
   "metadata": {
    "slideshow": {
     "slide_type": "slide"
    }
   },
   "outputs": [
    {
     "data": {
      "text/plain": [
       "{'turkish': 'tesekkürler',\n",
       " 'amharic': 'ameseginalehu',\n",
       " 'danish': 'tak',\n",
       " 'romanian': 'multumesc',\n",
       " 'french': 'merci'}"
      ]
     },
     "execution_count": 102,
     "metadata": {},
     "output_type": "execute_result"
    }
   ],
   "source": [
    "# delete a key-value pair\n",
    "del thx[\"german\"]\n",
    "thx"
   ]
  },
  {
   "cell_type": "code",
   "execution_count": 106,
   "metadata": {
    "slideshow": {
     "slide_type": "slide"
    }
   },
   "outputs": [
    {
     "data": {
      "text/plain": [
       "True"
      ]
     },
     "execution_count": 106,
     "metadata": {},
     "output_type": "execute_result"
    }
   ],
   "source": [
    "# check if a key is in the dictionary\n",
    "\"amharic\" in thx"
   ]
  },
  {
   "cell_type": "code",
   "execution_count": 108,
   "metadata": {
    "slideshow": {
     "slide_type": "slide"
    }
   },
   "outputs": [
    {
     "data": {
      "text/plain": [
       "True"
      ]
     },
     "execution_count": 108,
     "metadata": {},
     "output_type": "execute_result"
    }
   ],
   "source": [
    "# check if a value is in the dictionary\n",
    "\"tak\" in thx.values()"
   ]
  },
  {
   "cell_type": "markdown",
   "metadata": {
    "slideshow": {
     "slide_type": "slide"
    }
   },
   "source": [
    "# Try it out yourself\n",
    "\n",
    "Create a dictionary `menu` with days of the week as keys, and your dinner menu for that day as value. Then:\n",
    "* print out all keys of the `menu`\n",
    "* print out all values of `menu`\n",
    "* print out what you will eat on Friday\n",
    "* change your dinner on Saturday to `\"dining out!\"` \n",
    "* delete the key-value pair for Sunday from the dictionary"
   ]
  },
  {
   "cell_type": "code",
   "execution_count": 110,
   "metadata": {
    "slideshow": {
     "slide_type": "slide"
    }
   },
   "outputs": [
    {
     "data": {
      "text/plain": [
       "dict"
      ]
     },
     "execution_count": 110,
     "metadata": {},
     "output_type": "execute_result"
    }
   ],
   "source": [
    "# sample solution:\n",
    "# create the dictionary \"menu\"\n",
    "menu = {\n",
    "    \"mon\": \"pasta\",\n",
    "    \"tue\": \"plov\",\n",
    "    \"wed\": \"salad\",\n",
    "    \"thu\": \"soup\",\n",
    "    \"fri\": \"potatoes\",\n",
    "    \"sat\": \"pizza\",\n",
    "    \"sun\": \"meat\"\n",
    "}\n",
    "type(menu)"
   ]
  },
  {
   "cell_type": "code",
   "execution_count": 111,
   "metadata": {
    "slideshow": {
     "slide_type": "slide"
    }
   },
   "outputs": [
    {
     "data": {
      "text/plain": [
       "dict_keys(['mon', 'tue', 'wed', 'thu', 'fri', 'sat', 'sun'])"
      ]
     },
     "execution_count": 111,
     "metadata": {},
     "output_type": "execute_result"
    }
   ],
   "source": [
    "# print out all keys of menu\n",
    "menu.keys()"
   ]
  },
  {
   "cell_type": "code",
   "execution_count": 112,
   "metadata": {
    "slideshow": {
     "slide_type": "slide"
    }
   },
   "outputs": [
    {
     "data": {
      "text/plain": [
       "dict_values(['pasta', 'plov', 'salad', 'soup', 'potatoes', 'pizza', 'meat'])"
      ]
     },
     "execution_count": 112,
     "metadata": {},
     "output_type": "execute_result"
    }
   ],
   "source": [
    "# print out all values of menu\n",
    "menu.values()"
   ]
  },
  {
   "cell_type": "code",
   "execution_count": 113,
   "metadata": {
    "slideshow": {
     "slide_type": "slide"
    }
   },
   "outputs": [
    {
     "data": {
      "text/plain": [
       "'potatoes'"
      ]
     },
     "execution_count": 113,
     "metadata": {},
     "output_type": "execute_result"
    }
   ],
   "source": [
    "# print out Friday's menu (print out the value of the key \"fri\")\n",
    "menu[\"fri\"]"
   ]
  },
  {
   "cell_type": "code",
   "execution_count": 115,
   "metadata": {
    "slideshow": {
     "slide_type": "slide"
    }
   },
   "outputs": [
    {
     "data": {
      "text/plain": [
       "{'mon': 'pasta',\n",
       " 'tue': 'plov',\n",
       " 'wed': 'salad',\n",
       " 'thu': 'soup',\n",
       " 'fri': 'potatoes',\n",
       " 'sat': 'dining out!',\n",
       " 'sun': 'meat'}"
      ]
     },
     "execution_count": 115,
     "metadata": {},
     "output_type": "execute_result"
    }
   ],
   "source": [
    "# chage the Saturday menu to \"dining out!\" (change the value of the key \"sat\")\n",
    "menu[\"sat\"] = \"dining out!\"\n",
    "menu"
   ]
  },
  {
   "cell_type": "code",
   "execution_count": 117,
   "metadata": {
    "slideshow": {
     "slide_type": "slide"
    }
   },
   "outputs": [
    {
     "ename": "NameError",
     "evalue": "name 'menu' is not defined",
     "output_type": "error",
     "traceback": [
      "\u001b[0;31m---------------------------------------------------------------------------\u001b[0m",
      "\u001b[0;31mNameError\u001b[0m                                 Traceback (most recent call last)",
      "Cell \u001b[0;32mIn[117], line 3\u001b[0m\n\u001b[1;32m      1\u001b[0m \u001b[38;5;66;03m# delete the Sunday menu from the dictionary (delete the key-value pair of the key \"sun\")\u001b[39;00m\n\u001b[1;32m      2\u001b[0m \u001b[38;5;28;01mdel\u001b[39;00m menu\n\u001b[0;32m----> 3\u001b[0m \u001b[43mmenu\u001b[49m\n",
      "\u001b[0;31mNameError\u001b[0m: name 'menu' is not defined"
     ]
    }
   ],
   "source": [
    "# delete the Sunday menu from the dictionary (delete the key-value pair of the key \"sun\")\n",
    "del menu\n",
    "menu"
   ]
  },
  {
   "cell_type": "markdown",
   "metadata": {
    "slideshow": {
     "slide_type": "slide"
    }
   },
   "source": [
    "## `range`\n",
    "\n",
    "* an inmutable sequence of integer numbers\n",
    "* parameters: start (by default 0), stop (**required**), step (by default 1)\n",
    "* often used in for loops: \n",
    "\n",
    "```python\n",
    "for _ in range(n): # will iterate n times!\n",
    "```"
   ]
  },
  {
   "cell_type": "code",
   "execution_count": 119,
   "metadata": {
    "slideshow": {
     "slide_type": "slide"
    }
   },
   "outputs": [
    {
     "data": {
      "text/plain": [
       "[0, 1, 2, 3, 4, 5, 6, 7, 8, 9]"
      ]
     },
     "execution_count": 119,
     "metadata": {},
     "output_type": "execute_result"
    }
   ],
   "source": [
    "# only defining stop\n",
    "list( range(10) )"
   ]
  },
  {
   "cell_type": "code",
   "execution_count": 122,
   "metadata": {
    "slideshow": {
     "slide_type": "slide"
    }
   },
   "outputs": [
    {
     "data": {
      "text/plain": [
       "[14, 15, 16, 17, 18, 19]"
      ]
     },
     "execution_count": 122,
     "metadata": {},
     "output_type": "execute_result"
    }
   ],
   "source": [
    "# defining start and stop\n",
    "list(range(14, 20))"
   ]
  },
  {
   "cell_type": "code",
   "execution_count": 124,
   "metadata": {
    "slideshow": {
     "slide_type": "slide"
    }
   },
   "outputs": [
    {
     "data": {
      "text/plain": [
       "[3, 8, 13, 18, 23, 28]"
      ]
     },
     "execution_count": 124,
     "metadata": {},
     "output_type": "execute_result"
    }
   ],
   "source": [
    "# defining start, stop, and step\n",
    "list(range(3, 31, 5))"
   ]
  },
  {
   "cell_type": "code",
   "execution_count": 126,
   "metadata": {
    "slideshow": {
     "slide_type": "slide"
    }
   },
   "outputs": [
    {
     "data": {
      "text/plain": [
       "[101, 91, 81, 71, 61, 51, 41, 31, 21, 11, 1]"
      ]
     },
     "execution_count": 126,
     "metadata": {},
     "output_type": "execute_result"
    }
   ],
   "source": [
    "# negative step (start > stop!)\n",
    "list(range(101, 0, -10))"
   ]
  },
  {
   "cell_type": "markdown",
   "metadata": {
    "slideshow": {
     "slide_type": "slide"
    }
   },
   "source": [
    "# Mutable vs. inmutable objects\n",
    "\n",
    "### Lists are \"mutable\". We can change them. \n",
    "\n",
    "### Tuples are \"inmutable\". We can NOT change them. "
   ]
  },
  {
   "cell_type": "markdown",
   "metadata": {
    "slideshow": {
     "slide_type": "slide"
    }
   },
   "source": [
    "## inmutable objects\n",
    "\n",
    "`int` `float` `bool` `str`\n",
    "\n",
    "`tuple` `range`\n",
    "\n",
    "## mutable objects\n",
    "\n",
    "`list` `set` `dict`"
   ]
  }
 ],
 "metadata": {
  "celltoolbar": "Slideshow",
  "kernelspec": {
   "display_name": "Python 3 (ipykernel)",
   "language": "python",
   "name": "python3"
  },
  "language_info": {
   "codemirror_mode": {
    "name": "ipython",
    "version": 3
   },
   "file_extension": ".py",
   "mimetype": "text/x-python",
   "name": "python",
   "nbconvert_exporter": "python",
   "pygments_lexer": "ipython3",
   "version": "3.11.6"
  }
 },
 "nbformat": 4,
 "nbformat_minor": 2
}

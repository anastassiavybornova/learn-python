{
 "cells": [
  {
   "cell_type": "markdown",
   "metadata": {
    "slideshow": {
     "slide_type": "slide"
    }
   },
   "source": [
    "# Processing text files with `open()` and...\n",
    "\n",
    "### to read: `.read()`, `.readlines()`\n",
    "### to write: `.write()`, `writelines()`"
   ]
  },
  {
   "cell_type": "markdown",
   "metadata": {
    "slideshow": {
     "slide_type": "slide"
    }
   },
   "source": [
    "# `.read()`\n",
    "\n",
    "```python\n",
    "with open(\"filepath\", \"r\") as opened_file:\n",
    "    my_text = opened_file.read() \n",
    "# .read() will give you 1 single string\n",
    "```\n",
    "\n",
    "Note: the default mode is `\"r\"` (reading), so you don't *need* to specify it when reading in files."
   ]
  },
  {
   "cell_type": "code",
   "execution_count": 13,
   "metadata": {
    "slideshow": {
     "slide_type": "slide"
    }
   },
   "outputs": [
    {
     "data": {
      "text/plain": [
       "\"Maya Angelou: Still I Rise\\n\\nYou may write me down in history\\nWith your bitter, twisted lies,\\nYou may trod me in the very dirt\\nBut still, like dust, I'll rise.\\n\\nDoes my sassiness upset you?\\nWhy are you beset with gloom?\\n’Cause I walk like I've got oil wells\\nPumping in my living room.\\n\\nJust like moons and like suns,\\nWith the certainty of tides,\\nJust like hopes springing high,\\nStill I'll rise.\\n\\nDid you want to see me broken?\\nBowed head and lowered eyes?\\nShoulders falling down like teardrops,\\nWeakened by my soulful cries?\\n\\nDoes my haughtiness offend you?\\nDon't you take it awful hard\\n’Cause I laugh like I've got gold mines\\nDiggin’ in my own backyard.\\n\\nYou may shoot me with your words,\\nYou may cut me with your eyes,\\nYou may kill me with your hatefulness,\\nBut still, like air, I’ll rise.\\n\\nDoes my sexiness upset you?\\nDoes it come as a surprise\\nThat I dance like I've got diamonds\\nAt the meeting of my thighs?\\n\\nOut of the huts of history’s shame\\nI rise\\nUp from a past that’s rooted in pain\\nI rise\\nI'm a black ocean, leaping and wide,\\nWelling and swelling I bear in the tide.\\n\\nLeaving behind nights of terror and fear\\nI rise\\nInto a daybreak that’s wondrously clear\\nI rise\\nBringing the gifts that my ancestors gave,\\nI am the dream and the hope of the slave.\\nI rise\\nI rise\\nI rise.\""
      ]
     },
     "execution_count": 13,
     "metadata": {},
     "output_type": "execute_result"
    }
   ],
   "source": [
    "# let's read in poem.txt\n",
    "with open(\"data/poem.txt\", \"r\") as opened_file: \n",
    "    my_text = opened_file.read()\n",
    "my_text"
   ]
  },
  {
   "cell_type": "markdown",
   "metadata": {
    "slideshow": {
     "slide_type": "slide"
    }
   },
   "source": [
    "# `.readlines()`\n",
    "\n",
    "```python\n",
    "with open(\"filepath\", \"r\") as opened_file:\n",
    "    my_text = opened_file.readlines() \n",
    "# .readlines() will give you 1 string for each line\n",
    "```\n",
    "\n",
    "Note: the default mode is `\"r\"` (reading), so you don't *need* to specify it when reading in files."
   ]
  },
  {
   "cell_type": "code",
   "execution_count": 12,
   "metadata": {
    "slideshow": {
     "slide_type": "slide"
    }
   },
   "outputs": [
    {
     "data": {
      "text/plain": [
       "str"
      ]
     },
     "execution_count": 12,
     "metadata": {},
     "output_type": "execute_result"
    }
   ],
   "source": [
    "# let's read in poem.txt one more time\n",
    "with open(\"data/poem.txt\") as opened_file:\n",
    "    my_text = opened_file.readlines()\n",
    "type(my_text[0])"
   ]
  },
  {
   "cell_type": "markdown",
   "metadata": {
    "slideshow": {
     "slide_type": "slide"
    }
   },
   "source": [
    "# `.write()`\n",
    "\n",
    "```python\n",
    "with open(\"filepath\", \"w\") as opened_file:\n",
    "    opened_file.write(my_text) \n",
    "    # if text is 1 single string\n",
    "```"
   ]
  },
  {
   "cell_type": "code",
   "execution_count": 14,
   "metadata": {
    "slideshow": {
     "slide_type": "slide"
    }
   },
   "outputs": [
    {
     "name": "stdout",
     "output_type": "stream",
     "text": [
      "Mr. Watson - Come here - I want to see you\n"
     ]
    }
   ],
   "source": [
    "# run this cell to define the variable \"first_words\" (we will write it to a file)\n",
    "first_words = \"Mr. Watson - Come here - I want to see you\"\n",
    "print(first_words)"
   ]
  },
  {
   "cell_type": "code",
   "execution_count": 15,
   "metadata": {
    "slideshow": {
     "slide_type": "slide"
    }
   },
   "outputs": [],
   "source": [
    "# first_words is a string, write it to file with .write():\n",
    "with open(\"data/firstwords.txt\", \"w\") as opened_file:\n",
    "    opened_file.write(first_words)"
   ]
  },
  {
   "cell_type": "markdown",
   "metadata": {
    "slideshow": {
     "slide_type": "slide"
    }
   },
   "source": [
    "# `.writelines()`\n",
    "\n",
    "```python\n",
    "with open(\"filepath\", \"w\") as opened_file:\n",
    "    opened_file.writelines(my_text) \n",
    "    # if text is a list of strings\n",
    "```"
   ]
  },
  {
   "cell_type": "code",
   "execution_count": 17,
   "metadata": {
    "slideshow": {
     "slide_type": "slide"
    }
   },
   "outputs": [],
   "source": [
    "# what if first_words is a list?\n",
    "first_words = [\"Mr. Watson\\n\", \"Come here\\n\", \"I want to see you\\n\"]\n",
    "with open(\"data/firstwords_list.txt\", \"w\") as opened_file:\n",
    "    opened_file.write(first_words)"
   ]
  }
 ],
 "metadata": {
  "kernelspec": {
   "display_name": "Python 3 (ipykernel)",
   "language": "python",
   "name": "python3"
  },
  "language_info": {
   "codemirror_mode": {
    "name": "ipython",
    "version": 3
   },
   "file_extension": ".py",
   "mimetype": "text/x-python",
   "name": "python",
   "nbconvert_exporter": "python",
   "pygments_lexer": "ipython3",
   "version": "3.11.6"
  }
 },
 "nbformat": 4,
 "nbformat_minor": 2
}

{
 "cells": [
  {
   "cell_type": "markdown",
   "metadata": {
    "slideshow": {
     "slide_type": "slide"
    }
   },
   "source": [
    "# `while` loops\n",
    "\n",
    "incl. some new info on **control flow**"
   ]
  },
  {
   "cell_type": "markdown",
   "metadata": {
    "slideshow": {
     "slide_type": "slide"
    }
   },
   "source": [
    "## `while` loop syntax in Python\n",
    "\n",
    "With a `while` loop, we execute some code (the body of the while-loop) conditionally and repeatedly - until either\n",
    "\n",
    "a. the condition of the while loop becomes `False`; or  \n",
    "b. we `break` out of the while loop.\n",
    "\n",
    "```python\n",
    "while condition:\n",
    "    statement # (which modifies the condition!)\n",
    "# this while loop will check the condition; \n",
    "# if it is True, it will execute the statement UNTIL the condition becomes False.\n",
    "\n",
    "while condition1:\n",
    "    statement \n",
    "    if condition2:\n",
    "        break # make sure to \"break out\" at some point!\n",
    "```"
   ]
  },
  {
   "cell_type": "code",
   "execution_count": null,
   "metadata": {
    "slideshow": {
     "slide_type": "slide"
    }
   },
   "outputs": [],
   "source": [
    "# infinite while loop (THIS IS BAD!)\n",
    "print(\"while loop will start next\")\n",
    "while True:\n",
    "    print(\"infinite while loop\")  \n",
    "print(\"while loop is over\")"
   ]
  },
  {
   "cell_type": "code",
   "execution_count": 2,
   "metadata": {
    "slideshow": {
     "slide_type": "slide"
    }
   },
   "outputs": [
    {
     "name": "stdout",
     "output_type": "stream",
     "text": [
      "while loop will start next\n",
      "while loop is over\n"
     ]
    }
   ],
   "source": [
    "# infinite while loop (THIS IS BAD! - but never gets executed)\n",
    "print(\"while loop will start next\")\n",
    "while False:\n",
    "    print(\"infinite while loop which never gets executed\")\n",
    "print(\"while loop is over\")"
   ]
  },
  {
   "cell_type": "code",
   "execution_count": 4,
   "metadata": {
    "slideshow": {
     "slide_type": "slide"
    }
   },
   "outputs": [
    {
     "name": "stdout",
     "output_type": "stream",
     "text": [
      "While loop will start on next line\n",
      "\t Value of i in the while loop: 1\n",
      "\t Value of i in the while loop: 2\n",
      "\t Value of i in the while loop: 3\n",
      "\t Value of i in the while loop: 4\n",
      "\t Value of i in the while loop: 5\n",
      "While loop has ended\n"
     ]
    }
   ],
   "source": [
    "# Use a while loop to print out numbers from 1 to 5\n",
    "# while loop with condition that is modified WITHIN the while loop\n",
    "i = 0\n",
    "print(\"While loop will start on next line\")\n",
    "while i < 5:\n",
    "    i += 1\n",
    "    print(f\"\\t Value of i in the while loop: {i}\")\n",
    "print(\"While loop has ended\")"
   ]
  },
  {
   "cell_type": "code",
   "execution_count": 5,
   "metadata": {
    "slideshow": {
     "slide_type": "slide"
    }
   },
   "outputs": [
    {
     "name": "stdout",
     "output_type": "stream",
     "text": [
      "while loop begins on next line\n",
      "\t Value of i in the while loop: 1\n",
      "\t Value of i in the while loop: 2\n",
      "\t Value of i in the while loop: 3\n",
      "\t Value of i in the while loop: 4\n",
      "\t Value of i in the while loop: 5\n",
      "\t i==5, breaking out of the while loop\n",
      "while loop has ended\n"
     ]
    }
   ],
   "source": [
    "# Use a while loop to print out numbers from 1 to 5\n",
    "# while loop with break statement\n",
    "i = 0\n",
    "print(\"while loop begins on next line\")\n",
    "while True:\n",
    "    i += 1\n",
    "    print(f\"\\t Value of i in the while loop: {i}\")\n",
    "    if i == 5:\n",
    "        print(f\"\\t i=={i}, breaking out of the while loop\")\n",
    "        break \n",
    "print(\"while loop has ended\")"
   ]
  },
  {
   "cell_type": "code",
   "execution_count": 8,
   "metadata": {
    "slideshow": {
     "slide_type": "slide"
    }
   },
   "outputs": [
    {
     "name": "stdout",
     "output_type": "stream",
     "text": [
      "in the while loop\n",
      "in the while loop\n",
      "in the while loop\n"
     ]
    }
   ],
   "source": [
    "# if we use a variable in the condition of the while loop,\n",
    "# it needs to previously defined:\n",
    "x = 2\n",
    "while x < 5:\n",
    "    x += 1\n",
    "    print(\"in the while loop\")\n",
    "# this will throw an error!\n",
    "# for x in range(5):\n",
    "#    print(x)"
   ]
  },
  {
   "cell_type": "markdown",
   "metadata": {
    "slideshow": {
     "slide_type": "slide"
    }
   },
   "source": [
    "# Control flow in Python\n",
    "\n",
    "Default mode is *sequential* (\"line by line\"); affected by:\n",
    "* conditional statements (`if`, `else`);\n",
    "* loops (`for`, `while`, `break`);\n",
    "* function calls"
   ]
  },
  {
   "cell_type": "code",
   "execution_count": null,
   "metadata": {
    "slideshow": {
     "slide_type": "slide"
    }
   },
   "outputs": [],
   "source": [
    "# some lines of code executed line-by-line\n",
    "x = 1\n",
    "y = 5\n",
    "z = x + y\n",
    "\n",
    "print(z)\n",
    "\n",
    "if z > 3:\n",
    "    print(\"\\t z > 3\")\n",
    "elif z == 3:\n",
    "    print(\"\\t z == 3\")\n",
    "else: \n",
    "    print(\"\\t z < 3\")\n",
    "\n",
    "print(\"conditional statement has ended\")\n",
    "\n",
    "for i in range(z):\n",
    "    print(f\"\\t Current value of i in the for loop: {i}\")\n",
    "\n",
    "print(\"for loop has ended\")\n",
    "\n",
    "while z > 0:\n",
    "    z -= 1\n",
    "    print(f\"\\t Current value of z in the while loop: {z}\")\n",
    "\n",
    "print(\"while loop has ended\")\n",
    "\n",
    "print(\"We arrived at the end!\")"
   ]
  },
  {
   "cell_type": "markdown",
   "metadata": {
    "slideshow": {
     "slide_type": "slide"
    }
   },
   "source": [
    "**Control flow, awkwardly illustrated**\n",
    "\n",
    "```python\n",
    "x = 1\n",
    "y = 5\n",
    "z = x + y\n",
    "\n",
    "print(z)\n",
    "\n",
    "if z > 3:\n",
    "    print(\"z > 3\")\n",
    "elif z == 3:\n",
    "    print(\"z == 3\")\n",
    "else: \n",
    "    print(\"z < 3\")\n",
    "\n",
    "for i in range(z):\n",
    "    print(i)\n",
    "\n",
    "while z > 0:\n",
    "    z -= 1\n",
    "```"
   ]
  },
  {
   "cell_type": "markdown",
   "metadata": {},
   "source": [
    "<p style=\"text-align:left;\">\n",
    "    <img src=\"control_flow_illu.png\" alt=\"Illustration of control flow\" width=70%>\n",
    "</p>"
   ]
  },
  {
   "cell_type": "code",
   "execution_count": null,
   "metadata": {},
   "outputs": [],
   "source": []
  }
 ],
 "metadata": {
  "kernelspec": {
   "display_name": "Python 3 (ipykernel)",
   "language": "python",
   "name": "python3"
  },
  "language_info": {
   "codemirror_mode": {
    "name": "ipython",
    "version": 3
   },
   "file_extension": ".py",
   "mimetype": "text/x-python",
   "name": "python",
   "nbconvert_exporter": "python",
   "pygments_lexer": "ipython3",
   "version": "3.11.6"
  }
 },
 "nbformat": 4,
 "nbformat_minor": 2
}

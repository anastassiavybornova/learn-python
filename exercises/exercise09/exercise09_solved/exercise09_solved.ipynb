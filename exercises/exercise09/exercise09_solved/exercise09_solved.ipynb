{
 "cells": [
  {
   "cell_type": "markdown",
   "metadata": {},
   "source": [
    "# Exercise 09\n",
    "\n",
    "* Task 1: `conda`\n",
    "* Task 2: Implementing a binary search algorithm\n",
    "* Task 3: Improving the efficiency of a recursive Fibonacci function with \"caching\""
   ]
  },
  {
   "cell_type": "markdown",
   "metadata": {},
   "source": [
    "# Task 1: Creating the `websoup` environment\n",
    "\n",
    "In this task, we will: \n",
    "* learn how to use conda to manage environments; \n",
    "* create an environment `websoup`; \n",
    "* and install the package `beautifulsoup4` (which we need for lecture & exercise 10).\n",
    "\n",
    "Detailed instructions are [here](https://github.com/anastassiavybornova/pythoncrashcourse/blob/main/exercise09_conda.md). \n",
    "\n",
    "> **Troubleshooting**: If you get lost within the detailed instructions, have no more time left, and really just want to install the `beautifulsoup4` package, then head [here](https://github.com/anastassiavybornova/pythoncrashcourse/blob/main/exercise09_justsoup.md) for instructions. (This is the minimum needed for you to be able to code along during lecture & exercise 10)."
   ]
  },
  {
   "cell_type": "markdown",
   "metadata": {},
   "source": [
    "# Task 2: `binary_search`\n",
    "\n",
    "Write a function `binary_search` that:\n",
    "* takes two input arguments: an **already sorted** list of numbers; and a **number**\n",
    "* returns `True` or `False`, depending on whether the number is on the list or not\n",
    "* implements a **binary search algorithm** (\"cutting the search space in half at each step\") to find out whether the number is on the list\n",
    "\n",
    "If you need some inspiration on how to approach this task, check out **Chapter 8  - Friday: Writing a Binary Search** from the book [**Python Projects for Beginners**](https://learnit.itu.dk/pluginfile.php/356837/mod_page/content/8/PythonProjectsForBeginners.pdf) (the PDF is available for download on the [Self-study resources page in learnIT](https://learnit.itu.dk/mod/page/view.php?id=185265)). \n",
    "\n",
    "You can use the `numbers.csv` file (provided with this notebook) to test your function:\n",
    "* `binary_search(4403)` should return `True` (4403 is on the list)\n",
    "* `binary_search(52301)` should return False (52301 is not on the list)"
   ]
  },
  {
   "cell_type": "code",
   "execution_count": 1,
   "metadata": {},
   "outputs": [],
   "source": [
    "def binary_search(my_sorted_list, my_item):\n",
    "    '''\n",
    "    function that uses the binary search algorithm\n",
    "    to find whether my_item is in my_list,\n",
    "    and if so, in which position\n",
    "    '''\n",
    "\n",
    "    # define the \"search limits\"\n",
    "    left_limit = 0\n",
    "    right_limit = len(my_sorted_list) - 1 # this is the index of the last element on the list\n",
    "\n",
    "    # while we still have a list with more than 1 number to search:\n",
    "    while left_limit <= right_limit:\n",
    "\n",
    "        # find the \"middle index\" (// gives us integer division, always rounds down to next integer)\n",
    "        middle_index = (right_limit + left_limit) // 2\n",
    "        \n",
    "        # if the item at middle_index position is the one we're looking for,\n",
    "        # we're done! we found the item on the list - so return True\n",
    "        if my_sorted_list[middle_index] == my_item:\n",
    "            return True\n",
    "        \n",
    "        # if at the \"middle\" position we have something SMALLER than my_item,\n",
    "        # my_item must be in the right half of the search space,\n",
    "        # so we need to modify the left limit:\n",
    "        elif my_sorted_list[middle_index] < my_item:\n",
    "            left_limit = middle_index + 1\n",
    "\n",
    "        # if at the \"middle\" position we have something BIGGER than my_item,\n",
    "        # then my_item must be in the left half of the search space,\n",
    "        # so we need to modify the right limit:\n",
    "        else:\n",
    "            right_limit = middle_index - 1\n",
    "\n",
    "    # the while loop ends when left_limit becomes smaller or equal to right limit,\n",
    "    # which means that we will have searched the entire space, but found no match;\n",
    "    # in that case it means our number is not on the list;\n",
    "    # then return False:\n",
    "    return False"
   ]
  },
  {
   "cell_type": "markdown",
   "metadata": {},
   "source": [
    "**Read in the data from `numbers.csv` to a list**"
   ]
  },
  {
   "cell_type": "code",
   "execution_count": 2,
   "metadata": {},
   "outputs": [],
   "source": [
    "# import pandas\n",
    "import pandas as pd\n",
    "# read in numbers.csv into dataframe called \"df\"; \n",
    "# header = None means that in the csv, the first line is not a header row, but already contains data\n",
    "df = pd.read_csv(\"numbers.csv\", header = None)\n",
    "# the numbers are in a column called \"0\" by default (because no header was provided);\n",
    "# use list() to convert the column into a list\n",
    "my_list = list(df[0])"
   ]
  },
  {
   "cell_type": "code",
   "execution_count": 3,
   "metadata": {},
   "outputs": [],
   "source": [
    "# check if your function works as expected\n",
    "assert binary_search(my_list, 4403) == True\n",
    "assert binary_search(my_list, 52301) == False"
   ]
  },
  {
   "cell_type": "markdown",
   "metadata": {},
   "source": [
    "# Task 3: Recursive Fibonacci with memory caching\n",
    "\n",
    "> ADVANCED material!\n",
    "\n",
    "In the lecture, we got familiar with the recursive [Fibonacci sequence](https://en.wikipedia.org/wiki/Fibonacci_sequence) (where each number is the sum of the preceeding two numbers). Below, we have already implemented a recursive function, `fib(n)`, that returns the n-th element of the Fibonacci sequence. \n",
    "\n",
    "Try to compute `fib(42)`; you will notice it takes a long time to compute (since the recursive function recomputes values `fib(n)` an exponential amount of times).\n",
    "\n",
    "Try to improve the performance of this function by implementing a new function, `fib_cache(n)`, which does exactly the same as `fib(n)`, but in addition uses a \"memory cache\" (in our case, a simple dictionary, defined OUTSIDE the function), where it stores all already computed values as key-value pairs (keys: `n`; values: `fib(n)`); and at each function call, does NOT recompute fib(n) for all n, but instead FIRST looks up the values the \"memory cache\" (the dictionary).\n",
    "\n",
    "Then, try to recompute the Fibonacci sequence for 42 by running `fib_cache(42)`; did the performance improve? Why? Do `fib(42)` and `fib_cache(42)` return the same results? And what is now inside the `memo_dict` dictionary?\n",
    "\n",
    "If you need some inspiration on how to approach this task, check out **Chapter 8  - Thursday, subchapters \"Understanding memoization\" and \"Using memoization\"** from the book [**Python Projects for Beginners**](https://learnit.itu.dk/pluginfile.php/356837/mod_page/content/8/PythonProjectsForBeginners.pdf) (the PDF is available for download on the [Self-study resources page in learnIT](https://learnit.itu.dk/mod/page/view.php?id=185265)). \n"
   ]
  },
  {
   "cell_type": "code",
   "execution_count": 4,
   "metadata": {},
   "outputs": [],
   "source": [
    "# run this cell to define the simple fib(n) function (WITHOUT memory cache)\n",
    "def fib(n):\n",
    "    # base case:\n",
    "    if n == 1:\n",
    "        return 1\n",
    "    elif n == 0:\n",
    "        return 0\n",
    "    else:\n",
    "        return fib(n-1) + fib(n-2)"
   ]
  },
  {
   "cell_type": "code",
   "execution_count": 5,
   "metadata": {},
   "outputs": [
    {
     "data": {
      "text/plain": [
       "267914296"
      ]
     },
     "execution_count": 5,
     "metadata": {},
     "output_type": "execute_result"
    }
   ],
   "source": [
    "# try to compute fib(42)\n",
    "fib(42)"
   ]
  },
  {
   "cell_type": "code",
   "execution_count": 6,
   "metadata": {},
   "outputs": [],
   "source": [
    "# implement a function WITH memory cache\n",
    "\n",
    "# initialize an empty dictionary, will be used for \"caching\" the already computed fib(n) values\n",
    "memo_dict = {}\n",
    "\n",
    "# the function below considers two options:\n",
    "# option 1: we are calling fib_cache(n) for the first time for a given n (0, 1, 2, 3, ...)\n",
    "# then we need to: compute fib(n) for this n; save fib(n) in the memo_dict with key n; and then return fib(n).\n",
    "# (we are using the variable \"result\" for this)\n",
    "# option 2: we are calling fib_cache(n) for an n whose fibonacci number has already been computed;\n",
    "# then we need to just look it up in the dictionary\n",
    "\n",
    "def fib_cache(n):\n",
    "    \n",
    "    # \"option 2\" from above: if the fibonacci number for this n \n",
    "    # has already been calculated,\n",
    "    # look no further, just return its value from the dict\n",
    "    if n in memo_dict:\n",
    "        return memo_dict[n]\n",
    "    \n",
    "    # \"option 1\" from above:\n",
    "    # else, if n is not in memo_dict,\n",
    "    # it means we haven't computed fib(n) yet, so let's \n",
    "    # do it here; start with \"base case\" 0 \n",
    "    result = 0\n",
    "    if n <= 1:\n",
    "        result = n\n",
    "    else:\n",
    "        result = fib_cache(n-1) + fib_cache(n-2)\n",
    "    \n",
    "    # save fibonacci number computed at this step as value to the dict\n",
    "    memo_dict[n] = result\n",
    "    \n",
    "    # return the result variable (which now contains fib(n) for the given n)\n",
    "    return result"
   ]
  },
  {
   "cell_type": "code",
   "execution_count": 7,
   "metadata": {},
   "outputs": [
    {
     "data": {
      "text/plain": [
       "267914296"
      ]
     },
     "execution_count": 7,
     "metadata": {},
     "output_type": "execute_result"
    }
   ],
   "source": [
    "# compute fib_cache(42), did perfomance improve?\n",
    "fib_cache(42)\n",
    "# looks like it! we can use \"cell magic\" to check:"
   ]
  },
  {
   "cell_type": "code",
   "execution_count": 8,
   "metadata": {},
   "outputs": [
    {
     "name": "stdout",
     "output_type": "stream",
     "text": [
      "CPU times: user 50.1 s, sys: 207 ms, total: 50.3 s\n",
      "Wall time: 50.7 s\n"
     ]
    },
    {
     "data": {
      "text/plain": [
       "267914296"
      ]
     },
     "execution_count": 8,
     "metadata": {},
     "output_type": "execute_result"
    }
   ],
   "source": [
    "%%time\n",
    "fib(42)\n",
    "# running a cell with %%time in the first line will show computation time for the entire cell"
   ]
  },
  {
   "cell_type": "code",
   "execution_count": 9,
   "metadata": {},
   "outputs": [
    {
     "name": "stdout",
     "output_type": "stream",
     "text": [
      "CPU times: user 3 µs, sys: 1e+03 ns, total: 4 µs\n",
      "Wall time: 7.15 µs\n"
     ]
    },
    {
     "data": {
      "text/plain": [
       "267914296"
      ]
     },
     "execution_count": 9,
     "metadata": {},
     "output_type": "execute_result"
    }
   ],
   "source": [
    "%%time\n",
    "fib_cache(42)\n",
    "# running a cell with %%time in the first line will show computation time for the entire cell"
   ]
  },
  {
   "cell_type": "code",
   "execution_count": 10,
   "metadata": {},
   "outputs": [],
   "source": [
    "# does fib(42) and fib_cache(42) return the same result?\n",
    "assert fib(42) == fib_cache(42)\n",
    "# yes"
   ]
  },
  {
   "cell_type": "code",
   "execution_count": 11,
   "metadata": {},
   "outputs": [
    {
     "data": {
      "text/plain": [
       "{1: 1,\n",
       " 0: 0,\n",
       " 2: 1,\n",
       " 3: 2,\n",
       " 4: 3,\n",
       " 5: 5,\n",
       " 6: 8,\n",
       " 7: 13,\n",
       " 8: 21,\n",
       " 9: 34,\n",
       " 10: 55,\n",
       " 11: 89,\n",
       " 12: 144,\n",
       " 13: 233,\n",
       " 14: 377,\n",
       " 15: 610,\n",
       " 16: 987,\n",
       " 17: 1597,\n",
       " 18: 2584,\n",
       " 19: 4181,\n",
       " 20: 6765,\n",
       " 21: 10946,\n",
       " 22: 17711,\n",
       " 23: 28657,\n",
       " 24: 46368,\n",
       " 25: 75025,\n",
       " 26: 121393,\n",
       " 27: 196418,\n",
       " 28: 317811,\n",
       " 29: 514229,\n",
       " 30: 832040,\n",
       " 31: 1346269,\n",
       " 32: 2178309,\n",
       " 33: 3524578,\n",
       " 34: 5702887,\n",
       " 35: 9227465,\n",
       " 36: 14930352,\n",
       " 37: 24157817,\n",
       " 38: 39088169,\n",
       " 39: 63245986,\n",
       " 40: 102334155,\n",
       " 41: 165580141,\n",
       " 42: 267914296}"
      ]
     },
     "execution_count": 11,
     "metadata": {},
     "output_type": "execute_result"
    }
   ],
   "source": [
    "# what is inside the memo_dict dictionary?\n",
    "# at each key n, we have fib(n) stored there:\n",
    "memo_dict"
   ]
  },
  {
   "cell_type": "code",
   "execution_count": null,
   "metadata": {},
   "outputs": [],
   "source": []
  }
 ],
 "metadata": {
  "kernelspec": {
   "display_name": "idsp_env",
   "language": "python",
   "name": "python3"
  },
  "language_info": {
   "codemirror_mode": {
    "name": "ipython",
    "version": 3
   },
   "file_extension": ".py",
   "mimetype": "text/x-python",
   "name": "python",
   "nbconvert_exporter": "python",
   "pygments_lexer": "ipython3",
   "version": "3.11.4"
  },
  "orig_nbformat": 4
 },
 "nbformat": 4,
 "nbformat_minor": 2
}

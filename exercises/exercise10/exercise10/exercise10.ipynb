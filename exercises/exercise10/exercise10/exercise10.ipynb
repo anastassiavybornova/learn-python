{
 "cells": [
  {
   "cell_type": "markdown",
   "metadata": {},
   "source": [
    "# Exercise 10: Webscraping with beautifulsoup4\n",
    "\n",
    "* Task 1: An endless Wikipedia knowledge loop\n",
    "* Task 2: Michael's links"
   ]
  },
  {
   "cell_type": "markdown",
   "metadata": {},
   "source": [
    "> Note: to import the python package `bs4` (beautifulsoup4) in the cell below, bs4 must be installed on your computer. We learned how to do this in Exercise09. See the Exercise09 notebook for detailed instructions!"
   ]
  },
  {
   "cell_type": "code",
   "execution_count": 1,
   "metadata": {},
   "outputs": [],
   "source": [
    "# import packages we need\n",
    "import requests\n",
    "import bs4 # this is beautifulsoup4\n",
    "import random\n",
    "random.seed(42) # change to your personalized seed if you want"
   ]
  },
  {
   "cell_type": "markdown",
   "metadata": {},
   "source": [
    "# Task 1: Wikipedia link to link\n",
    "\n",
    "In this task, we will write a function that will play a version of the [Wikipedia Game](https://www.thewikipediagame.com) for us - randomly jumping from page to page within Wikipedia. Write a function that:\n",
    "1. takes the url of a Wikipedia article, and N (number of steps), as input\n",
    "2. prints out the title of that Wikipedia article\n",
    "3. scrapes that Wikipedia article for all its `/wiki/` links (i.e. for all links to other Wikipedia articles)\n",
    "4. randomly chooses one of those `/wiki/` links, and repeats steps 1 & 2 & 3 with it\n",
    "5. this jumping from page to page repeats N times\n",
    "\n",
    "The output could look something like that: (with `random.seed(29)`, and starting at the Wikipedia page [https://en.wikipedia.org/wiki/Fibonacci_sequence](https://en.wikipedia.org/wiki/Fibonacci_sequence))\n",
    "\n",
    "<p style=\"text-align:left;\">\n",
    "    <img src=\"wikigame.png\" alt=\"wiki game\" width=500px>\n",
    "</p>"
   ]
  },
  {
   "cell_type": "code",
   "execution_count": 2,
   "metadata": {},
   "outputs": [],
   "source": [
    "# hint 1: to find the TITLE of the wikipedia article, use \n",
    "# the following method on your \"soup\":\n",
    "# .find(id=\"firstHeading\")\n",
    "# and then the .text attribute\n"
   ]
  },
  {
   "cell_type": "code",
   "execution_count": 3,
   "metadata": {},
   "outputs": [],
   "source": [
    "# hint 2: to find only the wiki article content,\n",
    "# (excluding e.g. the links on the left part of the page)\n",
    "# use the following method on your soup:\n",
    "# .find(id=\"bodyContent\")"
   ]
  },
  {
   "cell_type": "code",
   "execution_count": 4,
   "metadata": {},
   "outputs": [],
   "source": [
    "# hint 3: to check whether a link is a wikipedia link or not,\n",
    "# check whether it contains the string \"/wiki/\""
   ]
  },
  {
   "cell_type": "code",
   "execution_count": 5,
   "metadata": {},
   "outputs": [],
   "source": [
    "# hint 4: to create a full link, concatenate the wikipedia link like so:\n",
    "# \"https://en.wikipedia.org\" + wikilink"
   ]
  },
  {
   "cell_type": "markdown",
   "metadata": {},
   "source": [
    "# Task 2: Links to Michael from Michael's links\n",
    "\n",
    "Find out **how many of the websites linked on Michael's homepage ([http://michael.szell.net](http://michael.szell.net)) link back to his homepage**? For example, the very first link on his website is [https://en.itu.dk](https://en.itu.dk) - now you need to check whether the website [https://en.itu.dk](https://en.itu.dk) contains the link [http://michael.szell.net](http://michael.szell.net); if yes, that increases the count of linking-back websites by 1.\n",
    "\n",
    "For this task, you need to\n",
    "1. get the content of http://michael.szell.net using `requests`\n",
    "2. search the content for all links to external websites using `beautifulsoup4`\n",
    "3. for each of the links from step 2, \n",
    "    * get the content with `requests`\n",
    "    * search the content for all links with `beautifulsoup`\n",
    "    * check whether any of the links contains `michael.szell.net`\n",
    "\n",
    "> Note: When creating your list of links on Michael's website (step 2), remove `senseable.mit.edu` and `lab.moovel.com` from the list to avoid connection time out errors.\n",
    "\n",
    "Extra challenge: \"What does this have to do with Google?\" >> Read up here: [PageRank algorithm](https://en.wikipedia.org/wiki/PageRank)"
   ]
  },
  {
   "cell_type": "code",
   "execution_count": null,
   "metadata": {},
   "outputs": [],
   "source": [
    "# YOUR CODE HERE"
   ]
  }
 ],
 "metadata": {
  "kernelspec": {
   "display_name": "websoup2",
   "language": "python",
   "name": "python3"
  },
  "language_info": {
   "codemirror_mode": {
    "name": "ipython",
    "version": 3
   },
   "file_extension": ".py",
   "mimetype": "text/x-python",
   "name": "python",
   "nbconvert_exporter": "python",
   "pygments_lexer": "ipython3",
   "version": "3.11.4"
  },
  "orig_nbformat": 4
 },
 "nbformat": 4,
 "nbformat_minor": 2
}

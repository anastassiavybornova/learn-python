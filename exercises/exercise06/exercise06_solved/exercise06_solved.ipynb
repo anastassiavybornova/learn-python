{
 "cells": [
  {
   "cell_type": "markdown",
   "metadata": {},
   "source": [
    "# Exercise 06\n",
    "* Task 1: Working with built-in modules\n",
    "* Task 2: Simulating a dice game\n",
    "* Tasks 3-5: String formatting & text file processing. (**Note** Task 5 is an extra challenge!)"
   ]
  },
  {
   "cell_type": "markdown",
   "metadata": {},
   "source": [
    "## Task 1: Exploring built-in Python modules\n",
    "\n",
    "In each of the code snippets below, we import a built-in module (or a single function from a module), and then call one of the module's functions.\n",
    "\n",
    "Explore the code output, as well as the [documentation](https://docs.python.org/3/py-modindex.html#) of the corresponding Python module, to answer the questions about the code snippets."
   ]
  },
  {
   "cell_type": "code",
   "execution_count": 1,
   "metadata": {},
   "outputs": [],
   "source": [
    "# the operator module\n",
    "from operator import add\n",
    "result_sub = add(4,3)\n",
    "\n",
    "# what does the variable \"result\" contain?\n",
    "# >>> the result from the addition 4+3\n",
    "\n",
    "# how can you access the sub() function in the operator module,\n",
    "# for the following line of code to work?\n",
    "# result_sub = sub(4,3)\n",
    "# >>> you need to import the function sub from the module, too:\n",
    "from operator import sub\n",
    "result_sub = sub(4,3)"
   ]
  },
  {
   "cell_type": "code",
   "execution_count": 2,
   "metadata": {},
   "outputs": [
    {
     "data": {
      "text/plain": [
       "1"
      ]
     },
     "execution_count": 2,
     "metadata": {},
     "output_type": "execute_result"
    }
   ],
   "source": [
    "# >>> OR:\n",
    "import operator\n",
    "operator.sub(4,3)"
   ]
  },
  {
   "cell_type": "code",
   "execution_count": 3,
   "metadata": {},
   "outputs": [
    {
     "name": "stdout",
     "output_type": "stream",
     "text": [
      "1694706164.3099499\n",
      "Thu Sep 14 17:42:44 2023\n"
     ]
    }
   ],
   "source": [
    "# the time module:\n",
    "import time\n",
    "time_in_secs = time.time()\n",
    "print(time_in_secs)\n",
    "time_as_str = time.ctime(time_in_secs)\n",
    "print(time_as_str)\n",
    "\n",
    "# What does the number saved in the variable time_in_secs represent?\n",
    "# >>> the number of seconds that have passed since Jan 1, 1970,\n",
    "# >>> until the moment that you run your code\n",
    "\n",
    "# What does the function ctime() from the time module do?\n",
    "# >>> it converts this number of seconds into a human-readable string format"
   ]
  },
  {
   "cell_type": "code",
   "execution_count": 4,
   "metadata": {},
   "outputs": [
    {
     "data": {
      "text/plain": [
       "Counter({'cookies': 1, 'apple': 3, 'orange': 1, 'sandwich': 1})"
      ]
     },
     "execution_count": 4,
     "metadata": {},
     "output_type": "execute_result"
    }
   ],
   "source": [
    "# the Counter function from the collections module:\n",
    "mysnacks = [\"cookies\", \"apple\", \"orange\", \"sandwich\", \"apple\", \"apple\"]\n",
    "from collections import Counter\n",
    "myCounter = Counter(mysnacks)\n",
    "# explain what the object myCounter now contains!\n",
    "myCounter\n",
    "# >>> myCounter is a dictionary, where keys are UNIQUE items from the list,\n",
    "# >>> and values are the number of times each of the items appears on the list"
   ]
  },
  {
   "cell_type": "markdown",
   "metadata": {
    "tags": []
   },
   "source": [
    "# Task 2: Simulating a dice game\n",
    "\n",
    "Now that we know how to simulate dice with the `random` module,  let's play a game! The rules are simple: you have `N` dice;  you throw them `M` times; if the sum of all your dice in all throws is bigger than `S`, you win. For example, if `N=3`, `M=2`, and `S=20`, it means that you have N=3 dice that you are allowed to throw M=2 times, and you win if all your points add up to at least S=20. \n",
    "\n",
    "**Write a function `win_dice_game` that:**\n",
    "* takes as input \n",
    "    * `n_dice` (the number of dice in the game), \n",
    "    * `n_throws` (the number of times the dice are thrown), and \n",
    "    * `points_win` (the number of points you need to have to win) \n",
    "* uses a function of your choice from the [`random` module](https://docs.python.org/3/library/random.html) to simulate the dice throw\n",
    "* computes the sum of all points from the dice throw\n",
    "* compares the sum to `points_win` and returns either `True` (if you win, i.e. if the sum is equal to or greater than `points_win`) or `False` otherwise\n",
    "\n",
    "**Use your function `win_dice_game()` to simulate 100 games**, with different settings. What percentage of games did you win if:\n",
    "* you have 2 dice, are allowed 3 throws, and need at least 20 points to win?\n",
    "* you have 5 dice, are allowed 5 throws, and need at least 120 points to win?\n",
    "\n",
    "How many games do you need to play with the second configuration (5 dice, 5 throws, and at least 120 points to win) if you want to win at least once? (Just experiment with your code by increasing/decreasing the number of games played, no mathematical formula needed - but you can **try** to come up with one!)"
   ]
  },
  {
   "cell_type": "code",
   "execution_count": 5,
   "metadata": {
    "tags": []
   },
   "outputs": [],
   "source": [
    "# import random module, which we will need\n",
    "import random\n",
    "\n",
    "# define your function\n",
    "def win_dice_game(n_dice, n_throws, points_win):\n",
    "    '''\n",
    "    function that takes 3 integer values and returns True/False\n",
    "    '''\n",
    "    # initiate variable where we will sum points from all dice and all throws: \n",
    "    total_points = 0\n",
    "    # throw exactly n_throws times:\n",
    "    for _ in range(n_throws):\n",
    "        # each iteration step is one thrown of n_dice dices\n",
    "        throw_points = random.choices(\n",
    "            population=range(1,7),\n",
    "            k = n_dice\n",
    "            )\n",
    "        # convert to list so that we don't have to differentiate\n",
    "        # between throwing 1 dice and throwing n>1 dice\n",
    "        # and always use the sum() function:\n",
    "        throw_points = list(throw_points)\n",
    "        # print(\"dice show: \", throw_points)\n",
    "        # add the points from this throw to the \"points\" variable\n",
    "        # print(\"points at current throw:\", sum(throw_points))\n",
    "        total_points += sum(throw_points)\n",
    "    # after the for loop, all our throws are done,\n",
    "    # now we compare our total number of points to the number of points to win:\n",
    "    # print(\"total points:\", points)\n",
    "    if total_points >= points_win:\n",
    "        #print(\"you win!\")\n",
    "        return True\n",
    "    else:\n",
    "        #print(\"you lose!\")\n",
    "        return False\n"
   ]
  },
  {
   "cell_type": "code",
   "execution_count": 6,
   "metadata": {
    "tags": []
   },
   "outputs": [
    {
     "data": {
      "text/plain": [
       "False"
      ]
     },
     "execution_count": 6,
     "metadata": {},
     "output_type": "execute_result"
    }
   ],
   "source": [
    "# check if it works:\n",
    "win_dice_game(2,1,10)"
   ]
  },
  {
   "cell_type": "code",
   "execution_count": 7,
   "metadata": {
    "tags": []
   },
   "outputs": [
    {
     "name": "stdout",
     "output_type": "stream",
     "text": [
      "54 out of 100 games won\n"
     ]
    }
   ],
   "source": [
    "# simulate 100 games with:\n",
    "# 2 dice, 3 throws, 20 points to win\n",
    "games_won = 0\n",
    "for _ in range(100):\n",
    "    current_game = win_dice_game(n_dice=2, n_throws=3, points_win=20)\n",
    "    games_won += current_game\n",
    "    # since current_game is either True of False (1 or 0 in int interpretation),\n",
    "    # we can simply add it to the games_won variable\n",
    "print(games_won, \"out of 100 games won\")"
   ]
  },
  {
   "cell_type": "code",
   "execution_count": 8,
   "metadata": {
    "tags": []
   },
   "outputs": [
    {
     "name": "stdout",
     "output_type": "stream",
     "text": [
      "0 out of 100 games won\n"
     ]
    }
   ],
   "source": [
    "# simulate 100 games with:\n",
    "# 5 dice, 5 throws, 120 points to win\n",
    "games_won = 0\n",
    "for _ in range(100):\n",
    "    current_game = win_dice_game(n_dice=5, n_throws=5, points_win=120)\n",
    "    games_won += current_game\n",
    "    # since current_game is either True of False (1 or 0 in int interpretation),\n",
    "    # we can simply add it to the games_won variable\n",
    "print(games_won, \"out of 100 games won\")"
   ]
  },
  {
   "cell_type": "code",
   "execution_count": 9,
   "metadata": {
    "tags": []
   },
   "outputs": [
    {
     "name": "stdout",
     "output_type": "stream",
     "text": [
      "0 out of 100 games won\n",
      "0 out of 500 games won\n",
      "0 out of 1000 games won\n",
      "0 out of 5000 games won\n",
      "1 out of 10000 games won\n",
      "0 out of 20000 games won\n",
      "3 out of 50000 games won\n"
     ]
    }
   ],
   "source": [
    "# simulate N games with:\n",
    "# 5 dice, 5 throws, 120 points to win\n",
    "# experimenting with N (number of games) from the list:\n",
    "games_played = [100, 500, 1000, 5000, 10000, 20000, 50000]\n",
    "for N in games_played:\n",
    "    games_won = 0\n",
    "    for _ in range(N): # current number of games\n",
    "        current_game = win_dice_game(n_dice=5, n_throws=5, points_win=120)\n",
    "        games_won += current_game\n",
    "        # since current_game is either True of False (1 or 0 in int interpretation),\n",
    "        # we can simply add it to the games_won variable\n",
    "    print(games_won, \"out of\", N, \"games won\")"
   ]
  },
  {
   "cell_type": "markdown",
   "metadata": {},
   "source": [
    "# Task 3: String formatting - Capital cities\n",
    "\n",
    "Below, we provide you with a dictionary `capitals`, that contains key-value pairs with countries as keys, and their capital cities as values. Let's do some data cleaning first:\n",
    "* Some cities' names contain numbers; these need to be deleted\n",
    "* Some cities' names consist of several words, but lack a white space; insert a white space where appropriate (for example, \"AddisAbaba\" needs to be formatted into \"Addis Ababa\").\n",
    "\n",
    "Now, use the `f'{}'` syntax to generate a file where in each line contains one sentence: `The capital of <country> is <city>.`, inserting countries and capitals from the dictionary. Save the file to `capitals.txt`. "
   ]
  },
  {
   "cell_type": "code",
   "execution_count": 10,
   "metadata": {},
   "outputs": [],
   "source": [
    "capitals = {\n",
    "    \"Nigeria\" : \"Abuja\",\n",
    "    \"Colombia\" : \"0Bo0gotá\",\n",
    "    \"Gibraltar\": \"Gibr2altar\",\n",
    "    \"Ethiopia\": \"AddisAb3aba\",\n",
    "    \"United Arab Emirates\": \"AbuDhab7i\"\n",
    "}"
   ]
  },
  {
   "cell_type": "code",
   "execution_count": 11,
   "metadata": {},
   "outputs": [
    {
     "data": {
      "text/plain": [
       "{'Nigeria': 'Abuja',\n",
       " 'Colombia': 'Bogotá',\n",
       " 'Gibraltar': 'Gibraltar',\n",
       " 'Ethiopia': 'AddisAbaba',\n",
       " 'United Arab Emirates': 'AbuDhabi'}"
      ]
     },
     "execution_count": 11,
     "metadata": {},
     "output_type": "execute_result"
    }
   ],
   "source": [
    "# import re module\n",
    "import re\n",
    "\n",
    "# remove numbers from dictionary values with the help of the \"\\d\" or \"\\d+\" regex \n",
    "\n",
    "# loop through dictionary items\n",
    "for key, value in capitals.items():\n",
    "    # loop through all numbers that were found in the value string\n",
    "    for item in re.findall(\"\\d\", value):\n",
    "        # reassign the new value, where item (the number) is replaced by \"\" (an empty string)\n",
    "        capitals[key] = capitals[key].replace(item, \"\")        \n",
    "capitals"
   ]
  },
  {
   "cell_type": "code",
   "execution_count": 12,
   "metadata": {},
   "outputs": [
    {
     "data": {
      "text/plain": [
       "{'Nigeria': 'Abuja',\n",
       " 'Colombia': 'Bogotá',\n",
       " 'Gibraltar': 'Gibraltar',\n",
       " 'Ethiopia': ' Addis Ababa',\n",
       " 'United Arab Emirates': 'Abu Dhabi'}"
      ]
     },
     "execution_count": 12,
     "metadata": {},
     "output_type": "execute_result"
    }
   ],
   "source": [
    "# add white spaces before capital letters \n",
    "# (you can use the regex \"[A-Z]\" to find capital letters)\n",
    "\n",
    "# the way we know that a white space is missing:\n",
    "# if there is a capital letter \"in the middle\" of the word,\n",
    "# i.e. at position >0.\n",
    "\n",
    "# as above, loop through dictionary items,\n",
    "# this time inserting a white space BEFORE a capital letter,\n",
    "# if it is at a position >0.\n",
    "# loop through dictionary items\n",
    "for key, value in capitals.items():\n",
    "    # loop through all numbers that were found in the value string (excluding the first letter)\n",
    "    for item in re.findall(\"[A-Z]\", value[1:]):\n",
    "        # replace the capital letter by (whitespace + the capital letter)\n",
    "        capitals[key] = capitals[key].replace(item, \" \" + item)\n",
    "capitals"
   ]
  },
  {
   "cell_type": "code",
   "execution_count": 13,
   "metadata": {},
   "outputs": [],
   "source": [
    "# open up the file; with the opened file,\n",
    "    # loop through the dictionary items;\n",
    "    # create a sentence from keys and values (with string formatting) at each iteration step;\n",
    "    # wrte the sentence + a linebreak (expressed as \"\\n\") string to the file\n",
    "\n",
    "\n",
    "# create the file\n",
    "with open('capitals.txt', 'w') as opened_file:\n",
    "    # loop through the dictionary items\n",
    "    for key, value in capitals.items():\n",
    "        # create the sentence for this key-value pair\n",
    "        sentence = f\"The capital of {key} is {value}.\"\n",
    "        # write the sentence to the file\n",
    "        opened_file.write(sentence)\n",
    "        # add a line break\n",
    "        opened_file.write(\"\\n\")"
   ]
  },
  {
   "cell_type": "markdown",
   "metadata": {},
   "source": [
    "# Task 4: Text processing - Numbers in an article\n",
    "\n",
    "In the file `article.txt`, we provide the text of this [Guardian article](https://www.theguardian.com/commentisfree/2023/jul/12/progress-climate-european-greenlash-populist-right) by Nathalie Tucci. Let's say we are **VERY** interested in all the **numbers** that she used in the article. Your tasks:\n",
    "\n",
    "* `.read()` in the text file \n",
    "* find all the numbers (of one or more characters, with the regex `\"\\d+\"`) mentioned in the text, and print them out\n",
    "* `.split()` the text into separate sentences\n",
    "* loop through the sentences, `.append()`ing only the ones that contain numbers to a list\n",
    "* Additional challenge: try to write this list to a text file, so that every line in the text file is a sentence (with a number) from the article"
   ]
  },
  {
   "cell_type": "code",
   "execution_count": 22,
   "metadata": {},
   "outputs": [],
   "source": [
    "# if not done yet, import the re module\n",
    "import re"
   ]
  },
  {
   "cell_type": "code",
   "execution_count": 23,
   "metadata": {},
   "outputs": [],
   "source": [
    "# .read() in the text file\n",
    "with open('article.txt', 'r') as opened_file:\n",
    "    my_text = opened_file.read()"
   ]
  },
  {
   "cell_type": "code",
   "execution_count": 24,
   "metadata": {},
   "outputs": [
    {
     "data": {
      "text/plain": [
       "['2021', '200', '2021', '2050', '37', '2022', '24', '2035', '2024']"
      ]
     },
     "execution_count": 24,
     "metadata": {},
     "output_type": "execute_result"
    }
   ],
   "source": [
    "# print out all numbers (regex \"\\d+\") that you can find\n",
    "re.findall(\"\\d+\", my_text)"
   ]
  },
  {
   "cell_type": "code",
   "execution_count": 25,
   "metadata": {},
   "outputs": [
    {
     "data": {
      "text/plain": [
       "['When floods swept Europe in July 2021, killing more than 200 people in Germany, Belgium and neighbouring countries, it was a disaster that came as the climate crisis was moving to the top of Europe’s political agenda',\n",
       " 'All of a sudden, climate was no longer an abstract threat that could be batted into a distant future; it was already here, causing shocking weather events, destroying lives and leaving people homeless',\n",
       " 'In northern Europe especially, spurred by the Fridays for Future school strikes, the climate crisis had already spilled into politics, pushing policy into action',\n",
       " 'But in 2021, measurable progress towards the goal of net zero emissions by 2050 began to be made',\n",
       " 'The EU didn’t just limit itself to ambitious targets, enshrined in laws and regulations',\n",
       " 'It also put its money where its mouth was',\n",
       " 'Neither the pandemic nor Russia’s subsequent invasion of Ukraine distracted its focus',\n",
       " 'On the contrary, Europe used these crises to put flesh on the bones of a green deal, accelerating its race to net zero',\n",
       " 'As a result of the pandemic, the EU agreed to channel 37% of its economic recovery funds to the energy transition, while in response to Russia’s invasion of Ukraine and the energy crisis it unleashed, European countries stepped up their investments in renewables and energy efficiency as they strived to wean themselves off Russian gas',\n",
       " 'In 2022, renewables overtook gas to become the leading source of electricity generation in the EU, with solar power leaping by a record 24%',\n",
       " 'Key policies have also been approved, from the extension of carbon pricing to cover the politically sensitive areas of buildings and transport, to the adoption of a carbon border tax to ensure that as EU industry is forced to decarbonise, Europe doesn’t end up importing dirtier and cheaper products from elsewhere',\n",
       " 'A few weeks ago, a senior official at the European Commission told me that the EU had completed the lion’s share of its green agenda in this legislative cycle, well beyond Brussels’ rosiest expectations a few years ago',\n",
       " 'Yet grey (or rather brown) clouds are now massing on the horizon',\n",
       " 'Across Europe, worrying signs of a green backlash are surfacing, as citizens and businesses start feeling the costs of the energy transition',\n",
       " 'Dutch farmers are up in arms over stringent limits on nitrogen emissions, arguing that they will make European agriculture financially unviable',\n",
       " 'The German public is fretting over the phaseout of gas boilers, while the car industry has successfully squeezed in a loophole for synthetic fuels to lengthen the lifespan of conventional combustion engines, which are meant to be phased out across the EU by 2035',\n",
       " 'The French president, Emmanuel Macron, and the Belgian prime minister, Alexander De Croo, have both publicly called for a “pause” in the EU’s green legislative agenda, while Poland is fighting for exemptions to sustain its coal subsidies',\n",
       " 'In the European parliament, conservatives and centre-right MEPs are putting spokes in the wheels of the nature conservation law, the biodiversity part of the EU’s green deal',\n",
       " 'There are two opposing interpretations of this “greenlash”',\n",
       " 'The first is that pressure is mounting against the green agenda because it is now real',\n",
       " 'As long as climate action was an abstract, lofty goal, it was easy for everyone to pay lip service to it',\n",
       " 'You could do the right thing and stand up for action on the climate crisis without paying the price for it',\n",
       " 'Now the hard part – although action is still far too slow and uneven – is actually happening',\n",
       " 'This change, often referred to as a green “transition”, is revolutionary in its scope, complexity and the speed at which it is meant to be taking place',\n",
       " 'And revolutions have winners and losers',\n",
       " 'It is only natural that the “losers” want to make their voices heard – but it is up to politics to channel that dissent, and to find ways of compensating those opposing voices to ensure that their resistance does not derail the journey to net zero',\n",
       " 'The reality of decarbonisation will surely differ from the original plan, as the social, economic and political repercussions play out and unforeseen technological breakthroughs take place',\n",
       " 'In short, the “greenlash” proves that the move to net zero is real, not that Europeans are going into reverse on climate action',\n",
       " 'But the second interpretation says the opposite might be true: the pushback against green policies could be the sign of worse to come',\n",
       " 'As EU countries such as Spain, Slovakia and Poland prepare for elections later this year, and with European parliament elections in 2024, there is a real risk that rightwing, populist parties will latch on to the “greenlash” and surge back in the polls',\n",
       " 'While no longer openly climate crisis deniers, they denounce the inequalities and the harm caused to industry they say are exacerbated by climate policies',\n",
       " 'They call for an “ecological sovereignty”, which, rather than pressing for decarbonisation, insists on the preservation of landscapes from the supposed visual horrors of wind and solar farms, and on the preservation of traditional food and agriculture from the purported abomination of synthetic meats and alternative sources of proteins, such as insects',\n",
       " 'Their populist nationalism seemingly embraces, but actually disfigures the climate agenda',\n",
       " 'At times, reality is turned on its head',\n",
       " 'When floods devastated the Emilia-Romagna region in northern Italy in May, the hard-right prime minister, Giorgia Meloni, didn’t point the finger at the obvious culprit, climate change',\n",
       " 'In a remarkable pirouette, she actually blamed climate policy, which she claimed had prevented the construction of infrastructure that would have saved property and lives',\n",
       " 'If the green divide deepens in Europe, this could slow down the existential race we’re in',\n",
       " 'That risks delaying not so much the decarbonisation agenda – existing laws and policies, technology and market forces suggest this will happen simply because it makes economic sense – but rather the wider sustainability agenda, focused on biodiversity, agriculture and nature conservation',\n",
       " 'There is sadly less money to make from this agenda',\n",
       " 'It is here that a political backlash, coupled with the absence of a profit-driven corporate interest, risks derailing Europe’s role in saving people and planet alike.']"
      ]
     },
     "execution_count": 25,
     "metadata": {},
     "output_type": "execute_result"
    }
   ],
   "source": [
    "# split into sentences \n",
    "\n",
    "# with the \".\" as separator\n",
    "sentences = my_text.split(\". \")\n",
    "sentences # my sentences is now a list of strings, every string is a sentence (now without the \".\")"
   ]
  },
  {
   "cell_type": "code",
   "execution_count": 26,
   "metadata": {},
   "outputs": [
    {
     "name": "stdout",
     "output_type": "stream",
     "text": [
      "['When floods swept Europe in July 2021, killing more than 200 people in Germany, Belgium and neighbouring countries, it was a disaster that came as the climate crisis was moving to the top of Europe’s political agenda', 'But in 2021, measurable progress towards the goal of net zero emissions by 2050 began to be made', 'As a result of the pandemic, the EU agreed to channel 37% of its economic recovery funds to the energy transition, while in response to Russia’s invasion of Ukraine and the energy crisis it unleashed, European countries stepped up their investments in renewables and energy efficiency as they strived to wean themselves off Russian gas', 'In 2022, renewables overtook gas to become the leading source of electricity generation in the EU, with solar power leaping by a record 24%', 'The German public is fretting over the phaseout of gas boilers, while the car industry has successfully squeezed in a loophole for synthetic fuels to lengthen the lifespan of conventional combustion engines, which are meant to be phased out across the EU by 2035', 'As EU countries such as Spain, Slovakia and Poland prepare for elections later this year, and with European parliament elections in 2024, there is a real risk that rightwing, populist parties will latch on to the “greenlash” and surge back in the polls']\n"
     ]
    }
   ],
   "source": [
    "# find all sentences that contain numbers, and append them to a list\n",
    "\n",
    "sentences_with_numbers = []\n",
    "\n",
    "for sentence in sentences:\n",
    "    if re.search(\"\\d+\", sentence):\n",
    "        sentences_with_numbers.append(sentence)\n",
    "\n",
    "print(sentences_with_numbers)"
   ]
  },
  {
   "cell_type": "code",
   "execution_count": 27,
   "metadata": {},
   "outputs": [],
   "source": [
    "# Challenge: write the sentences_with_numbers to a file\n",
    "\n",
    "with open(\"sentences_with_numbers.txt\", \"w\") as opened_file:\n",
    "    for sentence in sentences_with_numbers:\n",
    "        opened_file.write(sentence + \"\\n\") # write each sentence plus a line break\n"
   ]
  },
  {
   "cell_type": "markdown",
   "metadata": {},
   "source": [
    "## Task 5: Text processing - programmers' feelings\n",
    "\n",
    "Remember the Menti survey from lecture 01? We copied (most of) your replies to the question \"How do you feel about programming?\" into a text file, `feelings.txt` (provided together with this notebook in a zipped folder). **You want to find out what the 5 most common feelings were.** However, there is some data cleaning to do!\n",
    "\n",
    "You can go about it your own way; **or** take some inspiration from the instructions below:\n",
    "\n",
    "* Read in the file, with the method of your choice (`.read()` or `.readlines()`)\n",
    "* Remove all line breaks and tabulators (`\"\\n\", \"\\t\"`)\n",
    "* You will see that some lines contain only one word, while other lines contain several words; make sure that you can access each word separately (this will depend on what method you choce to read in the file)\n",
    "* since we don't care about upper/lowercase spelling, convert everything to lower case with the `.lower()` method \n",
    "* Create a dictionary where `keys` are words (feelings) and `values` are the number of times they appear. (`Counter` from the `collections` method might help!)\n",
    "* Print out all keys to look through them, and remove the keys that you think don't belong in the list (that don't contain feelings) from the dictionary\n",
    "* Now you can count the number of times each feeling was mentioned (again, with the method of your choice). What were the top 5 most common feelings?"
   ]
  },
  {
   "cell_type": "code",
   "execution_count": 14,
   "metadata": {},
   "outputs": [],
   "source": [
    "# open the file and read it in\n",
    "\n",
    "with open(\"feelings.txt\", \"r\") as opened_file:\n",
    "    my_lines = opened_file.readlines()"
   ]
  },
  {
   "cell_type": "code",
   "execution_count": 15,
   "metadata": {},
   "outputs": [],
   "source": [
    "# remove line breaks \"\\n\" and tabulators \"\\t\"\n",
    "# white spaces should be treated as separators between words (use them to .split() the string(s))\n",
    "# convert all words into lower case\n",
    "\n",
    "wordlist = [] # initiate an empty list of words\n",
    "for line in my_lines:\n",
    "    while \"\\n\" in line:\n",
    "        line = line.replace(\"\\n\", \"\") # removing \"new line\" signs\n",
    "    while \"\\t\" in line:\n",
    "        line = line.replace(\"\\t\", \" \") # removing \"tabulator\" signs\n",
    "    words = line.split(\" \") # split words (white space as separator)\n",
    "    for word in words:\n",
    "        if word: # i.e. if the word is not empty\n",
    "            wordlist.append(word.lower()) # append its lower-case version to the list"
   ]
  },
  {
   "cell_type": "code",
   "execution_count": 16,
   "metadata": {},
   "outputs": [],
   "source": [
    "# use the Counter function from the collections module\n",
    "# to get a dictionary where keys are unique words from the list\n",
    "# and values are number of times they appear on the list\n",
    "from collections import Counter\n",
    "wordCounter = Counter(wordlist) "
   ]
  },
  {
   "cell_type": "code",
   "execution_count": 17,
   "metadata": {},
   "outputs": [
    {
     "name": "stdout",
     "output_type": "stream",
     "text": [
      "dict_keys(['nervous', 'excited', 'happy', 'good', 'nice', 'weak', 'excited_and_happy', 'cool', 'interesting', 'annoyed', 'interested', 'motivated', 'scared', 'sweaty', 'asleep', 'a_little_nervous', 'sexy', 'klingon', 'curious', 'computer', 'anger', 'dunno', 'enthusiastic', 'confused', 'exited', 'lost', 'terrified', 'neutral', 'aroused', 'fearful', 'discombobulated', 'anxious', 'nerdge', \"don't_feel_anything_tbh\", 'angry', 'paralyzed', 'free', 'intimidated', 'willing_to_die', 'potato', 'sometimes_clumsy', 'stronk', 'stonks', 'intrigued', 'fun', 'difficult', 'challenging', 'joy', 'nervousnes', 'ambivalent', 'fine', 'ok', 'humble', 'glad', 'happyhappyhappy', 'none', 'love-hate_relation', 'jens', 'goofy', 'sad', 'chill', 'aware', 'aug', 'its_complicated', 'jesus', 'delusional', 'klingoin', 'kligon'])\n"
     ]
    }
   ],
   "source": [
    "# print out the keys of the Counter dictionary (i.e. unique words)\n",
    "# make a list of words you want to remove from the dictionary\n",
    "print(wordCounter.keys())\n",
    "words_to_remove = [\"klingon\", \"computer\", \"nerdge\", \"potato\", \"stonks\", \"jens\", \"aug\", \"klingoin\", \"kligon\"]"
   ]
  },
  {
   "cell_type": "code",
   "execution_count": 18,
   "metadata": {},
   "outputs": [],
   "source": [
    "# remove the words\n",
    "for word in words_to_remove:\n",
    "    del(wordCounter[word])"
   ]
  },
  {
   "cell_type": "code",
   "execution_count": 19,
   "metadata": {},
   "outputs": [
    {
     "data": {
      "text/plain": [
       "[28, 10, 7, 7, 7, 6, 6, 4, 3, 3]"
      ]
     },
     "execution_count": 19,
     "metadata": {},
     "output_type": "execute_result"
    }
   ],
   "source": [
    "# show the highest 10 counts\n",
    "sorted(wordCounter.values(), reverse = True)[0:10]"
   ]
  },
  {
   "cell_type": "code",
   "execution_count": 20,
   "metadata": {},
   "outputs": [],
   "source": [
    "# we are interested in the first 5 positions - \n",
    "# all words that have been mentioned 7 or more times\n",
    "\n",
    "# initiate a new dictionary, we will copy only the top 5 here\n",
    "frequent_feelings = {}\n",
    "\n",
    "for key, value in wordCounter.items():\n",
    "    if value >= 7:\n",
    "        frequent_feelings[key] = value       "
   ]
  },
  {
   "cell_type": "code",
   "execution_count": 21,
   "metadata": {},
   "outputs": [
    {
     "name": "stdout",
     "output_type": "stream",
     "text": [
      "{'nervous': 10, 'excited': 28, 'happy': 7, 'interested': 7, 'curious': 7}\n"
     ]
    }
   ],
   "source": [
    "print(frequent_feelings)"
   ]
  }
 ],
 "metadata": {
  "kernelspec": {
   "display_name": "Python 3 (ipykernel)",
   "language": "python",
   "name": "python3"
  },
  "language_info": {
   "codemirror_mode": {
    "name": "ipython",
    "version": 3
   },
   "file_extension": ".py",
   "mimetype": "text/x-python",
   "name": "python",
   "nbconvert_exporter": "python",
   "pygments_lexer": "ipython3",
   "version": "3.11.4"
  }
 },
 "nbformat": 4,
 "nbformat_minor": 4
}

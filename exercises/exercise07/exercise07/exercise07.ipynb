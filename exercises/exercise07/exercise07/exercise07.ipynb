{
 "cells": [
  {
   "cell_type": "markdown",
   "metadata": {},
   "source": [
    "# Exercise 07\n",
    "\n",
    "* Task 1: list comprehension\n",
    "* Tasks 2-4: creating and running `.py` scripts\n",
    "* Task 5: Python from the CLI "
   ]
  },
  {
   "cell_type": "markdown",
   "metadata": {},
   "source": [
    "## Command line interface - CLI\n",
    "\n",
    "For **Windows**, your CLI for the purposes of this course is `Anaconda Prompt` (was installed as separate program together with the Anaconda distribution > look it up in your programs)\n",
    "\n",
    "For **macOS**, your CLI is `Terminal` > look it up in your applications/launchpad\n"
   ]
  },
  {
   "cell_type": "markdown",
   "metadata": {},
   "source": [
    "## Task 1 - List comprehension\n",
    "\n",
    "Use list comprehension to create the following lists:\n",
    "\n",
    "* A list of all numbers in the `range(10,21)`\n",
    "* A list of all numbers divisible by 4 in the `range(30,60)`\n",
    "* A list of all even numbers from 91 to 98 (both included)\n",
    "* A list of all letters in the string `Absalon`\n",
    "* A list of all consonants in the string `\"Better safe than sorry\"` (don't include white spaces)\n",
    "\n",
    "Each of these lists could also be created by a for-loop. If you have time, try to recreate each of these lists using a for-loop! "
   ]
  },
  {
   "cell_type": "code",
   "execution_count": null,
   "metadata": {},
   "outputs": [],
   "source": [
    "# A list of all numbers in the `range(10,21)`"
   ]
  },
  {
   "cell_type": "code",
   "execution_count": null,
   "metadata": {},
   "outputs": [],
   "source": [
    "# A list of all numbers divisible by 4 in the `range(30,60)`"
   ]
  },
  {
   "cell_type": "code",
   "execution_count": null,
   "metadata": {},
   "outputs": [],
   "source": [
    "# A list of all even numbers from 91 to 98 (both included)"
   ]
  },
  {
   "cell_type": "code",
   "execution_count": null,
   "metadata": {},
   "outputs": [],
   "source": [
    "# A list of all letters in the string `Absalon`"
   ]
  },
  {
   "cell_type": "code",
   "execution_count": null,
   "metadata": {},
   "outputs": [],
   "source": [
    "# A list of all consonants in the string \n",
    "# `\"Better safe than sorry\"` (don't include white spaces)"
   ]
  },
  {
   "cell_type": "markdown",
   "metadata": {},
   "source": [
    "## Task 2 - Running a .py script from the CLI\n",
    "\n",
    "* Together with this notebook, we provided a Python script called `somecode.py`. Open it up (in the text editing software of your choice) and try to predict what the `print()` statement (last line of code) will output. \n",
    "* Now, open your CLI (command line interface) and navigate to the folder where you saved `somecode.py`\n",
    "* Run the script by typing `python somecode.py`, then enter\n",
    "* Check if the output is what you expected! "
   ]
  },
  {
   "cell_type": "code",
   "execution_count": null,
   "metadata": {},
   "outputs": [],
   "source": [
    "# you can also try to run the code here with %run"
   ]
  },
  {
   "cell_type": "markdown",
   "metadata": {},
   "source": [
    "## Task 3 - Running your own .py script from the CLI\n",
    "\n",
    "Let's create a program that will tell the user their age in minutes!\n",
    "* Create a file called `minutes.py`, in the folder of your choice.\n",
    "* Open up the CLI, navigate to the folder, and type `python minutes.py`, then enter\n",
    "* Check if the output is what you expected!\n",
    "\n",
    "in the script you should:\n",
    "* ask the user for their age\n",
    "* convert the user input into a numeric variable\n",
    "* compute the user's age in minutes\n",
    "* print out \"Your age in minutes is...\", inserting the minutes\n",
    "\n",
    "You are also welcome to experiment with any other script that you want to try and run from the CLI!"
   ]
  },
  {
   "cell_type": "markdown",
   "metadata": {},
   "source": [
    "**Comment**: See sample solution in `minutes.py` file attached. "
   ]
  },
  {
   "cell_type": "code",
   "execution_count": null,
   "metadata": {},
   "outputs": [],
   "source": [
    "# you can try to run your minutes.py script from here, as well (with %run)"
   ]
  },
  {
   "cell_type": "markdown",
   "metadata": {},
   "source": [
    "## Task 4 - `smalltalk.py`\n",
    "\n",
    "Write a `smalltalk.py` script that\n",
    "* asks the user how they are doing \"on a scale from 1 to 5\"\n",
    "* prints out an appropriate reply (depending on the user input)\n",
    "* asks the user whether they like the weather today\n",
    "* prints out an appropriate reply (depending on whether the user said \"yes\" or \"no\")\n",
    "* says goodbye to the user in a polite way\n",
    "\n",
    "**Notes** you can (but you don't have to) use function definitions within `smalltalk.py` to solve this task. You can (but you don't have to) implement some error catching, for example when the first user input is NOT a number from 1 to 5, or if the second user input is NOT either \"yes\" or \"no\"."
   ]
  },
  {
   "cell_type": "code",
   "execution_count": null,
   "metadata": {},
   "outputs": [],
   "source": [
    "# you can try to run smalltalk.py here with %run"
   ]
  },
  {
   "cell_type": "markdown",
   "metadata": {},
   "source": [
    "## Task 5 - Back to basics (in the command line interface)\n",
    "\n",
    "Navigate to your CLI. Type `python`, then enter. The `>>>` at the start of each line indicate that you are in a Python session now. See if you manage to execute the following Python statements in the CLI:\n",
    "\n",
    "* $2*2 + 3*3$\n",
    "* $5^{3} > 100$\n",
    "* `(True or False) == True`\n",
    "* `print(\"goodbye world\")`\n",
    "\n",
    "**Exit the Python session** by typing `exit()`, then enter."
   ]
  }
 ],
 "metadata": {
  "kernelspec": {
   "display_name": "base",
   "language": "python",
   "name": "python3"
  },
  "language_info": {
   "codemirror_mode": {
    "name": "ipython",
    "version": 3
   },
   "file_extension": ".py",
   "mimetype": "text/x-python",
   "name": "python",
   "nbconvert_exporter": "python",
   "pygments_lexer": "ipython3",
   "version": "3.11.4"
  },
  "orig_nbformat": 4
 },
 "nbformat": 4,
 "nbformat_minor": 2
}

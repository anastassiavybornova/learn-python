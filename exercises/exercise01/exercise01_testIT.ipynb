{
 "cells": [
  {
   "cell_type": "markdown",
   "metadata": {},
   "source": [
    "# Exercise01: testIT\n",
    "\n",
    "If you can run both cells below and you see a greeting printed as output, you're good to go!"
   ]
  },
  {
   "cell_type": "code",
   "execution_count": null,
   "metadata": {},
   "outputs": [],
   "source": [
    "import math\n",
    "import random\n",
    "import matplotlib.pyplot\n",
    "import json\n",
    "import requests"
   ]
  },
  {
   "cell_type": "code",
   "execution_count": null,
   "metadata": {},
   "outputs": [],
   "source": [
    "mygreeting = \"Hmkmggggxy,12xyrggdjj\"\n",
    "mydict = {\"o\": \"xy\", \"l\": \"gg\", \" w\": \"12\", \"e\": \"mkm\", \"!\": \"jj\"}\n",
    "for k, v in mydict.items():\n",
    "    mygreeting = mygreeting.replace(v, k)\n",
    "print(mygreeting)"
   ]
  }
 ],
 "metadata": {
  "kernelspec": {
   "display_name": "Python 3 (ipykernel)",
   "language": "python",
   "name": "python3"
  },
  "language_info": {
   "codemirror_mode": {
    "name": "ipython",
    "version": 3
   },
   "file_extension": ".py",
   "mimetype": "text/x-python",
   "name": "python",
   "nbconvert_exporter": "python",
   "pygments_lexer": "ipython3",
   "version": "3.8.8"
  }
 },
 "nbformat": 4,
 "nbformat_minor": 2
}

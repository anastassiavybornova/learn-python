{
 "cells": [
  {
   "cell_type": "markdown",
   "metadata": {},
   "source": [
    "# Exercise 02\n",
    "\n",
    "* Task 0: Using Jupyter Notebook\n",
    "* Task 1: Using Python as a calculator\n",
    "* Task 2: Getting familiar with Booleans\n",
    "* Task 3: Casting (converting) data types\n",
    "* Task 4: Combining strings\n",
    "* Task 5: Testing logical propositions"
   ]
  },
  {
   "cell_type": "markdown",
   "metadata": {},
   "source": [
    "## Task 0: Using Jupyter Notebook\n",
    "\n",
    "Make sure you can tick all items off this list (will be demonstrated in class):\n",
    "\n",
    "* I know how to **open** a Jupyter notebook\n",
    "* I know how to **create** a new Jupyter notebook\n",
    "* I know how to create **cells** of type `code` and `markdown`\n",
    "* I know how to **move a cell** up or down\n",
    "* I know how to **run** one single cell\n",
    "* i know how to **run all** cells at once\n",
    "* I know how to **clear** the output of one cell\n",
    "* I know how to **clear all**  cell output at once\n",
    "* I know how to **restart** the notebook kernel \n",
    "* I know how to **write and format** text in markdown\n",
    "\n",
    "For more resources, check these links:\n",
    "* A quickstart Jupyter Notebook tutorial from [Datacamp](https://www.datacamp.com/tutorial/tutorial-jupyter-notebook)\n",
    "* A more detailed Jupyter Notebook tutorial from [DataQuest](https://www.dataquest.io/blog/jupyter-notebook-tutorial/)\n",
    "* Official [Project Jupyter documentation](https://docs.jupyter.org/en/latest/)\n",
    "* Basic syntax in [Markdown](https://www.markdownguide.org/basic-syntax/)"
   ]
  },
  {
   "cell_type": "markdown",
   "metadata": {},
   "source": [
    "## Task 1: Using Python as a calculator\n",
    "\n",
    "Use Python to compute the values of `x`, `y`, and `z`. Print out the value of `z`.\n",
    "\n",
    "$x = 3^{(4-1)} + \\frac{16 * (5^{0} - 2)}{2 * 4}$\n",
    "\n",
    "$y = x^{2} + (3-x)*x$\n",
    "\n",
    "$z = \\frac{y}{x} $\n",
    "\n",
    "Your code should look something like this:\n",
    "```python\n",
    "x = ...\n",
    "y = ...\n",
    "z = ...\n",
    "print(z) \n",
    "```"
   ]
  },
  {
   "cell_type": "markdown",
   "metadata": {},
   "source": [
    "**Solve Task 1:**"
   ]
  },
  {
   "cell_type": "code",
   "execution_count": 1,
   "metadata": {},
   "outputs": [
    {
     "name": "stdout",
     "output_type": "stream",
     "text": [
      "3.0\n"
     ]
    }
   ],
   "source": [
    "# YOUR CODE HERE\n",
    "x = 3 ** (4-1) + 16 * (5**0 -2)/(2*4)\n",
    "y = x**2 + (3-x)*x\n",
    "z = y / x\n",
    "print(z)"
   ]
  },
  {
   "cell_type": "markdown",
   "metadata": {},
   "source": [
    "***\n",
    "## Task 2: Getting familiar with Booleans\n",
    "\n",
    "First, find out what happens if you use mathematical operators on the booleans `True` and `False`. Can you formulate a general rule? For example, you can test the following expressions:\n",
    "\n",
    "```python\n",
    "True + True + True\n",
    "True * 7.5\n",
    "False + 9\n",
    "False - 5\n",
    "True / 4\n",
    "... # and so on - try out what you like!\n",
    "```\n",
    "\n",
    "Next, let's remind ourselves of what the boolean value of objects is. Can you predict what the Boolean value will be for the following expressions?\n",
    "\n",
    "```python\n",
    "bool(28)\n",
    "bool(-5.5)\n",
    "bool(0)\n",
    "bool(\"True\")\n",
    "bool(\"abracadabra\")\n",
    "bool(\"\") # note: \"\" is an empty string object\n",
    "bool(\"false\")\n",
    "# implement the code yourself to check if you were right!\n",
    "```\n"
   ]
  },
  {
   "cell_type": "markdown",
   "metadata": {},
   "source": [
    "**Solve Task 2:**"
   ]
  },
  {
   "cell_type": "code",
   "execution_count": 2,
   "metadata": {},
   "outputs": [],
   "source": [
    "# YOUR CODE HERE - math with booleans:"
   ]
  },
  {
   "cell_type": "code",
   "execution_count": 3,
   "metadata": {},
   "outputs": [
    {
     "data": {
      "text/plain": [
       "3"
      ]
     },
     "execution_count": 3,
     "metadata": {},
     "output_type": "execute_result"
    }
   ],
   "source": [
    "True + True + True # evaluates to 3\n"
   ]
  },
  {
   "cell_type": "code",
   "execution_count": 4,
   "metadata": {},
   "outputs": [
    {
     "data": {
      "text/plain": [
       "7.5"
      ]
     },
     "execution_count": 4,
     "metadata": {},
     "output_type": "execute_result"
    }
   ],
   "source": [
    "True * 7.5 # evaluates to 7.5"
   ]
  },
  {
   "cell_type": "code",
   "execution_count": 5,
   "metadata": {},
   "outputs": [
    {
     "data": {
      "text/plain": [
       "9"
      ]
     },
     "execution_count": 5,
     "metadata": {},
     "output_type": "execute_result"
    }
   ],
   "source": [
    "False + 9 # evaluates to 9"
   ]
  },
  {
   "cell_type": "code",
   "execution_count": 6,
   "metadata": {},
   "outputs": [
    {
     "data": {
      "text/plain": [
       "-5"
      ]
     },
     "execution_count": 6,
     "metadata": {},
     "output_type": "execute_result"
    }
   ],
   "source": [
    "False - 5 # evaluates to -5"
   ]
  },
  {
   "cell_type": "code",
   "execution_count": 7,
   "metadata": {},
   "outputs": [
    {
     "data": {
      "text/plain": [
       "0.25"
      ]
     },
     "execution_count": 7,
     "metadata": {},
     "output_type": "execute_result"
    }
   ],
   "source": [
    "True / 4 # evaluates to 0.25"
   ]
  },
  {
   "cell_type": "markdown",
   "metadata": {},
   "source": [
    "**Insert** your general rule about doing maths with Booleans here\n",
    "\n",
    "In general, Python treats `True` as the number `1`, and `False` as the number `0`"
   ]
  },
  {
   "cell_type": "code",
   "execution_count": 8,
   "metadata": {},
   "outputs": [],
   "source": [
    "# YOUR CODE HERE - truth value of objects"
   ]
  },
  {
   "cell_type": "code",
   "execution_count": 9,
   "metadata": {},
   "outputs": [
    {
     "data": {
      "text/plain": [
       "True"
      ]
     },
     "execution_count": 9,
     "metadata": {},
     "output_type": "execute_result"
    }
   ],
   "source": [
    "bool(28) # evaluates to True"
   ]
  },
  {
   "cell_type": "code",
   "execution_count": 10,
   "metadata": {},
   "outputs": [
    {
     "data": {
      "text/plain": [
       "True"
      ]
     },
     "execution_count": 10,
     "metadata": {},
     "output_type": "execute_result"
    }
   ],
   "source": [
    "bool(-5.5) # evaluates to True"
   ]
  },
  {
   "cell_type": "code",
   "execution_count": 11,
   "metadata": {},
   "outputs": [
    {
     "data": {
      "text/plain": [
       "False"
      ]
     },
     "execution_count": 11,
     "metadata": {},
     "output_type": "execute_result"
    }
   ],
   "source": [
    "bool(0) # evaluates to False"
   ]
  },
  {
   "cell_type": "code",
   "execution_count": 12,
   "metadata": {},
   "outputs": [
    {
     "data": {
      "text/plain": [
       "True"
      ]
     },
     "execution_count": 12,
     "metadata": {},
     "output_type": "execute_result"
    }
   ],
   "source": [
    "bool(\"True\") # evaluates to True"
   ]
  },
  {
   "cell_type": "code",
   "execution_count": 13,
   "metadata": {},
   "outputs": [
    {
     "data": {
      "text/plain": [
       "True"
      ]
     },
     "execution_count": 13,
     "metadata": {},
     "output_type": "execute_result"
    }
   ],
   "source": [
    "bool(\"abracadabra\") # evaluates to True"
   ]
  },
  {
   "cell_type": "code",
   "execution_count": 14,
   "metadata": {},
   "outputs": [
    {
     "data": {
      "text/plain": [
       "False"
      ]
     },
     "execution_count": 14,
     "metadata": {},
     "output_type": "execute_result"
    }
   ],
   "source": [
    "bool(\"\") # evaluates to False"
   ]
  },
  {
   "cell_type": "code",
   "execution_count": 15,
   "metadata": {},
   "outputs": [
    {
     "data": {
      "text/plain": [
       "True"
      ]
     },
     "execution_count": 15,
     "metadata": {},
     "output_type": "execute_result"
    }
   ],
   "source": [
    "# Note: the expression below evaluates to True because it is understood as non-empty string \n",
    "# bools are case-sensitive!! - to evaluate to false, we need to write it with the capital letter:\n",
    "# bool(\"False\")\n",
    "bool(\"false\")"
   ]
  },
  {
   "cell_type": "markdown",
   "metadata": {},
   "source": [
    "**Insert** your general rule about the boolean value of objects here\n",
    "\n",
    "In Python, non-empty objects and all numbers except `0` have the boolean value of `True`, and empty objects and the number `0` have the boolean value of `False`."
   ]
  },
  {
   "cell_type": "markdown",
   "metadata": {},
   "source": [
    "***\n",
    "## Task 3: Casting (converting) data types\n",
    "\n",
    "A quick recap on data types and casting:\n",
    "* to **check** for the data type of the object `x`, use `type(x)`\n",
    "* to **cast** the object `x` to a data type, use `int() float() str() bool()`\n",
    "As in the exercise before, try to predict what the output of each statement will be; then implement it to check if you were correct.\n",
    "\n",
    "```python\n",
    "### checking the type of an object\n",
    "type(3)\n",
    "type(1+2)\n",
    "type(1+2.0)\n",
    "type(9/3)\n",
    "type(\"3\")\n",
    "\n",
    "### int/str/bool to float\n",
    "float(8)\n",
    "float(\"45.5\")\n",
    "float(False)\n",
    "\n",
    "### int/float/bool to str\n",
    "str(1)\n",
    "str(3.5)\n",
    "str(True)\n",
    "\n",
    "### float/str/bool to int\n",
    "int(4.0)\n",
    "int(\"5\")\n",
    "int(False)\n",
    "\n",
    "### ... and some funky combinations:\n",
    "str(int(4.5))\n",
    "str(bool(9)) \n",
    "bool(float(0))\n",
    "float(int(str(7))) \n",
    "```\n",
    "\n",
    "What happens if you convert decimal numbers of type `float` to `int`? Can you formulate a general rule? For example, you can test on the following expressions: \n",
    "```python\n",
    "### decimals to int\n",
    "int(8.9)\n",
    "int(0.999999)\n",
    "int(1.000007)\n",
    "```\n"
   ]
  },
  {
   "cell_type": "markdown",
   "metadata": {},
   "source": [
    "**Solve Task 3**"
   ]
  },
  {
   "cell_type": "code",
   "execution_count": 16,
   "metadata": {},
   "outputs": [],
   "source": [
    "# YOUR CODE HERE - checking the type of an object"
   ]
  },
  {
   "cell_type": "code",
   "execution_count": 17,
   "metadata": {},
   "outputs": [
    {
     "data": {
      "text/plain": [
       "int"
      ]
     },
     "execution_count": 17,
     "metadata": {},
     "output_type": "execute_result"
    }
   ],
   "source": [
    "type(3) # int"
   ]
  },
  {
   "cell_type": "code",
   "execution_count": 18,
   "metadata": {},
   "outputs": [
    {
     "data": {
      "text/plain": [
       "int"
      ]
     },
     "execution_count": 18,
     "metadata": {},
     "output_type": "execute_result"
    }
   ],
   "source": [
    "type(1+2) # still int "
   ]
  },
  {
   "cell_type": "code",
   "execution_count": 19,
   "metadata": {},
   "outputs": [
    {
     "data": {
      "text/plain": [
       "float"
      ]
     },
     "execution_count": 19,
     "metadata": {},
     "output_type": "execute_result"
    }
   ],
   "source": [
    "type(1+2.0) # float"
   ]
  },
  {
   "cell_type": "code",
   "execution_count": 20,
   "metadata": {},
   "outputs": [
    {
     "data": {
      "text/plain": [
       "float"
      ]
     },
     "execution_count": 20,
     "metadata": {},
     "output_type": "execute_result"
    }
   ],
   "source": [
    "type(9/3) # float"
   ]
  },
  {
   "cell_type": "code",
   "execution_count": 21,
   "metadata": {},
   "outputs": [
    {
     "data": {
      "text/plain": [
       "str"
      ]
     },
     "execution_count": 21,
     "metadata": {},
     "output_type": "execute_result"
    }
   ],
   "source": [
    "type(\"3\") # str"
   ]
  },
  {
   "cell_type": "code",
   "execution_count": 22,
   "metadata": {},
   "outputs": [
    {
     "data": {
      "text/plain": [
       "0.0"
      ]
     },
     "execution_count": 22,
     "metadata": {},
     "output_type": "execute_result"
    }
   ],
   "source": [
    "# YOUR CODE HERE - int/str/bool to float\n",
    "float(8) # 8.0\n",
    "float(\"45.5\") # 45.5\n",
    "float(False) # 0.0"
   ]
  },
  {
   "cell_type": "code",
   "execution_count": 23,
   "metadata": {},
   "outputs": [],
   "source": [
    "# YOUR CODE HERE - int/float/bool to str"
   ]
  },
  {
   "cell_type": "code",
   "execution_count": 24,
   "metadata": {},
   "outputs": [
    {
     "data": {
      "text/plain": [
       "'1'"
      ]
     },
     "execution_count": 24,
     "metadata": {},
     "output_type": "execute_result"
    }
   ],
   "source": [
    "str(1) # \"1\""
   ]
  },
  {
   "cell_type": "code",
   "execution_count": 25,
   "metadata": {},
   "outputs": [
    {
     "data": {
      "text/plain": [
       "'3.5'"
      ]
     },
     "execution_count": 25,
     "metadata": {},
     "output_type": "execute_result"
    }
   ],
   "source": [
    "str(3.5) # \"3.5\""
   ]
  },
  {
   "cell_type": "code",
   "execution_count": 26,
   "metadata": {},
   "outputs": [
    {
     "data": {
      "text/plain": [
       "'True'"
      ]
     },
     "execution_count": 26,
     "metadata": {},
     "output_type": "execute_result"
    }
   ],
   "source": [
    "str(True) # \"True\""
   ]
  },
  {
   "cell_type": "code",
   "execution_count": 27,
   "metadata": {},
   "outputs": [],
   "source": [
    "# YOUR CODE HERE - float/str/bool to int"
   ]
  },
  {
   "cell_type": "code",
   "execution_count": 28,
   "metadata": {},
   "outputs": [
    {
     "data": {
      "text/plain": [
       "4"
      ]
     },
     "execution_count": 28,
     "metadata": {},
     "output_type": "execute_result"
    }
   ],
   "source": [
    "int(4.0) # 4"
   ]
  },
  {
   "cell_type": "code",
   "execution_count": 29,
   "metadata": {},
   "outputs": [
    {
     "data": {
      "text/plain": [
       "5"
      ]
     },
     "execution_count": 29,
     "metadata": {},
     "output_type": "execute_result"
    }
   ],
   "source": [
    "int(\"5\") # 5"
   ]
  },
  {
   "cell_type": "code",
   "execution_count": 30,
   "metadata": {},
   "outputs": [
    {
     "data": {
      "text/plain": [
       "0"
      ]
     },
     "execution_count": 30,
     "metadata": {},
     "output_type": "execute_result"
    }
   ],
   "source": [
    "int(False) # 0"
   ]
  },
  {
   "cell_type": "code",
   "execution_count": 31,
   "metadata": {},
   "outputs": [],
   "source": [
    "# YOUR CODE HERE - funky combinations:"
   ]
  },
  {
   "cell_type": "code",
   "execution_count": 32,
   "metadata": {},
   "outputs": [
    {
     "data": {
      "text/plain": [
       "'4'"
      ]
     },
     "execution_count": 32,
     "metadata": {},
     "output_type": "execute_result"
    }
   ],
   "source": [
    "str(int(4.5)) # \"4\""
   ]
  },
  {
   "cell_type": "code",
   "execution_count": 33,
   "metadata": {},
   "outputs": [
    {
     "data": {
      "text/plain": [
       "'True'"
      ]
     },
     "execution_count": 33,
     "metadata": {},
     "output_type": "execute_result"
    }
   ],
   "source": [
    "str(bool(9)) # \"True\""
   ]
  },
  {
   "cell_type": "code",
   "execution_count": 34,
   "metadata": {},
   "outputs": [
    {
     "data": {
      "text/plain": [
       "False"
      ]
     },
     "execution_count": 34,
     "metadata": {},
     "output_type": "execute_result"
    }
   ],
   "source": [
    "bool(float(0)) # True"
   ]
  },
  {
   "cell_type": "code",
   "execution_count": 35,
   "metadata": {},
   "outputs": [
    {
     "data": {
      "text/plain": [
       "7.0"
      ]
     },
     "execution_count": 35,
     "metadata": {},
     "output_type": "execute_result"
    }
   ],
   "source": [
    "float(int(str(7))) # 7.0"
   ]
  },
  {
   "cell_type": "code",
   "execution_count": 36,
   "metadata": {},
   "outputs": [
    {
     "data": {
      "text/plain": [
       "1"
      ]
     },
     "execution_count": 36,
     "metadata": {},
     "output_type": "execute_result"
    }
   ],
   "source": [
    "# YOUR CODE HERE - decimals to int:\n",
    "int(8.9) # 8\n",
    "int(0.999999) # 0\n",
    "int(1.000007) # 1"
   ]
  },
  {
   "cell_type": "markdown",
   "metadata": {},
   "source": [
    "**Insert** your general rule about converting decimals to int here\n",
    "\n",
    "Converting a decimal to int with Python will always round the decimal down to the next-smallest integer (\"floor\")."
   ]
  },
  {
   "cell_type": "markdown",
   "metadata": {},
   "source": [
    "***\n",
    "## Task 4: Combining strings\n",
    "\n",
    "A quick recap:\n",
    "* You can use the `+` operator to concatenate strings\n",
    "* You can use the `*` operator to \"multiply\" a string by an integer x, i.e. to repeat it x times\n",
    "* If you want to concatenate strings with other data types, you need to cast them to `str` first\n",
    "\n",
    "```python\n",
    "a = \"misc\"\n",
    "b = \"ellane\"\n",
    "c = \"ous\"\n",
    "# concatenate the variables a, b and c to obtain the word \"miscellaneous\" printed out\n",
    "\n",
    "x = \"i am\" \n",
    "y = \"very\"\n",
    "z = \"angry\"\n",
    "# concatenate / multiply the variables x, y and to obtain the sentence \"i am very very very very angry\". \n",
    "# insert spaces if needed (within the variable definition, or like so: \" \")\n",
    "\n",
    "myint = 1\n",
    "mybool = True\n",
    "mystr = \"Love\"\n",
    "# combine the variables myint, mybool and mystr to obtain the string \"1 True Love\". Add white spaces if needed.\n",
    "```"
   ]
  },
  {
   "cell_type": "markdown",
   "metadata": {},
   "source": [
    "**Solve Task 4**"
   ]
  },
  {
   "cell_type": "code",
   "execution_count": 37,
   "metadata": {},
   "outputs": [
    {
     "name": "stdout",
     "output_type": "stream",
     "text": [
      "miscellaneous\n"
     ]
    }
   ],
   "source": [
    "# miscellaneous\n",
    "a = \"misc\"\n",
    "b = \"ellane\"\n",
    "c = \"ous\"\n",
    "d = a + b + c\n",
    "print(d)"
   ]
  },
  {
   "cell_type": "code",
   "execution_count": 38,
   "metadata": {},
   "outputs": [
    {
     "name": "stdout",
     "output_type": "stream",
     "text": [
      "i am very very very very angry\n"
     ]
    }
   ],
   "source": [
    "# i am very very very very angry\n",
    "x = \"i am \" # adding a whitespace at the end of the string\n",
    "y = \"very \" # adding a whitespace at the end of the string\n",
    "z = \"angry\"\n",
    "\n",
    "fullsentence = x + 4*y + z\n",
    "print(fullsentence)"
   ]
  },
  {
   "cell_type": "code",
   "execution_count": 39,
   "metadata": {},
   "outputs": [
    {
     "name": "stdout",
     "output_type": "stream",
     "text": [
      "1 True Love\n"
     ]
    }
   ],
   "source": [
    "# 1 True Love\n",
    "myint = 1\n",
    "mybool = True\n",
    "mystr = \"Love\"\n",
    "\n",
    "fullstatement = str(myint) + \" \" + str(mybool) + \" \" + mystr\n",
    "print(fullstatement)\n",
    "# print(myint, mybool, mystr) # (quick solution, does not produce a string!)"
   ]
  },
  {
   "cell_type": "markdown",
   "metadata": {},
   "source": [
    "***\n",
    "## Task 5\n",
    "\n",
    "You are given three Boolean variables:\n",
    "```python  \n",
    "p = True\n",
    "q = False\n",
    "r = True\n",
    "```\n",
    "\n",
    "Below, you are given propositions that combine these variables with logical operators. Try to predict what the output of each statement will be (either `True` or `False`); then implement it to check if you were correct.\n",
    "\n",
    "```python\n",
    "prop1 = p and q \n",
    "prop2 = p or q\n",
    "prop3 = p and not q\n",
    "prop4 = (not p) or (not q)\n",
    "prop5 = (p and q) or (not p and q) or (p or q)\n",
    "prop6 = p and q and r\n",
    "prop7 = (p and q) or r\n",
    "prop8 = p and (q or r)\n",
    "prop9 = (not p or q) or (not p or r)\n",
    "prop10 = (p and r) and (not q) and (q or r)\n",
    "```"
   ]
  },
  {
   "cell_type": "markdown",
   "metadata": {},
   "source": [
    "**Solve Task 5**"
   ]
  },
  {
   "cell_type": "code",
   "execution_count": 40,
   "metadata": {},
   "outputs": [],
   "source": [
    "p = True\n",
    "q = False\n",
    "r = True\n",
    "# YOUR CODE HERE"
   ]
  },
  {
   "cell_type": "code",
   "execution_count": 41,
   "metadata": {},
   "outputs": [
    {
     "data": {
      "text/plain": [
       "False"
      ]
     },
     "execution_count": 41,
     "metadata": {},
     "output_type": "execute_result"
    }
   ],
   "source": [
    "prop1 = p and q \n",
    "prop1"
   ]
  },
  {
   "cell_type": "code",
   "execution_count": 42,
   "metadata": {},
   "outputs": [
    {
     "data": {
      "text/plain": [
       "True"
      ]
     },
     "execution_count": 42,
     "metadata": {},
     "output_type": "execute_result"
    }
   ],
   "source": [
    "prop2 = p or q\n",
    "prop2"
   ]
  },
  {
   "cell_type": "code",
   "execution_count": 43,
   "metadata": {},
   "outputs": [
    {
     "data": {
      "text/plain": [
       "True"
      ]
     },
     "execution_count": 43,
     "metadata": {},
     "output_type": "execute_result"
    }
   ],
   "source": [
    "prop3 = p and not q\n",
    "prop3"
   ]
  },
  {
   "cell_type": "code",
   "execution_count": 44,
   "metadata": {},
   "outputs": [
    {
     "data": {
      "text/plain": [
       "True"
      ]
     },
     "execution_count": 44,
     "metadata": {},
     "output_type": "execute_result"
    }
   ],
   "source": [
    "prop4 = (not p) or (not q)\n",
    "prop4"
   ]
  },
  {
   "cell_type": "code",
   "execution_count": 45,
   "metadata": {},
   "outputs": [
    {
     "data": {
      "text/plain": [
       "True"
      ]
     },
     "execution_count": 45,
     "metadata": {},
     "output_type": "execute_result"
    }
   ],
   "source": [
    "prop5 = (p and q) or (not p and q) or (p or q)\n",
    "prop5"
   ]
  },
  {
   "cell_type": "code",
   "execution_count": 46,
   "metadata": {},
   "outputs": [
    {
     "data": {
      "text/plain": [
       "False"
      ]
     },
     "execution_count": 46,
     "metadata": {},
     "output_type": "execute_result"
    }
   ],
   "source": [
    "prop6 = p and q and r\n",
    "prop6"
   ]
  },
  {
   "cell_type": "code",
   "execution_count": 47,
   "metadata": {},
   "outputs": [
    {
     "data": {
      "text/plain": [
       "True"
      ]
     },
     "execution_count": 47,
     "metadata": {},
     "output_type": "execute_result"
    }
   ],
   "source": [
    "prop7 = (p and q) or r\n",
    "prop7"
   ]
  },
  {
   "cell_type": "code",
   "execution_count": 48,
   "metadata": {},
   "outputs": [
    {
     "data": {
      "text/plain": [
       "True"
      ]
     },
     "execution_count": 48,
     "metadata": {},
     "output_type": "execute_result"
    }
   ],
   "source": [
    "prop8 = p and (q or r)\n",
    "prop8"
   ]
  },
  {
   "cell_type": "code",
   "execution_count": 49,
   "metadata": {},
   "outputs": [
    {
     "data": {
      "text/plain": [
       "True"
      ]
     },
     "execution_count": 49,
     "metadata": {},
     "output_type": "execute_result"
    }
   ],
   "source": [
    "prop9 = (not p or q) or (not p or r)\n",
    "prop9"
   ]
  },
  {
   "cell_type": "code",
   "execution_count": 50,
   "metadata": {},
   "outputs": [
    {
     "data": {
      "text/plain": [
       "True"
      ]
     },
     "execution_count": 50,
     "metadata": {},
     "output_type": "execute_result"
    }
   ],
   "source": [
    "prop10 = (p and r) and (not q) and (q or r)\n",
    "prop10"
   ]
  }
 ],
 "metadata": {
  "kernelspec": {
   "display_name": "base",
   "language": "python",
   "name": "python3"
  },
  "language_info": {
   "codemirror_mode": {
    "name": "ipython",
    "version": 3
   },
   "file_extension": ".py",
   "mimetype": "text/x-python",
   "name": "python",
   "nbconvert_exporter": "python",
   "pygments_lexer": "ipython3",
   "version": "3.8.8"
  },
  "orig_nbformat": 4
 },
 "nbformat": 4,
 "nbformat_minor": 2
}

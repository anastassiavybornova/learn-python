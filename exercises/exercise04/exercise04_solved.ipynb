{
 "cells": [
  {
   "cell_type": "markdown",
   "metadata": {},
   "source": [
    "# Exercise 04\n",
    "\n",
    "* Task 1: At the supermarket (list methods)\n",
    "* Task 2: At the ice cream shop (list/set/tuple methods)\n",
    "* Tasks 3 & 4: `for` loops\n",
    "* Tasks 5 & 6: `while` loops"
   ]
  },
  {
   "cell_type": "markdown",
   "metadata": {},
   "source": [
    "***\n",
    "## Task 1: At the supermarket\n",
    "\n",
    "\n",
    "```python\n",
    "shopping_list = [\"onions\", \"milk\", \"bread\", \"butter\", \"rice\", \"vinger\", \"oil\", \"pineapple\", \"onions\", \"salt\", \"chicken\", \"parsley\", \"mint\", \"sugar\", \"onions\"]\n",
    "```\n",
    "\n",
    "Above, we have defined a shopping list, and a snack list. Use list methods and the  operator to:\n",
    "* add `\"oranges\"` to the shopping list\n",
    "* add the `snacks` list to the shopping list (use `+` or `+=`, **not** `.append()`!)\n",
    "* find out at which list position is the `\"chicken\"`\n",
    "* remove `\"butter\"` from the shopping list (turns out we already have that at home)\n",
    "* count how many times does `\"onions\"` appear on the list\n",
    "* sort the shopping list alphabetically, and print it out\n",
    "* make sure that every item appears only once by converting the list to a set, and saving it into the variable `shopping_set`.\n",
    "* how many *unique* items are in our shopping set now?"
   ]
  },
  {
   "cell_type": "markdown",
   "metadata": {},
   "source": [
    "**Solve Task 1**"
   ]
  },
  {
   "cell_type": "code",
   "execution_count": null,
   "metadata": {},
   "outputs": [],
   "source": [
    "# define the variables \"shopping_list\" and \"snacks\" by running this cell\n",
    "shopping_list = [\n",
    "    \"onions\", \"milk\", \"bread\", \"butter\", \"rice\", \"vinegar\", \n",
    "    \"oil\", \"pineapple\", \"onions\", \"salt\", \"chips\", \"rice\", \n",
    "    \"chicken\", \"parsley\", \"mint\", \"oil\", \"sugar\", \"onions\"\n",
    "    ]\n",
    "snacks = [\"chocolate\", \"ice cream\", \"chips\"]"
   ]
  },
  {
   "cell_type": "code",
   "execution_count": null,
   "metadata": {},
   "outputs": [],
   "source": [
    "# add oranges\n",
    "shopping_list.append(\"oranges\")"
   ]
  },
  {
   "cell_type": "code",
   "execution_count": null,
   "metadata": {},
   "outputs": [],
   "source": [
    "# add snacks\n",
    "shopping_list += snacks"
   ]
  },
  {
   "cell_type": "code",
   "execution_count": null,
   "metadata": {},
   "outputs": [],
   "source": [
    "# where is the chicken?\n",
    "shopping_list.index(\"chicken\")"
   ]
  },
  {
   "cell_type": "code",
   "execution_count": null,
   "metadata": {},
   "outputs": [],
   "source": [
    "# remove the butter\n",
    "shopping_list.remove(\"butter\")"
   ]
  },
  {
   "cell_type": "code",
   "execution_count": null,
   "metadata": {},
   "outputs": [],
   "source": [
    "# Count how many times \"onions\" is on the list\n",
    "shopping_list.count(\"onions\")"
   ]
  },
  {
   "cell_type": "code",
   "execution_count": null,
   "metadata": {},
   "outputs": [],
   "source": [
    "# sort the list alphabetically, and print it out\n",
    "shopping_list.sort()\n",
    "print(shopping_list)"
   ]
  },
  {
   "cell_type": "code",
   "execution_count": null,
   "metadata": {},
   "outputs": [],
   "source": [
    "# convert into a shopping SET\n",
    "shopping_set = set(shopping_list)\n",
    "shopping_set"
   ]
  },
  {
   "cell_type": "code",
   "execution_count": null,
   "metadata": {},
   "outputs": [],
   "source": [
    "# number of unique items in a set = simply the length of the set:\n",
    "len(shopping_set)"
   ]
  },
  {
   "cell_type": "markdown",
   "metadata": {},
   "source": [
    "***\n",
    "## Task 2 - At the ice cream shop\n",
    "\n",
    "You are the owner of an ice cream shop. Your employee who sells the ice cream is a data science student! They decided to write down all ice cream orders of the day in Python. Use `list/set/tuple methods` to find out:\n",
    "* How many ice creams have been sold today?\n",
    "* How many **unique** ice creams have been sold today? \n",
    "> **Note**: the orders are saved as tuples - and for the sake of this exercise, we assume that for ice cream uniqueness, the order matters: `('yoghurt', 'mint')` is **not** the same as `('mint', 'yoghurt')`\n",
    "* How many customers have ordered the same flavor twice? (e.g. `(\"banana\", banana\")`)\n",
    "* Which was the most popular ice cream combination? (There are several ways of finding out. **Hint**: it has been sold five times!)\n",
    "* How many different ice cream flavours have been sold today?"
   ]
  },
  {
   "cell_type": "code",
   "execution_count": null,
   "metadata": {},
   "outputs": [],
   "source": [
    "# run this cell to define the icecream_sold variable\n",
    "icecream_sold = [\n",
    "    ('yoghurt', 'mint'), ('cookie', 'cookie'), ('caramel', 'yoghurt'), ('yoghurt', 'straciatella'), ('caramel', 'straciatella'),\n",
    "    ('vanilla', 'yoghurt'), ('hazelnut', 'banana'), ('straciatella', 'straciatella'), ('cookie', 'cookie'), ('cookie', 'caramel'),\n",
    "    ('banana', 'straciatella'), ('cheesecake', 'cookie'), ('chocolate', 'chocolate'), ('mint', 'hazelnut'), ('hazelnut', 'cheesecake'),\n",
    "    ('caramel', 'vanilla'), ('yoghurt', 'mint'), ('cheesecake', 'vanilla'), ('chocolate', 'cookie'), ('mint', 'strawberry'), ('cookie', 'strawberry'),\n",
    "    ('hazelnut', 'vanilla'), ('yoghurt', 'strawberry'), ('strawberry', 'chocolate'), ('cheesecake', 'cookie'), ('straciatella', 'vanilla'),\n",
    "    ('caramel', 'banana'), ('mint', 'straciatella'), ('caramel', 'strawberry'), ('cookie', 'strawberry'), ('caramel', 'yoghurt'),\n",
    "    ('strawberry', 'mint'), ('mint', 'hazelnut'), ('banana', 'hazelnut'), ('straciatella', 'banana'), ('mint', 'straciatella'),\n",
    "    ('cheesecake', 'chocolate'), ('mint', 'yoghurt'), ('cookie', 'banana'), ('cheesecake', 'mint'), ('banana', 'straciatella'),\n",
    "    ('mint', 'straciatella'), ('straciatella', 'straciatella'), ('cookie', 'mint'), ('cookie', 'straciatella'), ('banana', 'caramel'),\n",
    "    ('mint', 'cheesecake'), ('chocolate', 'banana'), ('cheesecake', 'vanilla'), ('vanilla', 'yoghurt'), ('hazelnut', 'yoghurt'),\n",
    "    ('hazelnut', 'cookie'), ('strawberry', 'cookie'), ('yoghurt', 'cheesecake'), ('cheesecake', 'banana'), ('vanilla', 'hazelnut'), \n",
    "    ('cookie', 'strawberry'), ('mint', 'straciatella'), ('cheesecake', 'vanilla'), ('cookie', 'strawberry'), ('cookie', 'strawberry')\n",
    "]"
   ]
  },
  {
   "cell_type": "code",
   "execution_count": null,
   "metadata": {},
   "outputs": [],
   "source": [
    "# How many ice creams have been sold today?\n",
    "len(icecream_sold)"
   ]
  },
  {
   "cell_type": "code",
   "execution_count": null,
   "metadata": {},
   "outputs": [],
   "source": [
    "# How many UNIQUE ice creams have been sold today?\n",
    "len(set(icecream_sold))"
   ]
  },
  {
   "cell_type": "code",
   "execution_count": null,
   "metadata": {},
   "outputs": [],
   "source": [
    "# How many customers have ordered the same flavour twice?\n",
    "number_of_doubles = 0\n",
    "list_of_doubles = []\n",
    "for icecream in icecream_sold:\n",
    "    if icecream[0]==icecream[1]:\n",
    "        number_of_doubles += 1\n",
    "        list_of_doubles.append(icecream)\n",
    "print(\"orders with twice the same flavor:\", list_of_doubles)\n",
    "print(\"Number of orders with twice the same flavor:\", number_of_doubles)"
   ]
  },
  {
   "cell_type": "code",
   "execution_count": null,
   "metadata": {},
   "outputs": [],
   "source": [
    "# Which was the most popular ice cream combination? (if we already know that it has been sold exactly 5 times)\n",
    "for icecream in icecream_sold:\n",
    "    number_of_orders = icecream_sold.count(icecream)\n",
    "    if number_of_orders == 5:\n",
    "        print(number_of_orders, icecream)"
   ]
  },
  {
   "cell_type": "code",
   "execution_count": null,
   "metadata": {},
   "outputs": [],
   "source": [
    "# Which was the most popular ice cream combination? (option 2 - without using the \"sold 5 times\" information)\n",
    "list_of_counts = []\n",
    "for icecream in icecream_sold:\n",
    "    # for each icecream combination, count the number of times it appears in the list\n",
    "    number_of_orders = icecream_sold.count(icecream)\n",
    "    # ... and append that number to our list_of_counts:\n",
    "    list_of_counts.append(number_of_orders)\n",
    "print(list_of_counts)\n"
   ]
  },
  {
   "cell_type": "code",
   "execution_count": null,
   "metadata": {},
   "outputs": [],
   "source": [
    "# list_of_counts contains the number of times each ice cream combination appears on the list.\n",
    "# find the max on that list:\n",
    "max_number = max(list_of_counts)\n",
    "print(max_number)"
   ]
  },
  {
   "cell_type": "code",
   "execution_count": null,
   "metadata": {},
   "outputs": [],
   "source": [
    "# find the index of the first appearance of 5 on that list:\n",
    "first_max_index = list_of_counts.index(5)"
   ]
  },
  {
   "cell_type": "code",
   "execution_count": null,
   "metadata": {},
   "outputs": [],
   "source": [
    "# find out what ice cream it refers to:\n",
    "icecream_sold[first_max_index]"
   ]
  },
  {
   "cell_type": "code",
   "execution_count": null,
   "metadata": {},
   "outputs": [],
   "source": [
    "# How many different ice cream flavours have been sold?\n",
    "flavors_list = [] # initiate an emtpy list\n",
    "for icecream in icecream_sold:\n",
    "    flavors_list.append(icecream[0])\n",
    "    flavors_list.append(icecream[1])\n",
    "    # append both the first and the second item in the icecream tuple to the list\n",
    "flavors_set = set(flavors_list) # make a set to obtain unique values from the list\n",
    "print(\"Number of unique flavors:\", len(flavors_set))\n",
    "print(\"List of unique flavors:\", flavors_set)"
   ]
  },
  {
   "cell_type": "markdown",
   "metadata": {},
   "source": [
    "***\n",
    "## Task 3\n",
    "\n",
    "**(3a)** Write a function `count_A` that takes a string as an input and uses a `for` loop to count how many times the capital letter `A` appears in it. Test your function on the string `\"THE CAPITAL OF MADAGASCAR IS ANTANANARIVO\"` by asserting that it returns the expected number of letters.\n",
    "\n",
    "**(3b)** Write a modified function, `count_Aa`, which counts both capitalized and small letters (`A` and `a`). Test your modified function on the string `\"A change is as good as a rest\"` by asserting that it returns the expected number of letters.\n"
   ]
  },
  {
   "cell_type": "markdown",
   "metadata": {},
   "source": [
    "**Solve Task 3**"
   ]
  },
  {
   "cell_type": "code",
   "execution_count": null,
   "metadata": {},
   "outputs": [],
   "source": [
    "def count_A(input_string):\n",
    "    count = 0\n",
    "    for letter in input_string:\n",
    "        if letter==\"A\":\n",
    "            count +=1\n",
    "    return count"
   ]
  },
  {
   "cell_type": "code",
   "execution_count": null,
   "metadata": {},
   "outputs": [],
   "source": [
    "assert count_A(\"THE CAPITAL OF MADAGASCAR IS ANTANANARIVO\")==10"
   ]
  },
  {
   "cell_type": "code",
   "execution_count": null,
   "metadata": {},
   "outputs": [],
   "source": [
    "def count_Aa(input_string):\n",
    "    count = 0\n",
    "    for letter in input_string:\n",
    "        if letter in [\"A\", \"a\"]:\n",
    "            count +=1\n",
    "    return count "
   ]
  },
  {
   "cell_type": "code",
   "execution_count": null,
   "metadata": {},
   "outputs": [],
   "source": [
    "assert count_Aa(\"A change is as good as a rest\")==5"
   ]
  },
  {
   "cell_type": "markdown",
   "metadata": {},
   "source": [
    "***\n",
    "## Task 4\n",
    "\n",
    "**(4a)** Use a `for` loop and the variable `my_sum` (initally set to 0) to calculate the sum of all numbers from 0 to 500.\n",
    "\n",
    "**(4b)** Use a `for` loop and the variable `my_sum` (initally set to 0) to calculate the sum of all **even** numbers from 0 to 500.\n",
    "\n",
    "**(4c)** Use a `for` loop and the variable `my_sum` (initally set to 0) to calculate the sum of all **divisible by 7** numbers from 0 to 500.\n",
    "\n",
    "> **Hint:** Use the modulo operator `%` for (4b) and (4c)"
   ]
  },
  {
   "cell_type": "markdown",
   "metadata": {},
   "source": [
    "**Solve Task 4**"
   ]
  },
  {
   "cell_type": "code",
   "execution_count": null,
   "metadata": {},
   "outputs": [],
   "source": [
    "# 4a: sum of numbers from 0 to 500\n",
    "my_sum = 0\n",
    "for i in range(501): # !! to include the number 500, range() must go up to 501\n",
    "    my_sum += i\n",
    "print(my_sum)"
   ]
  },
  {
   "cell_type": "code",
   "execution_count": null,
   "metadata": {},
   "outputs": [],
   "source": [
    "# 4b: sum of all even numbers from 0 to 500\n",
    "# same as above, but using a conditional and the modulo %:\n",
    "my_sum = 0\n",
    "for i in range(501): # !! to include the number 500, range() must go up to 501\n",
    "    if i % 2 == 0:\n",
    "        my_sum += i\n",
    "print(my_sum)"
   ]
  },
  {
   "cell_type": "code",
   "execution_count": null,
   "metadata": {},
   "outputs": [],
   "source": [
    "# 4b: alternative solution: we can also make range() take steps of 2:\n",
    "my_sum = 0\n",
    "for i in range(0, 501, 2):\n",
    "    my_sum += i\n",
    "print(my_sum)"
   ]
  },
  {
   "cell_type": "code",
   "execution_count": null,
   "metadata": {},
   "outputs": [],
   "source": [
    "# 4c: same as above, but now with modulo 7 instead of modulo 2\n",
    "my_sum = 0\n",
    "for i in range(501):\n",
    "    if i % 7 == 0:\n",
    "        my_sum += i\n",
    "print(my_sum)"
   ]
  },
  {
   "cell_type": "markdown",
   "metadata": {},
   "source": [
    "*** \n",
    "## Task 5\n",
    "\n",
    "Use a `while` loop and the assignment operator `+=` to calculate the sum of all numbers from 0 to 500. (Note: this is just a different way of solving task 2a).\n",
    "\n",
    "> **Bonus:** Find an analytical expression to compute this sum with pen&paper. "
   ]
  },
  {
   "cell_type": "markdown",
   "metadata": {},
   "source": [
    "**Solve Task 5**"
   ]
  },
  {
   "cell_type": "code",
   "execution_count": null,
   "metadata": {},
   "outputs": [],
   "source": [
    "my_sum = 0\n",
    "i = 0\n",
    "while i <= 500:\n",
    "    my_sum += i\n",
    "    i += 1\n",
    "my_sum"
   ]
  },
  {
   "cell_type": "code",
   "execution_count": null,
   "metadata": {},
   "outputs": [],
   "source": [
    "# altenative solution of task 5: make an \"eternal\" while loop, but break out of it when i becomes > 500:\n",
    "my_sum = 0\n",
    "i = 0\n",
    "while True:\n",
    "    my_sum += i\n",
    "    i += 1\n",
    "    if i > 500:\n",
    "        break\n",
    "print(my_sum)"
   ]
  },
  {
   "cell_type": "markdown",
   "metadata": {},
   "source": [
    "**analytical expression for the sum:**\n",
    "We can group the first and last, second and second-last, third and third-last... etc. numbers together. Every time, the sum of the two grouped numbers will give us 501: \n",
    "```\n",
    "1 + 500 = 501\n",
    "2 + 499 = 501\n",
    "3 + 498 = 501\n",
    "4 + 497 = 501\n",
    "... etc.\n",
    "250 + 251 = 501\n",
    "```\n",
    "And we can do this 500/2 = 250 times. So, the analytical expression is: `250*501`"
   ]
  },
  {
   "cell_type": "code",
   "execution_count": null,
   "metadata": {},
   "outputs": [],
   "source": [
    "print(250*501)"
   ]
  },
  {
   "cell_type": "markdown",
   "metadata": {},
   "source": [
    "***\n",
    "## Task 6\n",
    "\n",
    "Use a `for` loop **or** a `while` loop to find out how many integers (0 + 1 + 2 +3 ... + n) you need to sum up to obtain 253. (There are many different ways to do this! If you find just 1, that's enough :) \n",
    "\n",
    "**Hints** Think about how and when to break out of the loop; think about how to make sure that at each loop iteration, we increase by 1 the number that we are adding to the sum.\n",
    "\n",
    "> We can (but we don't have to...) write this task as an equation, that we want to solve for `n`:\n",
    "\n",
    "$\\sum_{i=0}^{n}{i}=253$\n"
   ]
  },
  {
   "cell_type": "markdown",
   "metadata": {},
   "source": [
    "**Solve Task 6**"
   ]
  },
  {
   "cell_type": "code",
   "execution_count": null,
   "metadata": {},
   "outputs": [],
   "source": [
    "my_sum = 0\n",
    "count = 0\n",
    "while True:\n",
    "    my_sum += count\n",
    "    if my_sum >= 253:\n",
    "        break # !! break *before* increasing the count to get the right integer at which to stop!\n",
    "    count += 1\n",
    "print(count, my_sum)"
   ]
  },
  {
   "cell_type": "code",
   "execution_count": null,
   "metadata": {},
   "outputs": [],
   "source": [
    "# check with an analytical expression, as above in Task 5, if we coded everything correctly:\n",
    "assert (22+1)*(22/2) == 253"
   ]
  },
  {
   "cell_type": "markdown",
   "metadata": {},
   "source": [
    "***\n",
    "## Task 7 - Find the bug\n",
    "\n",
    "\n",
    "In the code below, somebody tried to remove all 2's from a list by looping through the list *indeces*, and removing the list *element* if its value is equal to 2. \n",
    "* Why does this not work? What is the hidden danger in this code?\n",
    "* Correct the code so that it removes all numbers \"2\" from the list! (there are several ways to do this)\n",
    "\n",
    "```python\n",
    "my_list = [2, 1, 2, 3, 4, 5]\n",
    "for i in range(len(my_list)):\n",
    "     if my_list[i] == 2:\n",
    "        my_list.remove(my_list[i])\n",
    "print(my_list)\n",
    "```"
   ]
  },
  {
   "cell_type": "code",
   "execution_count": null,
   "metadata": {},
   "outputs": [],
   "source": [
    "# Find the bug in the code below!\n",
    "my_list = [2, 1, 2, 3, 4, 5]\n",
    "for i in range(len(my_list)):\n",
    "    if my_list[i] == 2:\n",
    "        my_list.remove(my_list[i])\n",
    "print(my_list)"
   ]
  },
  {
   "cell_type": "code",
   "execution_count": null,
   "metadata": {},
   "outputs": [],
   "source": [
    "# The bug comes from CHANGING the list while we ITERATE over it.\n",
    "# DON'T DO THIS!\n",
    "# A better solution, instead of REMOVING UNWANTED numbers, is to\n",
    "# create a NEW LIST and ADDING WANTED numbers:\n",
    "my_list = [2, 1, 2, 3, 4, 5]\n",
    "my_new_list = []\n",
    "for i in range(len(my_list)):\n",
    "    if my_list[i] != 2: # note that here we changed to \"!=\" instead of \"==\"\n",
    "        my_new_list.append(my_list[i])\n",
    "print(my_new_list)"
   ]
  },
  {
   "cell_type": "markdown",
   "metadata": {},
   "source": []
  }
 ],
 "metadata": {
  "kernelspec": {
   "display_name": "base",
   "language": "python",
   "name": "python3"
  },
  "language_info": {
   "codemirror_mode": {
    "name": "ipython",
    "version": 3
   },
   "file_extension": ".py",
   "mimetype": "text/x-python",
   "name": "python",
   "nbconvert_exporter": "python",
   "pygments_lexer": "ipython3",
   "version": "3.8.8"
  },
  "orig_nbformat": 4
 },
 "nbformat": 4,
 "nbformat_minor": 2
}

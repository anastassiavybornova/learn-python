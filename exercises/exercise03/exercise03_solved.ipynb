{
 "cells": [
  {
   "cell_type": "markdown",
   "metadata": {},
   "source": [
    "# Exercise 03\n",
    "* Task 1: indexing lists\n",
    "* Task 2: slicing strings\n",
    "* Task 3: sum of a list (with casting)\n",
    "* Task 4: `len()` and what it returns\n",
    "* Tasks 5-7: Make your own functions and practice conditional statements\n",
    "* Task 8: Explain the error"
   ]
  },
  {
   "cell_type": "markdown",
   "metadata": {},
   "source": [
    "***\n",
    "## Task 1: Indexing lists\n",
    "\n",
    "```python\n",
    "my_list = [1, 4, 9, 16, 25, 36, 49, 64, 81, 100]\n",
    "```\n",
    "\n",
    "For the list defined above, and for each of the following elements: `1`; `100`; `9`; `49`; `4`, find **two ways** of indexing this element. (hint: you can always use either positive or negative indexing)"
   ]
  },
  {
   "cell_type": "markdown",
   "metadata": {},
   "source": [
    "**Solve Task 1:**"
   ]
  },
  {
   "cell_type": "code",
   "execution_count": null,
   "metadata": {},
   "outputs": [],
   "source": [
    "my_list = [1, 4, 9, 16, 25, 36, 49, 64, 81, 100]"
   ]
  },
  {
   "cell_type": "code",
   "execution_count": null,
   "metadata": {},
   "outputs": [],
   "source": [
    "# index to the element 1\n",
    "my_list[0]\n",
    "my_list[-10]"
   ]
  },
  {
   "cell_type": "code",
   "execution_count": null,
   "metadata": {},
   "outputs": [],
   "source": [
    "# index to the element 100\n",
    "my_list[9]\n",
    "my_list[-1]"
   ]
  },
  {
   "cell_type": "code",
   "execution_count": null,
   "metadata": {},
   "outputs": [],
   "source": [
    "# index to the element 9\n",
    "my_list[2]\n",
    "my_list[-8]"
   ]
  },
  {
   "cell_type": "code",
   "execution_count": null,
   "metadata": {},
   "outputs": [],
   "source": [
    "# index to the element 49\n",
    "my_list[6]\n",
    "my_list[-4]"
   ]
  },
  {
   "cell_type": "code",
   "execution_count": null,
   "metadata": {},
   "outputs": [],
   "source": [
    "# index to the element 4\n",
    "my_list[1]\n",
    "my_list[-9]"
   ]
  },
  {
   "cell_type": "markdown",
   "metadata": {},
   "source": [
    "***\n",
    "## Task 2: Slicing strings\n",
    "\n",
    "```python\n",
    "\"Actions speak louder than words.\"\n",
    "```\n",
    "For the string defined above, use slicing to save each word (without white spaces) in a separate variable. Then, save all variables into a variable called `my_sentence`. When you `print(my_sentence)`, the output should look like: `['Actions', 'speak'...]`"
   ]
  },
  {
   "cell_type": "markdown",
   "metadata": {},
   "source": [
    "**Solve Task 2:**"
   ]
  },
  {
   "cell_type": "code",
   "execution_count": null,
   "metadata": {},
   "outputs": [],
   "source": [
    "my_string = \"Actions speak louder than words.\""
   ]
  },
  {
   "cell_type": "code",
   "execution_count": null,
   "metadata": {},
   "outputs": [],
   "source": [
    "# use slicing to save \"Actions\" into a variable\n",
    "# word1 = mystring[...]\n",
    "# etc. for all other words in my_string"
   ]
  },
  {
   "cell_type": "code",
   "execution_count": null,
   "metadata": {},
   "outputs": [],
   "source": [
    "# recombine all variables into a list\n",
    "# my_sentence = [word1, word2, ...] # etc."
   ]
  },
  {
   "cell_type": "code",
   "execution_count": null,
   "metadata": {},
   "outputs": [],
   "source": [
    "# print it out to check if it worked\n",
    "# print(my_sentence)"
   ]
  },
  {
   "cell_type": "markdown",
   "metadata": {},
   "source": [
    "***\n",
    "# Task 3: Casting, `min()`, `max()`, `sum()` on a list\n",
    "\n",
    "```python\n",
    "my_list = [0, \"1\", 200, 45, \"-80\", \"0.25\", 13, \"515.9\"]\n",
    "```\n",
    "\n",
    "For the list defined above, first replace all its non-numeric elements by their numeric counterparts, using **indexing** and **casting** (`int()` or `float()`). Then, find the min, max, and sum of `my_list` using built-in functions."
   ]
  },
  {
   "cell_type": "markdown",
   "metadata": {},
   "source": [
    "**Solve Task 3:**"
   ]
  },
  {
   "cell_type": "code",
   "execution_count": null,
   "metadata": {},
   "outputs": [],
   "source": [
    "my_list = [0, \"1\", 200, 45, \"-80\", \"0.25\", 13, \"515.9\"]\n",
    "# use indexing and casting to replace all strs by either int or float:\n",
    "# my_list[1] = int(...) etc.\n",
    "my_list[1] = int(my_list[1])\n",
    "my_list[4] = int(my_list[4])\n",
    "my_list[5] = float(my_list[5])\n",
    "my_list[-1] = float(my_list[-1])"
   ]
  },
  {
   "cell_type": "code",
   "execution_count": null,
   "metadata": {},
   "outputs": [],
   "source": [
    "# find the min, max, and sum of my_list\n",
    "print(min(my_list), \"... min\")\n",
    "print(max(my_list), \"...max\")\n",
    "print(sum(my_list), \"...sum\")"
   ]
  },
  {
   "cell_type": "markdown",
   "metadata": {},
   "source": [
    "***\n",
    "## Task 4: The `len()` function in Python\n",
    "\n",
    "For each the variables `a...k` below, first **try to predict** what `len(variable)` will return; then check to see if you were correct.\n",
    "\n",
    "```python\n",
    "a = \"COPEN HAGEN!\"\n",
    "b = [0, 1, 2, 3, 4, 5]\n",
    "c = b[:4]\n",
    "d = b[2:3]\n",
    "e = b[:]\n",
    "f = [True]\n",
    "g = False\n",
    "h = 9.0\n",
    "i = 9\n",
    "j = \"9\"\n",
    "k = [9]\n",
    "```"
   ]
  },
  {
   "cell_type": "markdown",
   "metadata": {},
   "source": [
    "**Solve Task 4:**"
   ]
  },
  {
   "cell_type": "code",
   "execution_count": null,
   "metadata": {},
   "outputs": [],
   "source": [
    "# run this cells to define the variables a-j\n",
    "a = \"COPEN HAGEN!\"\n",
    "b = [0, 1, 2, 3, 4, 5]\n",
    "c = b[:4]\n",
    "d = b[2:3]\n",
    "e = b[:]\n",
    "f = [True]\n",
    "g = False\n",
    "h = 9.0\n",
    "i = 9\n",
    "j = \"9\"\n",
    "k = [9]"
   ]
  },
  {
   "cell_type": "code",
   "execution_count": null,
   "metadata": {},
   "outputs": [],
   "source": [
    "# check their lengths like so: len(a) etc.\n",
    "print(len(a))\n",
    "print(len(b))\n",
    "print(len(c))\n",
    "print(len(d))\n",
    "print(len(e))\n",
    "print(len(f))\n"
   ]
  },
  {
   "cell_type": "code",
   "execution_count": null,
   "metadata": {},
   "outputs": [],
   "source": [
    "### All of the expressions below throw errors because bool/int/float don't have a length\n",
    "# print(len(g))\n",
    "# print(len(h))\n",
    "# print(len(i))\n"
   ]
  },
  {
   "cell_type": "code",
   "execution_count": null,
   "metadata": {},
   "outputs": [],
   "source": [
    "print(len(j))\n",
    "print(len(k))"
   ]
  },
  {
   "cell_type": "markdown",
   "metadata": {},
   "source": [
    "***\n",
    "# Task 5: `find_max` function and input checking\n",
    "\n",
    "**(5a)** Write a function `find_max()` that takes a list of numbers as an input, and returns the biggest number on that list as an output. Remember to add a docstring.\n",
    "\n",
    "**(5b)** Modify `find_max()` so that it first checks the input type, and then either: returns the string `\"Error: can't find max, input is not a list\"` if the input is not a list; or returns the biggest number on the list."
   ]
  },
  {
   "cell_type": "markdown",
   "metadata": {},
   "source": [
    "**Solve Task 5:**"
   ]
  },
  {
   "cell_type": "code",
   "execution_count": null,
   "metadata": {},
   "outputs": [],
   "source": [
    "# 5a: define your function\n",
    "def find_max(my_input):\n",
    "    '''\n",
    "    function that takes as list as input, and returns the biggest number on that list as output \n",
    "    '''\n",
    "    return (max(my_input))"
   ]
  },
  {
   "cell_type": "code",
   "execution_count": null,
   "metadata": {},
   "outputs": [],
   "source": [
    "# test it on some lists\n",
    "print(find_max([1,2,4]))\n",
    "print(find_max([0,9,20]))"
   ]
  },
  {
   "cell_type": "code",
   "execution_count": null,
   "metadata": {},
   "outputs": [],
   "source": [
    "# 5b: modify function so that it checks for type first\n",
    "def find_max(my_input):\n",
    "    '''\n",
    "    function that takes as list as input, and returns the biggest number on that list as output \n",
    "    '''\n",
    "    if not type(my_input) is list: \n",
    "        return \"Error: can't find max, input is not a list\"\n",
    "    else:\n",
    "        return (max(my_input))"
   ]
  },
  {
   "cell_type": "code",
   "execution_count": null,
   "metadata": {},
   "outputs": [],
   "source": [
    "# test it on some lists and non.lists\n",
    "print(find_max([0,0,0,0,4]))\n",
    "print(find_max(\"notalist\"))"
   ]
  },
  {
   "cell_type": "markdown",
   "metadata": {},
   "source": [
    "***\n",
    "## Task 6 - `compare_with_five`\n",
    "\n",
    "**(6a)** Write a block of code that first defines the variable `x` and assigns a numeric value to it (can be any number you want); and then **prints out, depending on the value of x**: either `\"x is bigger than 5\"`, `\"x is smaller than 5\"`, or `\"x equals 5\"`. (use `if/elif/else`)\n",
    "\n",
    "**(6b)** In task 6a above, if `x` is a string, the code will throw a TypeError. (Try it out!) Modify your code, adding one more condition: if `x` is not a numeric (int or float), print `\"x is not numeric\"`; now your code should work even if x is a string. **Hint:** you can use `isinstance()` and the logical operator `or` to make check whether `x` is numeric.\n",
    "\n",
    "**(6c)** \"Wrap\" the code from 6b into a function called `compare_with_five()`. The function should **return** strings instead of printing them. Remember to add a docstring!\n",
    "\n",
    "**(6d)** Test if you implemented the function in task 6c correctly by running the cell with assert statements below. **Note:** `assert statement` simply checks if the `statement` is `True` or `False`. If \"all assertions pass\" (i.e. if all statements after `assert` are `True` and running that cell throws no error message), then your function is correctly implemented. Note that you have to use exactly the same strings as defined above for all assertions to pass."
   ]
  },
  {
   "cell_type": "markdown",
   "metadata": {},
   "source": [
    "**Solve Task 6:**"
   ]
  },
  {
   "cell_type": "code",
   "execution_count": null,
   "metadata": {},
   "outputs": [],
   "source": [
    "# 6a\n",
    "x = 7\n",
    "if x == 5:\n",
    "    print(\"x equals 5\")\n",
    "elif x < 5:\n",
    "    print(\"x is smaller than 5\")\n",
    "elif x > 5:\n",
    "    print(\"x is bigger than 5\")"
   ]
  },
  {
   "cell_type": "code",
   "execution_count": null,
   "metadata": {},
   "outputs": [],
   "source": [
    "# 6b\n",
    "x = \"a\"\n",
    "if type(x) not in [int, float]:\n",
    "    print(\"x is not numeric\")\n",
    "elif x == 5:\n",
    "    print(\"x equals 5\")\n",
    "elif x < 5:\n",
    "    print(\"x is smaller than 5\")\n",
    "elif x > 5:\n",
    "    print(\"x is bigger than 5\")"
   ]
  },
  {
   "cell_type": "code",
   "execution_count": null,
   "metadata": {},
   "outputs": [],
   "source": [
    "# 6c wrap it into a function:\n",
    "def compare_with_five(x):\n",
    "    if type(x) not in [int, float]:\n",
    "        return \"x is not numeric\"\n",
    "    elif x == 5:\n",
    "        return \"x equals 5\"\n",
    "    elif x < 5:\n",
    "        return \"x is smaller than 5\"\n",
    "    elif x > 5:\n",
    "        return \"x is bigger than 5\""
   ]
  },
  {
   "cell_type": "code",
   "execution_count": null,
   "metadata": {},
   "outputs": [],
   "source": [
    "# 6d - run this cell to test if your function is correctly implemented\n",
    "assert compare_with_five(5.0)==\"x equals 5\"\n",
    "assert compare_with_five(-1)==\"x is smaller than 5\"\n",
    "assert compare_with_five(22)==\"x is bigger than 5\"\n",
    "assert compare_with_five(\"notanumber\")==\"x is not numeric\"\n",
    "# if no error message is shown, your function is correctly implemented.\n"
   ]
  },
  {
   "cell_type": "markdown",
   "metadata": {},
   "source": [
    "***\n",
    "## Task 7: `duplicate_anything` function\n",
    "\n",
    "Write a function `duplicate_anything` that returns, depending on the input type:\n",
    "* if the input is a number x (int or float), it returns the doubled number (e.g. if input is `4.5`, the function returns `9`)\n",
    "* if the input is a string, it returns the string repeated twice (e.g. if input is `\"Hey\"`, the function returns `\"HeyHey\"`)\n",
    "* if the input is a boolean, the function returns a list with two Boolean elements (e.g. if input is `True`, the function returns `[True, True]`)\n",
    "* if the input is a list, the function returns the list concatenated with itself (repeated twice; e.g. if input is `[1, 2]`, the function returns `[1, 2, 1, 2]` \n",
    "\n",
    "**Hints**: use `type(input) is ...` to check for the input type; use `if, else, elif` to define different return statements; use the `*` operator to duplicate values (except for the boolean type case). "
   ]
  },
  {
   "cell_type": "markdown",
   "metadata": {},
   "source": [
    "**Solve Task 7:**"
   ]
  },
  {
   "cell_type": "code",
   "execution_count": null,
   "metadata": {},
   "outputs": [],
   "source": [
    "# define your function\n",
    "def duplicate_anything(my_input):\n",
    "    if type(my_input) is bool:\n",
    "        return [my_input, my_input]\n",
    "    elif type(my_input) in [str, int, float, list]:\n",
    "        return my_input * 2"
   ]
  },
  {
   "cell_type": "code",
   "execution_count": null,
   "metadata": {},
   "outputs": [],
   "source": [
    "# you can run this cell to test your function.\n",
    "assert duplicate_anything(2)==4\n",
    "assert duplicate_anything(0)==0\n",
    "assert duplicate_anything(6.5)==13\n",
    "assert duplicate_anything(\"Hey\")==\"HeyHey\"\n",
    "assert duplicate_anything([1,2,3])==[1,2,3,1,2,3]\n",
    "assert duplicate_anything(True)==[True,True]\n",
    "# if no error message is shown, your function is correctly implemented."
   ]
  },
  {
   "cell_type": "markdown",
   "metadata": {},
   "source": [
    "***\n",
    "## Task 8: Explain the error\n",
    "\n",
    "Each of the expressions below will throw an error. Try to find out why, and explain the error in your own words!\n",
    "\n",
    "```python\n",
    "x = int(\"8.7\")\n",
    "8 in 9\n",
    "max(9)\n",
    "sum([\"1\", \"2\"])\n",
    "20 / 0\n",
    "```"
   ]
  },
  {
   "cell_type": "code",
   "execution_count": null,
   "metadata": {},
   "outputs": [],
   "source": [
    "x = int(\"8.7\")"
   ]
  },
  {
   "cell_type": "code",
   "execution_count": null,
   "metadata": {},
   "outputs": [],
   "source": [
    "8 in 9"
   ]
  },
  {
   "cell_type": "code",
   "execution_count": null,
   "metadata": {},
   "outputs": [],
   "source": [
    "max(9)"
   ]
  },
  {
   "cell_type": "code",
   "execution_count": null,
   "metadata": {},
   "outputs": [],
   "source": [
    "sum([\"1\", \"2\"])"
   ]
  },
  {
   "cell_type": "code",
   "execution_count": null,
   "metadata": {},
   "outputs": [],
   "source": [
    "20 / 0"
   ]
  },
  {
   "cell_type": "markdown",
   "metadata": {},
   "source": []
  }
 ],
 "metadata": {
  "kernelspec": {
   "display_name": "base",
   "language": "python",
   "name": "python3"
  },
  "language_info": {
   "codemirror_mode": {
    "name": "ipython",
    "version": 3
   },
   "file_extension": ".py",
   "mimetype": "text/x-python",
   "name": "python",
   "nbconvert_exporter": "python",
   "pygments_lexer": "ipython3",
   "version": "3.8.8"
  },
  "orig_nbformat": 4
 },
 "nbformat": 4,
 "nbformat_minor": 2
}
